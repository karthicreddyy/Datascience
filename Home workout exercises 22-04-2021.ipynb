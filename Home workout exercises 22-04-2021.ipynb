{
 "cells": [
  {
   "cell_type": "code",
   "execution_count": 13,
   "metadata": {},
   "outputs": [
    {
     "name": "stdout",
     "output_type": "stream",
     "text": [
      "The number of even numbers is 1 and number of odd numbers is 1\n"
     ]
    }
   ],
   "source": [
    "##Count the number of odd and even number from a series of numbers\n",
    "strt = 99\n",
    "end = 100\n",
    "\n",
    "even = 0\n",
    "odd = 0\n",
    "for i in range(strt, end+1, 1):\n",
    "    if i % 2 ==0:\n",
    "        even+=1\n",
    "    else:\n",
    "        odd+=1\n",
    "print(\"The number of even numbers is\", even, \"and number of odd numbers is\", odd)"
   ]
  },
  {
   "cell_type": "code",
   "execution_count": 63,
   "metadata": {},
   "outputs": [
    {
     "name": "stdout",
     "output_type": "stream",
     "text": [
      "[200, 202, 204, 206, 208, 220, 222, 224, 226, 228, 240, 242, 244, 246, 248, 260, 262, 264, 266, 268, 280, 282, 284, 286, 288, 400]\n"
     ]
    }
   ],
   "source": [
    "##Program to find numbers between 100 and 400 (both included) where each digit of a number is an even number\n",
    "\n",
    "strt = 200\n",
    "end = 210\n",
    "a=[]\n",
    "final =[]\n",
    "for i in range(strt, end+1, 1):\n",
    "    a=list(str(i))\n",
    "    s=0\n",
    "    for j in (a):\n",
    "        if int(j) % 2 == 0:\n",
    "            s+=1\n",
    "        else:\n",
    "            s-=1\n",
    "    if s>= 3:\n",
    "        final.append(i)\n",
    "print(final)\n",
    "  "
   ]
  },
  {
   "cell_type": "code",
   "execution_count": 11,
   "metadata": {},
   "outputs": [
    {
     "name": "stdout",
     "output_type": "stream",
     "text": [
      "[200, 202, 204, 206, 208, 220, 222, 224, 226, 228, 240, 242, 244, 246, 248, 260, 262, 264, 266, 268, 280, 282, 284, 286, 288, 400]\n"
     ]
    }
   ],
   "source": [
    "##Program to find numbers between 100 and 400 (both included) where each digit of a number is an even number\n",
    "\n",
    "strt = 100\n",
    "end = 400\n",
    "a=[]\n",
    "final =[]\n",
    "for i in range(strt, end+1, 1):\n",
    "    a=set(str(i))\n",
    "    DNP=False\n",
    "    for j in (a):\n",
    "        if int(j) % 2 != 0:\n",
    "            DNP = True\n",
    "            break\n",
    "    if DNP == False:\n",
    "        final.append(i)\n",
    "print(final)\n",
    "  "
   ]
  },
  {
   "cell_type": "code",
   "execution_count": 67,
   "metadata": {},
   "outputs": [
    {
     "name": "stdout",
     "output_type": "stream",
     "text": [
      "Dog age in dog years is 93.0\n"
     ]
    }
   ],
   "source": [
    "#Calculate dog's age\n",
    "##For the first two years, a dog year is equal to 10.5 human years. After that, each dog year equals 4 human years\n",
    "\n",
    "dog_age = 20\n",
    "\n",
    "if dog_age > 2:\n",
    "    dog_years = 10.5 * 2\n",
    "    dog_age1 = dog_age - 2\n",
    "    dog_years = dog_years + (dog_age1 * 4)\n",
    "else:\n",
    "    dog_years = dog_age * 10.5\n",
    "\n",
    "print(\"Dog age in dog years is\", dog_years)"
   ]
  },
  {
   "cell_type": "code",
   "execution_count": 6,
   "metadata": {},
   "outputs": [
    {
     "name": "stdout",
     "output_type": "stream",
     "text": [
      "inside i loop 1\n",
      "outside i loop 1\n",
      "inside i loop 2\n",
      "Inside j loop 1\n",
      "inside if condition 1\n",
      "outside i loop 2\n",
      "inside i loop 3\n",
      "Inside j loop 1\n",
      "inside if condition 1\n",
      "Inside j loop 2\n",
      "inside if condition 2\n",
      "outside i loop 3\n",
      "inside i loop 4\n",
      "Inside j loop 1\n",
      "inside if condition 1\n",
      "Inside j loop 2\n",
      "inside if condition 2\n",
      "Inside j loop 3\n",
      "outside i loop 4\n",
      "inside i loop 5\n",
      "Inside j loop 1\n",
      "inside if condition 1\n",
      "Inside j loop 2\n",
      "inside if condition 2\n",
      "Inside j loop 3\n",
      "outside i loop 5\n",
      "Exited all the loops\n"
     ]
    }
   ],
   "source": [
    "##Testing break in nested for\n",
    "lst = [1,2,3,4,5]\n",
    "\n",
    "for i in lst:\n",
    "    print(\"inside i loop\", i)\n",
    "    for j in range(1,i,1):\n",
    "        print(\"Inside j loop\", j)\n",
    "        if j==3:\n",
    "            break\n",
    "        else:\n",
    "            print(\"inside if condition\", j)\n",
    "    print(\"outside i loop\", i)\n",
    "print(\"Exited all the loops\")"
   ]
  },
  {
   "cell_type": "code",
   "execution_count": 25,
   "metadata": {},
   "outputs": [
    {
     "name": "stdout",
     "output_type": "stream",
     "text": [
      "The largest of three numbers in 3 6 12 is  12\n"
     ]
    }
   ],
   "source": [
    "##Max of 3 numbers function\n",
    "def max_3_nos(fn, sn, tn):\n",
    "    tmp = 0\n",
    "    if fn > sn:\n",
    "        if fn > tn:\n",
    "            tmp = fn\n",
    "        else:\n",
    "            tmp=tn\n",
    "    elif sn > tn:\n",
    "        tmp = sn\n",
    "    else:\n",
    "        tmp = tn\n",
    "    print(\"The largest of three numbers in\", fn, sn, tn, \"is \",tmp)\n",
    "\n",
    "\n",
    "max_3_nos(3,6,12)"
   ]
  },
  {
   "cell_type": "code",
   "execution_count": 60,
   "metadata": {},
   "outputs": [
    {
     "name": "stdout",
     "output_type": "stream",
     "text": [
      "Given number 869 is not a prime number\n"
     ]
    }
   ],
   "source": [
    "#Prime number function\n",
    "\n",
    "def prime_no(num):\n",
    "    if  num > 3:\n",
    "        if num % 2 ==0 or num % 3 == 0 or num % 5 == 0 or num % 7 == 0 or num % 9 == 0 or num % 11 == 0 or num % 13 == 0 or num % 17 == 0 or num % 19 == 0:\n",
    "            print(\"Given number\",num, \"is not a prime number\")\n",
    "            return\n",
    "    elif num < 1:\n",
    "        print(\"Given number\",num, \"is not a prime number\")\n",
    "        return\n",
    "    \n",
    "    print(\"Given number\",num, \"is a prime number\")\n",
    "    \n",
    "prime_no(869)"
   ]
  },
  {
   "cell_type": "code",
   "execution_count": 95,
   "metadata": {},
   "outputs": [
    {
     "name": "stdout",
     "output_type": "stream",
     "text": [
      "Number of Upper Case in the string is 13\n",
      "Number of Lower Case in the string is 32\n",
      "Number of Special characters or numbers in the string is 9\n"
     ]
    }
   ],
   "source": [
    "#Calculate Upper and Lower Case in a string\n",
    "\n",
    "def Case_Count(Str):\n",
    "    A = list(str)\n",
    "    lc= 0\n",
    "    uc=0\n",
    "    sc=0\n",
    "    for i in A:\n",
    "        if i >= \"a\" and i <= \"z\":\n",
    "            lc+=1\n",
    "        elif i >= \"A\" and i <= \"Z\":\n",
    "            uc+=1\n",
    "        else:\n",
    "            sc+=1\n",
    "    print(\"Number of Upper Case in the string is\",uc)\n",
    "    print(\"Number of Lower Case in the string is\",lc)\n",
    "    print(\"Number of Special characters or numbers in the string is\",sc)\n",
    "    return\n",
    "\n",
    "Case_Count(\"Inceptz is One of The BeSt Places TO LEarn DataSciEnce\")"
   ]
  },
  {
   "cell_type": "code",
   "execution_count": 13,
   "metadata": {},
   "outputs": [
    {
     "name": "stdout",
     "output_type": "stream",
     "text": [
      "dcba4321\n"
     ]
    }
   ],
   "source": [
    "##Reverse String\n",
    "str1 = \"1234abcd\"\n",
    "\n",
    "rvrse = str1[::-1]\n",
    "\n",
    "print(rvrse)\n"
   ]
  },
  {
   "cell_type": "code",
   "execution_count": 25,
   "metadata": {},
   "outputs": [
    {
     "name": "stdout",
     "output_type": "stream",
     "text": [
      "malayalam is palindrome\n"
     ]
    }
   ],
   "source": [
    "## Palindrome\n",
    "\n",
    "def palindrome(str1):\n",
    "    if str1.lower() == str1[::-1].lower():\n",
    "        print(str1,\"is palindrome\")\n",
    "    else:\n",
    "        print(str1,\"is not a palindrome\")\n",
    "        \n",
    "palindrome(\"malayalam\")"
   ]
  },
  {
   "cell_type": "code",
   "execution_count": 32,
   "metadata": {},
   "outputs": [
    {
     "name": "stdout",
     "output_type": "stream",
     "text": [
      "!yppah ma I\n"
     ]
    }
   ],
   "source": [
    "## String Reversal - alternate\n",
    "\n",
    "str1 = \"I am happy!\"\n",
    "\n",
    "A = list(str1)\n",
    "\n",
    "rvr = \"\"\n",
    "for i in A[::-1]:\n",
    "    rvr+=i\n",
    "print(rvr)"
   ]
  },
  {
   "cell_type": "code",
   "execution_count": 56,
   "metadata": {},
   "outputs": [
    {
     "name": "stdout",
     "output_type": "stream",
     "text": [
      "7\n",
      "yo banana boy is not a palindrome\n"
     ]
    }
   ],
   "source": [
    "## Palindrome alternate version\n",
    "\n",
    "def pal(str1):\n",
    "    A = list(str1)\n",
    "    rvr = []\n",
    "    for i in A[::-1]:\n",
    "        rvr+=i\n",
    "        \n",
    "    len1 = (int(len(str1)/2) + len(str1) % 2)\n",
    "    print (len1)\n",
    "    for j in range(len1):\n",
    "        if str1[j] != rvr[j]:\n",
    "            palin = False\n",
    "            break\n",
    "        else:\n",
    "            palin = True\n",
    "    if palin == True:\n",
    "        print(str1,\"is a Palindrome\")\n",
    "    else:\n",
    "        print(str1,\"is not a palindrome\")\n",
    "    \n",
    "pal(\"yo banana boy\")"
   ]
  },
  {
   "cell_type": "code",
   "execution_count": null,
   "metadata": {},
   "outputs": [],
   "source": []
  }
 ],
 "metadata": {
  "kernelspec": {
   "display_name": "Python 3",
   "language": "python",
   "name": "python3"
  },
  "language_info": {
   "codemirror_mode": {
    "name": "ipython",
    "version": 3
   },
   "file_extension": ".py",
   "mimetype": "text/x-python",
   "name": "python",
   "nbconvert_exporter": "python",
   "pygments_lexer": "ipython3",
   "version": "3.8.5"
  }
 },
 "nbformat": 4,
 "nbformat_minor": 4
}
