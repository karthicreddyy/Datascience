{
 "cells": [
  {
   "cell_type": "code",
   "execution_count": 1,
   "metadata": {},
   "outputs": [],
   "source": [
    "import pandas as pd\n",
    "import numpy as np\n",
    "from sklearn.linear_model import LinearRegression\n",
    "import matplotlib.pyplot as plt"
   ]
  },
  {
   "cell_type": "code",
   "execution_count": 136,
   "metadata": {},
   "outputs": [],
   "source": [
    "bike = pd.read_csv(r\"C:\\Users\\mailk\\OneDrive\\Desktop\\AI and ML\\Linear Regression\\Bike_Share\\bike_share.csv\")"
   ]
  },
  {
   "cell_type": "code",
   "execution_count": 235,
   "metadata": {},
   "outputs": [
    {
     "data": {
      "text/html": [
       "<div>\n",
       "<style scoped>\n",
       "    .dataframe tbody tr th:only-of-type {\n",
       "        vertical-align: middle;\n",
       "    }\n",
       "\n",
       "    .dataframe tbody tr th {\n",
       "        vertical-align: top;\n",
       "    }\n",
       "\n",
       "    .dataframe thead th {\n",
       "        text-align: right;\n",
       "    }\n",
       "</style>\n",
       "<table border=\"1\" class=\"dataframe\">\n",
       "  <thead>\n",
       "    <tr style=\"text-align: right;\">\n",
       "      <th></th>\n",
       "      <th>season</th>\n",
       "      <th>holiday</th>\n",
       "      <th>workingday</th>\n",
       "      <th>weather</th>\n",
       "      <th>temp</th>\n",
       "      <th>atemp</th>\n",
       "      <th>humidity</th>\n",
       "      <th>windspeed</th>\n",
       "      <th>casual</th>\n",
       "      <th>registered</th>\n",
       "      <th>count</th>\n",
       "    </tr>\n",
       "  </thead>\n",
       "  <tbody>\n",
       "    <tr>\n",
       "      <th>0</th>\n",
       "      <td>1.0</td>\n",
       "      <td>0.0</td>\n",
       "      <td>0.0</td>\n",
       "      <td>1.0</td>\n",
       "      <td>9.84</td>\n",
       "      <td>14.395</td>\n",
       "      <td>81.0</td>\n",
       "      <td>0.0000</td>\n",
       "      <td>3.0</td>\n",
       "      <td>13.0</td>\n",
       "      <td>16.0</td>\n",
       "    </tr>\n",
       "    <tr>\n",
       "      <th>1</th>\n",
       "      <td>1.0</td>\n",
       "      <td>0.0</td>\n",
       "      <td>0.0</td>\n",
       "      <td>1.0</td>\n",
       "      <td>9.02</td>\n",
       "      <td>13.635</td>\n",
       "      <td>80.0</td>\n",
       "      <td>0.0000</td>\n",
       "      <td>8.0</td>\n",
       "      <td>32.0</td>\n",
       "      <td>40.0</td>\n",
       "    </tr>\n",
       "    <tr>\n",
       "      <th>2</th>\n",
       "      <td>1.0</td>\n",
       "      <td>0.0</td>\n",
       "      <td>0.0</td>\n",
       "      <td>1.0</td>\n",
       "      <td>9.02</td>\n",
       "      <td>13.635</td>\n",
       "      <td>80.0</td>\n",
       "      <td>0.0000</td>\n",
       "      <td>5.0</td>\n",
       "      <td>27.0</td>\n",
       "      <td>32.0</td>\n",
       "    </tr>\n",
       "    <tr>\n",
       "      <th>3</th>\n",
       "      <td>1.0</td>\n",
       "      <td>0.0</td>\n",
       "      <td>0.0</td>\n",
       "      <td>1.0</td>\n",
       "      <td>9.84</td>\n",
       "      <td>14.395</td>\n",
       "      <td>75.0</td>\n",
       "      <td>0.0000</td>\n",
       "      <td>3.0</td>\n",
       "      <td>10.0</td>\n",
       "      <td>13.0</td>\n",
       "    </tr>\n",
       "    <tr>\n",
       "      <th>4</th>\n",
       "      <td>1.0</td>\n",
       "      <td>0.0</td>\n",
       "      <td>0.0</td>\n",
       "      <td>1.0</td>\n",
       "      <td>9.84</td>\n",
       "      <td>14.395</td>\n",
       "      <td>75.0</td>\n",
       "      <td>0.0000</td>\n",
       "      <td>0.0</td>\n",
       "      <td>1.0</td>\n",
       "      <td>1.0</td>\n",
       "    </tr>\n",
       "    <tr>\n",
       "      <th>5</th>\n",
       "      <td>1.0</td>\n",
       "      <td>0.0</td>\n",
       "      <td>0.0</td>\n",
       "      <td>2.0</td>\n",
       "      <td>9.84</td>\n",
       "      <td>12.880</td>\n",
       "      <td>75.0</td>\n",
       "      <td>6.0032</td>\n",
       "      <td>0.0</td>\n",
       "      <td>1.0</td>\n",
       "      <td>1.0</td>\n",
       "    </tr>\n",
       "    <tr>\n",
       "      <th>6</th>\n",
       "      <td>1.0</td>\n",
       "      <td>0.0</td>\n",
       "      <td>0.0</td>\n",
       "      <td>1.0</td>\n",
       "      <td>9.02</td>\n",
       "      <td>13.635</td>\n",
       "      <td>80.0</td>\n",
       "      <td>0.0000</td>\n",
       "      <td>2.0</td>\n",
       "      <td>0.0</td>\n",
       "      <td>2.0</td>\n",
       "    </tr>\n",
       "    <tr>\n",
       "      <th>7</th>\n",
       "      <td>1.0</td>\n",
       "      <td>0.0</td>\n",
       "      <td>0.0</td>\n",
       "      <td>1.0</td>\n",
       "      <td>8.20</td>\n",
       "      <td>12.880</td>\n",
       "      <td>86.0</td>\n",
       "      <td>0.0000</td>\n",
       "      <td>1.0</td>\n",
       "      <td>2.0</td>\n",
       "      <td>3.0</td>\n",
       "    </tr>\n",
       "    <tr>\n",
       "      <th>8</th>\n",
       "      <td>1.0</td>\n",
       "      <td>0.0</td>\n",
       "      <td>0.0</td>\n",
       "      <td>1.0</td>\n",
       "      <td>9.84</td>\n",
       "      <td>14.395</td>\n",
       "      <td>75.0</td>\n",
       "      <td>0.0000</td>\n",
       "      <td>1.0</td>\n",
       "      <td>7.0</td>\n",
       "      <td>8.0</td>\n",
       "    </tr>\n",
       "    <tr>\n",
       "      <th>9</th>\n",
       "      <td>1.0</td>\n",
       "      <td>0.0</td>\n",
       "      <td>0.0</td>\n",
       "      <td>1.0</td>\n",
       "      <td>13.12</td>\n",
       "      <td>17.425</td>\n",
       "      <td>76.0</td>\n",
       "      <td>0.0000</td>\n",
       "      <td>8.0</td>\n",
       "      <td>6.0</td>\n",
       "      <td>14.0</td>\n",
       "    </tr>\n",
       "  </tbody>\n",
       "</table>\n",
       "</div>"
      ],
      "text/plain": [
       "   season  holiday  workingday  weather   temp   atemp  humidity  windspeed  \\\n",
       "0     1.0      0.0         0.0      1.0   9.84  14.395      81.0     0.0000   \n",
       "1     1.0      0.0         0.0      1.0   9.02  13.635      80.0     0.0000   \n",
       "2     1.0      0.0         0.0      1.0   9.02  13.635      80.0     0.0000   \n",
       "3     1.0      0.0         0.0      1.0   9.84  14.395      75.0     0.0000   \n",
       "4     1.0      0.0         0.0      1.0   9.84  14.395      75.0     0.0000   \n",
       "5     1.0      0.0         0.0      2.0   9.84  12.880      75.0     6.0032   \n",
       "6     1.0      0.0         0.0      1.0   9.02  13.635      80.0     0.0000   \n",
       "7     1.0      0.0         0.0      1.0   8.20  12.880      86.0     0.0000   \n",
       "8     1.0      0.0         0.0      1.0   9.84  14.395      75.0     0.0000   \n",
       "9     1.0      0.0         0.0      1.0  13.12  17.425      76.0     0.0000   \n",
       "\n",
       "   casual  registered  count  \n",
       "0     3.0        13.0   16.0  \n",
       "1     8.0        32.0   40.0  \n",
       "2     5.0        27.0   32.0  \n",
       "3     3.0        10.0   13.0  \n",
       "4     0.0         1.0    1.0  \n",
       "5     0.0         1.0    1.0  \n",
       "6     2.0         0.0    2.0  \n",
       "7     1.0         2.0    3.0  \n",
       "8     1.0         7.0    8.0  \n",
       "9     8.0         6.0   14.0  "
      ]
     },
     "execution_count": 235,
     "metadata": {},
     "output_type": "execute_result"
    }
   ],
   "source": [
    "bike.head(10)"
   ]
  },
  {
   "cell_type": "code",
   "execution_count": 4,
   "metadata": {},
   "outputs": [
    {
     "data": {
      "text/plain": [
       "(10886, 11)"
      ]
     },
     "execution_count": 4,
     "metadata": {},
     "output_type": "execute_result"
    }
   ],
   "source": [
    "bike.shape"
   ]
  },
  {
   "cell_type": "code",
   "execution_count": 5,
   "metadata": {},
   "outputs": [
    {
     "data": {
      "text/plain": [
       "Text(0.5, 1.0, 'temp Vs reg_cnt')"
      ]
     },
     "execution_count": 5,
     "metadata": {},
     "output_type": "execute_result"
    },
    {
     "data": {
      "image/png": "[encoded data removed]",
      "text/plain": [
       "<Figure size 432x288 with 1 Axes>"
      ]
     },
     "metadata": {
      "needs_background": "light"
     },
     "output_type": "display_data"
    }
   ],
   "source": [
    "plt.scatter(bike['temp'], bike['registered'])\n",
    "plt.xlabel('temp')\n",
    "plt.ylabel('reg_cnt')\n",
    "plt.title('temp Vs reg_cnt')"
   ]
  },
  {
   "cell_type": "code",
   "execution_count": 6,
   "metadata": {},
   "outputs": [
    {
     "data": {
      "text/plain": [
       "count    10886.00000\n",
       "mean        20.23086\n",
       "std          7.79159\n",
       "min          0.82000\n",
       "25%         13.94000\n",
       "50%         20.50000\n",
       "75%         26.24000\n",
       "max         41.00000\n",
       "Name: temp, dtype: float64"
      ]
     },
     "execution_count": 6,
     "metadata": {},
     "output_type": "execute_result"
    }
   ],
   "source": [
    "bike.temp.describe()"
   ]
  },
  {
   "cell_type": "code",
   "execution_count": 7,
   "metadata": {},
   "outputs": [
    {
     "data": {
      "text/plain": [
       "season        0\n",
       "holiday       0\n",
       "workingday    0\n",
       "weather       0\n",
       "temp          0\n",
       "atemp         0\n",
       "humidity      0\n",
       "windspeed     0\n",
       "casual        0\n",
       "registered    0\n",
       "count         0\n",
       "dtype: int64"
      ]
     },
     "execution_count": 7,
     "metadata": {},
     "output_type": "execute_result"
    }
   ],
   "source": [
    "bike.isna().sum()"
   ]
  },
  {
   "cell_type": "code",
   "execution_count": 8,
   "metadata": {},
   "outputs": [
    {
     "data": {
      "text/plain": [
       "0    10575\n",
       "1      311\n",
       "Name: holiday, dtype: int64"
      ]
     },
     "execution_count": 8,
     "metadata": {},
     "output_type": "execute_result"
    }
   ],
   "source": [
    "bike.holiday.value_counts()"
   ]
  },
  {
   "cell_type": "code",
   "execution_count": 9,
   "metadata": {},
   "outputs": [
    {
     "data": {
      "text/plain": [
       "1    7412\n",
       "0    3474\n",
       "Name: workingday, dtype: int64"
      ]
     },
     "execution_count": 9,
     "metadata": {},
     "output_type": "execute_result"
    }
   ],
   "source": [
    "bike.workingday.value_counts()"
   ]
  },
  {
   "cell_type": "code",
   "execution_count": 10,
   "metadata": {},
   "outputs": [],
   "source": [
    "a = (1,2,3,4,5,6,7)"
   ]
  },
  {
   "cell_type": "code",
   "execution_count": 11,
   "metadata": {},
   "outputs": [
    {
     "data": {
      "text/plain": [
       "(1, 2, 3, 4, 5, 6, 7)"
      ]
     },
     "execution_count": 11,
     "metadata": {},
     "output_type": "execute_result"
    }
   ],
   "source": [
    "a"
   ]
  },
  {
   "cell_type": "code",
   "execution_count": 12,
   "metadata": {},
   "outputs": [],
   "source": [
    "b = pd.DataFrame(a)"
   ]
  },
  {
   "cell_type": "code",
   "execution_count": 13,
   "metadata": {},
   "outputs": [
    {
     "data": {
      "text/plain": [
       "(1, 2, 3, 4, 5, 6, 7)"
      ]
     },
     "execution_count": 13,
     "metadata": {},
     "output_type": "execute_result"
    }
   ],
   "source": [
    "a"
   ]
  },
  {
   "cell_type": "code",
   "execution_count": 14,
   "metadata": {},
   "outputs": [
    {
     "data": {
      "text/plain": [
       "0    4.0\n",
       "Name: 0.5, dtype: float64"
      ]
     },
     "execution_count": 14,
     "metadata": {},
     "output_type": "execute_result"
    }
   ],
   "source": [
    "b.quantile(.50)"
   ]
  },
  {
   "cell_type": "code",
   "execution_count": 118,
   "metadata": {},
   "outputs": [],
   "source": [
    "filt = (bike.registered > 0) & (bike.temp < 5)"
   ]
  },
  {
   "cell_type": "code",
   "execution_count": 120,
   "metadata": {},
   "outputs": [
    {
     "data": {
      "text/plain": [
       "median    119.000000\n",
       "max       886.000000\n",
       "min         1.000000\n",
       "mean      155.766811\n",
       "Name: registered, dtype: float64"
      ]
     },
     "execution_count": 120,
     "metadata": {},
     "output_type": "execute_result"
    }
   ],
   "source": [
    "bike[filt]['registered'].agg({'mean', 'median','min', 'max'})"
   ]
  },
  {
   "cell_type": "code",
   "execution_count": 17,
   "metadata": {},
   "outputs": [
    {
     "data": {
      "text/plain": [
       "<bound method Series.sort_values of 3      195\n",
       "4      190\n",
       "5      177\n",
       "6      155\n",
       "2      150\n",
       "      ... \n",
       "577      1\n",
       "561      1\n",
       "537      1\n",
       "521      1\n",
       "839      1\n",
       "Name: registered, Length: 731, dtype: int64>"
      ]
     },
     "execution_count": 17,
     "metadata": {},
     "output_type": "execute_result"
    }
   ],
   "source": [
    "bike.registered.value_counts().sort_values"
   ]
  },
  {
   "cell_type": "code",
   "execution_count": null,
   "metadata": {},
   "outputs": [],
   "source": []
  },
  {
   "cell_type": "code",
   "execution_count": 41,
   "metadata": {},
   "outputs": [
    {
     "name": "stdout",
     "output_type": "stream",
     "text": [
      "season\n",
      "holiday\n",
      "workingday\n",
      "weather\n",
      "temp\n",
      "atemp\n",
      "humidity\n",
      "windspeed\n",
      "casual\n",
      "registered\n"
     ]
    }
   ],
   "source": [
    "for col_name in bike.select_dtypes(include=np.number).columns[:-1]:\n",
    "    print(col_name)\n",
    "    q1 = bike[col_name].quantile(0.25)\n",
    "    q3 = bike[col_name].quantile(0.75)\n",
    "    iqr = q3 - q1\n",
    "    \n",
    "    low = q1-1.5*iqr\n",
    "    high = q3+1.5*iqr\n",
    "   # print(\"Outliers = \",bike.loc[(bike[col_name] < low) | (bike[col_name] > high), col_name])"
   ]
  },
  {
   "cell_type": "markdown",
   "metadata": {},
   "source": [
    "#### Not considering outliers for this exercise"
   ]
  },
  {
   "cell_type": "code",
   "execution_count": 20,
   "metadata": {},
   "outputs": [
    {
     "data": {
      "text/html": [
       "<div>\n",
       "<style scoped>\n",
       "    .dataframe tbody tr th:only-of-type {\n",
       "        vertical-align: middle;\n",
       "    }\n",
       "\n",
       "    .dataframe tbody tr th {\n",
       "        vertical-align: top;\n",
       "    }\n",
       "\n",
       "    .dataframe thead th {\n",
       "        text-align: right;\n",
       "    }\n",
       "</style>\n",
       "<table border=\"1\" class=\"dataframe\">\n",
       "  <thead>\n",
       "    <tr style=\"text-align: right;\">\n",
       "      <th></th>\n",
       "      <th>season</th>\n",
       "      <th>holiday</th>\n",
       "      <th>workingday</th>\n",
       "      <th>weather</th>\n",
       "      <th>temp</th>\n",
       "      <th>atemp</th>\n",
       "      <th>humidity</th>\n",
       "      <th>windspeed</th>\n",
       "      <th>casual</th>\n",
       "      <th>registered</th>\n",
       "      <th>count</th>\n",
       "    </tr>\n",
       "  </thead>\n",
       "  <tbody>\n",
       "    <tr>\n",
       "      <th>0</th>\n",
       "      <td>1</td>\n",
       "      <td>0</td>\n",
       "      <td>0</td>\n",
       "      <td>1</td>\n",
       "      <td>9.84</td>\n",
       "      <td>14.395</td>\n",
       "      <td>81</td>\n",
       "      <td>0.0000</td>\n",
       "      <td>3</td>\n",
       "      <td>13</td>\n",
       "      <td>16</td>\n",
       "    </tr>\n",
       "    <tr>\n",
       "      <th>1</th>\n",
       "      <td>1</td>\n",
       "      <td>0</td>\n",
       "      <td>0</td>\n",
       "      <td>1</td>\n",
       "      <td>9.02</td>\n",
       "      <td>13.635</td>\n",
       "      <td>80</td>\n",
       "      <td>0.0000</td>\n",
       "      <td>8</td>\n",
       "      <td>32</td>\n",
       "      <td>40</td>\n",
       "    </tr>\n",
       "    <tr>\n",
       "      <th>2</th>\n",
       "      <td>1</td>\n",
       "      <td>0</td>\n",
       "      <td>0</td>\n",
       "      <td>1</td>\n",
       "      <td>9.02</td>\n",
       "      <td>13.635</td>\n",
       "      <td>80</td>\n",
       "      <td>0.0000</td>\n",
       "      <td>5</td>\n",
       "      <td>27</td>\n",
       "      <td>32</td>\n",
       "    </tr>\n",
       "    <tr>\n",
       "      <th>3</th>\n",
       "      <td>1</td>\n",
       "      <td>0</td>\n",
       "      <td>0</td>\n",
       "      <td>1</td>\n",
       "      <td>9.84</td>\n",
       "      <td>14.395</td>\n",
       "      <td>75</td>\n",
       "      <td>0.0000</td>\n",
       "      <td>3</td>\n",
       "      <td>10</td>\n",
       "      <td>13</td>\n",
       "    </tr>\n",
       "    <tr>\n",
       "      <th>4</th>\n",
       "      <td>1</td>\n",
       "      <td>0</td>\n",
       "      <td>0</td>\n",
       "      <td>1</td>\n",
       "      <td>9.84</td>\n",
       "      <td>14.395</td>\n",
       "      <td>75</td>\n",
       "      <td>0.0000</td>\n",
       "      <td>0</td>\n",
       "      <td>1</td>\n",
       "      <td>1</td>\n",
       "    </tr>\n",
       "    <tr>\n",
       "      <th>5</th>\n",
       "      <td>1</td>\n",
       "      <td>0</td>\n",
       "      <td>0</td>\n",
       "      <td>2</td>\n",
       "      <td>9.84</td>\n",
       "      <td>12.880</td>\n",
       "      <td>75</td>\n",
       "      <td>6.0032</td>\n",
       "      <td>0</td>\n",
       "      <td>1</td>\n",
       "      <td>1</td>\n",
       "    </tr>\n",
       "    <tr>\n",
       "      <th>6</th>\n",
       "      <td>1</td>\n",
       "      <td>0</td>\n",
       "      <td>0</td>\n",
       "      <td>1</td>\n",
       "      <td>9.02</td>\n",
       "      <td>13.635</td>\n",
       "      <td>80</td>\n",
       "      <td>0.0000</td>\n",
       "      <td>2</td>\n",
       "      <td>0</td>\n",
       "      <td>2</td>\n",
       "    </tr>\n",
       "    <tr>\n",
       "      <th>7</th>\n",
       "      <td>1</td>\n",
       "      <td>0</td>\n",
       "      <td>0</td>\n",
       "      <td>1</td>\n",
       "      <td>8.20</td>\n",
       "      <td>12.880</td>\n",
       "      <td>86</td>\n",
       "      <td>0.0000</td>\n",
       "      <td>1</td>\n",
       "      <td>2</td>\n",
       "      <td>3</td>\n",
       "    </tr>\n",
       "    <tr>\n",
       "      <th>8</th>\n",
       "      <td>1</td>\n",
       "      <td>0</td>\n",
       "      <td>0</td>\n",
       "      <td>1</td>\n",
       "      <td>9.84</td>\n",
       "      <td>14.395</td>\n",
       "      <td>75</td>\n",
       "      <td>0.0000</td>\n",
       "      <td>1</td>\n",
       "      <td>7</td>\n",
       "      <td>8</td>\n",
       "    </tr>\n",
       "    <tr>\n",
       "      <th>9</th>\n",
       "      <td>1</td>\n",
       "      <td>0</td>\n",
       "      <td>0</td>\n",
       "      <td>1</td>\n",
       "      <td>13.12</td>\n",
       "      <td>17.425</td>\n",
       "      <td>76</td>\n",
       "      <td>0.0000</td>\n",
       "      <td>8</td>\n",
       "      <td>6</td>\n",
       "      <td>14</td>\n",
       "    </tr>\n",
       "  </tbody>\n",
       "</table>\n",
       "</div>"
      ],
      "text/plain": [
       "   season  holiday  workingday  weather   temp   atemp  humidity  windspeed  \\\n",
       "0       1        0           0        1   9.84  14.395        81     0.0000   \n",
       "1       1        0           0        1   9.02  13.635        80     0.0000   \n",
       "2       1        0           0        1   9.02  13.635        80     0.0000   \n",
       "3       1        0           0        1   9.84  14.395        75     0.0000   \n",
       "4       1        0           0        1   9.84  14.395        75     0.0000   \n",
       "5       1        0           0        2   9.84  12.880        75     6.0032   \n",
       "6       1        0           0        1   9.02  13.635        80     0.0000   \n",
       "7       1        0           0        1   8.20  12.880        86     0.0000   \n",
       "8       1        0           0        1   9.84  14.395        75     0.0000   \n",
       "9       1        0           0        1  13.12  17.425        76     0.0000   \n",
       "\n",
       "   casual  registered  count  \n",
       "0       3          13     16  \n",
       "1       8          32     40  \n",
       "2       5          27     32  \n",
       "3       3          10     13  \n",
       "4       0           1      1  \n",
       "5       0           1      1  \n",
       "6       2           0      2  \n",
       "7       1           2      3  \n",
       "8       1           7      8  \n",
       "9       8           6     14  "
      ]
     },
     "execution_count": 20,
     "metadata": {},
     "output_type": "execute_result"
    }
   ],
   "source": [
    "bike.head(10)"
   ]
  },
  {
   "cell_type": "code",
   "execution_count": 21,
   "metadata": {},
   "outputs": [],
   "source": [
    "model = LinearRegression()"
   ]
  },
  {
   "cell_type": "code",
   "execution_count": 22,
   "metadata": {},
   "outputs": [
    {
     "data": {
      "text/plain": [
       "LinearRegression()"
      ]
     },
     "execution_count": 22,
     "metadata": {},
     "output_type": "execute_result"
    }
   ],
   "source": [
    "model.fit(bike[['temp']],bike['registered'])"
   ]
  },
  {
   "cell_type": "code",
   "execution_count": 23,
   "metadata": {},
   "outputs": [],
   "source": [
    "m = model.coef_"
   ]
  },
  {
   "cell_type": "code",
   "execution_count": 24,
   "metadata": {},
   "outputs": [],
   "source": [
    "c = model.intercept_"
   ]
  },
  {
   "cell_type": "code",
   "execution_count": 25,
   "metadata": {},
   "outputs": [
    {
     "name": "stdout",
     "output_type": "stream",
     "text": [
      "[6.175466] 30.617190185186118\n"
     ]
    }
   ],
   "source": [
    "print(m,c)"
   ]
  },
  {
   "cell_type": "code",
   "execution_count": 26,
   "metadata": {},
   "outputs": [],
   "source": [
    "y = m* 9.84 + c"
   ]
  },
  {
   "cell_type": "code",
   "execution_count": 27,
   "metadata": {},
   "outputs": [
    {
     "data": {
      "text/plain": [
       "array([91.3837756])"
      ]
     },
     "execution_count": 27,
     "metadata": {},
     "output_type": "execute_result"
    }
   ],
   "source": [
    "y"
   ]
  },
  {
   "cell_type": "code",
   "execution_count": 28,
   "metadata": {},
   "outputs": [],
   "source": [
    "predict_reg = model.predict(bike[['temp']])"
   ]
  },
  {
   "cell_type": "code",
   "execution_count": 29,
   "metadata": {},
   "outputs": [],
   "source": [
    "actual_reg = bike['registered']"
   ]
  },
  {
   "cell_type": "code",
   "execution_count": 30,
   "metadata": {},
   "outputs": [
    {
     "data": {
      "text/plain": [
       "0         13\n",
       "1         32\n",
       "2         27\n",
       "3         10\n",
       "4          1\n",
       "        ... \n",
       "10881    329\n",
       "10882    231\n",
       "10883    164\n",
       "10884    117\n",
       "10885     84\n",
       "Name: registered, Length: 10886, dtype: int64"
      ]
     },
     "execution_count": 30,
     "metadata": {},
     "output_type": "execute_result"
    }
   ],
   "source": [
    "actual_reg"
   ]
  },
  {
   "cell_type": "code",
   "execution_count": 31,
   "metadata": {},
   "outputs": [
    {
     "data": {
      "text/plain": [
       "array([ 91.3837756 ,  86.31989348,  86.31989348, ..., 116.70318619,\n",
       "       116.70318619, 111.63930408])"
      ]
     },
     "execution_count": 31,
     "metadata": {},
     "output_type": "execute_result"
    }
   ],
   "source": [
    "predict_reg"
   ]
  },
  {
   "cell_type": "code",
   "execution_count": null,
   "metadata": {},
   "outputs": [],
   "source": []
  },
  {
   "cell_type": "markdown",
   "metadata": {},
   "source": [
    "## Error"
   ]
  },
  {
   "cell_type": "code",
   "execution_count": 32,
   "metadata": {},
   "outputs": [],
   "source": [
    "from sklearn.metrics import mean_squared_error, mean_absolute_error, mean_absolute_percentage_error,r2_score"
   ]
  },
  {
   "cell_type": "code",
   "execution_count": 33,
   "metadata": {},
   "outputs": [
    {
     "data": {
      "text/plain": [
       "20495.689943766178"
      ]
     },
     "execution_count": 33,
     "metadata": {},
     "output_type": "execute_result"
    }
   ],
   "source": [
    "mean_squared_error(actual_reg,predict_reg) ##MSE"
   ]
  },
  {
   "cell_type": "code",
   "execution_count": 34,
   "metadata": {},
   "outputs": [
    {
     "data": {
      "text/plain": [
       "105.7257425543564"
      ]
     },
     "execution_count": 34,
     "metadata": {},
     "output_type": "execute_result"
    }
   ],
   "source": [
    "mean_absolute_error(actual_reg,predict_reg) ## MAE"
   ]
  },
  {
   "cell_type": "code",
   "execution_count": 35,
   "metadata": {},
   "outputs": [
    {
     "data": {
      "text/plain": [
       "732591326317961.5"
      ]
     },
     "execution_count": 35,
     "metadata": {},
     "output_type": "execute_result"
    }
   ],
   "source": [
    "mean_absolute_percentage_error(actual_reg,predict_reg) ##MAPE"
   ]
  },
  {
   "cell_type": "code",
   "execution_count": 36,
   "metadata": {},
   "outputs": [
    {
     "data": {
      "text/plain": [
       "0.10148766065580495"
      ]
     },
     "execution_count": 36,
     "metadata": {},
     "output_type": "execute_result"
    }
   ],
   "source": [
    "r2_score(actual_reg,predict_reg) ##RSquare"
   ]
  },
  {
   "cell_type": "code",
   "execution_count": 37,
   "metadata": {},
   "outputs": [
    {
     "data": {
      "text/plain": [
       "143.16315847230453"
      ]
     },
     "execution_count": 37,
     "metadata": {},
     "output_type": "execute_result"
    }
   ],
   "source": [
    "mean_squared_error(actual_reg,predict_reg, squared=False) ##RMSE"
   ]
  },
  {
   "cell_type": "code",
   "execution_count": 38,
   "metadata": {},
   "outputs": [
    {
     "data": {
      "text/plain": [
       "[<matplotlib.lines.Line2D at 0x1bc7e4491f0>]"
      ]
     },
     "execution_count": 38,
     "metadata": {},
     "output_type": "execute_result"
    },
    {
     "data": {
      "image/png": "[encoded data removed]",
      "text/plain": [
       "<Figure size 720x720 with 1 Axes>"
      ]
     },
     "metadata": {
      "needs_background": "light"
     },
     "output_type": "display_data"
    }
   ],
   "source": [
    "plt.figure(figsize=(10,10))\n",
    "plt.scatter(bike['temp'], bike['registered'], color='b')\n",
    "plt.plot(bike['temp'], predict_reg, color='black')"
   ]
  },
  {
   "cell_type": "markdown",
   "metadata": {},
   "source": [
    "# Trying to remove outliers for each category"
   ]
  },
  {
   "cell_type": "code",
   "execution_count": 43,
   "metadata": {},
   "outputs": [
    {
     "data": {
      "text/html": [
       "<div>\n",
       "<style scoped>\n",
       "    .dataframe tbody tr th:only-of-type {\n",
       "        vertical-align: middle;\n",
       "    }\n",
       "\n",
       "    .dataframe tbody tr th {\n",
       "        vertical-align: top;\n",
       "    }\n",
       "\n",
       "    .dataframe thead th {\n",
       "        text-align: right;\n",
       "    }\n",
       "</style>\n",
       "<table border=\"1\" class=\"dataframe\">\n",
       "  <thead>\n",
       "    <tr style=\"text-align: right;\">\n",
       "      <th></th>\n",
       "      <th>season</th>\n",
       "      <th>holiday</th>\n",
       "      <th>workingday</th>\n",
       "      <th>weather</th>\n",
       "      <th>temp</th>\n",
       "      <th>atemp</th>\n",
       "      <th>humidity</th>\n",
       "      <th>windspeed</th>\n",
       "      <th>casual</th>\n",
       "      <th>registered</th>\n",
       "      <th>count</th>\n",
       "    </tr>\n",
       "  </thead>\n",
       "  <tbody>\n",
       "    <tr>\n",
       "      <th>0</th>\n",
       "      <td>1</td>\n",
       "      <td>0</td>\n",
       "      <td>0</td>\n",
       "      <td>1</td>\n",
       "      <td>9.84</td>\n",
       "      <td>14.395</td>\n",
       "      <td>81</td>\n",
       "      <td>0.0000</td>\n",
       "      <td>3</td>\n",
       "      <td>13</td>\n",
       "      <td>16</td>\n",
       "    </tr>\n",
       "    <tr>\n",
       "      <th>1</th>\n",
       "      <td>1</td>\n",
       "      <td>0</td>\n",
       "      <td>0</td>\n",
       "      <td>1</td>\n",
       "      <td>9.02</td>\n",
       "      <td>13.635</td>\n",
       "      <td>80</td>\n",
       "      <td>0.0000</td>\n",
       "      <td>8</td>\n",
       "      <td>32</td>\n",
       "      <td>40</td>\n",
       "    </tr>\n",
       "    <tr>\n",
       "      <th>2</th>\n",
       "      <td>1</td>\n",
       "      <td>0</td>\n",
       "      <td>0</td>\n",
       "      <td>1</td>\n",
       "      <td>9.02</td>\n",
       "      <td>13.635</td>\n",
       "      <td>80</td>\n",
       "      <td>0.0000</td>\n",
       "      <td>5</td>\n",
       "      <td>27</td>\n",
       "      <td>32</td>\n",
       "    </tr>\n",
       "    <tr>\n",
       "      <th>3</th>\n",
       "      <td>1</td>\n",
       "      <td>0</td>\n",
       "      <td>0</td>\n",
       "      <td>1</td>\n",
       "      <td>9.84</td>\n",
       "      <td>14.395</td>\n",
       "      <td>75</td>\n",
       "      <td>0.0000</td>\n",
       "      <td>3</td>\n",
       "      <td>10</td>\n",
       "      <td>13</td>\n",
       "    </tr>\n",
       "    <tr>\n",
       "      <th>4</th>\n",
       "      <td>1</td>\n",
       "      <td>0</td>\n",
       "      <td>0</td>\n",
       "      <td>1</td>\n",
       "      <td>9.84</td>\n",
       "      <td>14.395</td>\n",
       "      <td>75</td>\n",
       "      <td>0.0000</td>\n",
       "      <td>0</td>\n",
       "      <td>1</td>\n",
       "      <td>1</td>\n",
       "    </tr>\n",
       "    <tr>\n",
       "      <th>5</th>\n",
       "      <td>1</td>\n",
       "      <td>0</td>\n",
       "      <td>0</td>\n",
       "      <td>2</td>\n",
       "      <td>9.84</td>\n",
       "      <td>12.880</td>\n",
       "      <td>75</td>\n",
       "      <td>6.0032</td>\n",
       "      <td>0</td>\n",
       "      <td>1</td>\n",
       "      <td>1</td>\n",
       "    </tr>\n",
       "    <tr>\n",
       "      <th>6</th>\n",
       "      <td>1</td>\n",
       "      <td>0</td>\n",
       "      <td>0</td>\n",
       "      <td>1</td>\n",
       "      <td>9.02</td>\n",
       "      <td>13.635</td>\n",
       "      <td>80</td>\n",
       "      <td>0.0000</td>\n",
       "      <td>2</td>\n",
       "      <td>0</td>\n",
       "      <td>2</td>\n",
       "    </tr>\n",
       "    <tr>\n",
       "      <th>7</th>\n",
       "      <td>1</td>\n",
       "      <td>0</td>\n",
       "      <td>0</td>\n",
       "      <td>1</td>\n",
       "      <td>8.20</td>\n",
       "      <td>12.880</td>\n",
       "      <td>86</td>\n",
       "      <td>0.0000</td>\n",
       "      <td>1</td>\n",
       "      <td>2</td>\n",
       "      <td>3</td>\n",
       "    </tr>\n",
       "    <tr>\n",
       "      <th>8</th>\n",
       "      <td>1</td>\n",
       "      <td>0</td>\n",
       "      <td>0</td>\n",
       "      <td>1</td>\n",
       "      <td>9.84</td>\n",
       "      <td>14.395</td>\n",
       "      <td>75</td>\n",
       "      <td>0.0000</td>\n",
       "      <td>1</td>\n",
       "      <td>7</td>\n",
       "      <td>8</td>\n",
       "    </tr>\n",
       "    <tr>\n",
       "      <th>9</th>\n",
       "      <td>1</td>\n",
       "      <td>0</td>\n",
       "      <td>0</td>\n",
       "      <td>1</td>\n",
       "      <td>13.12</td>\n",
       "      <td>17.425</td>\n",
       "      <td>76</td>\n",
       "      <td>0.0000</td>\n",
       "      <td>8</td>\n",
       "      <td>6</td>\n",
       "      <td>14</td>\n",
       "    </tr>\n",
       "  </tbody>\n",
       "</table>\n",
       "</div>"
      ],
      "text/plain": [
       "   season  holiday  workingday  weather   temp   atemp  humidity  windspeed  \\\n",
       "0       1        0           0        1   9.84  14.395        81     0.0000   \n",
       "1       1        0           0        1   9.02  13.635        80     0.0000   \n",
       "2       1        0           0        1   9.02  13.635        80     0.0000   \n",
       "3       1        0           0        1   9.84  14.395        75     0.0000   \n",
       "4       1        0           0        1   9.84  14.395        75     0.0000   \n",
       "5       1        0           0        2   9.84  12.880        75     6.0032   \n",
       "6       1        0           0        1   9.02  13.635        80     0.0000   \n",
       "7       1        0           0        1   8.20  12.880        86     0.0000   \n",
       "8       1        0           0        1   9.84  14.395        75     0.0000   \n",
       "9       1        0           0        1  13.12  17.425        76     0.0000   \n",
       "\n",
       "   casual  registered  count  \n",
       "0       3          13     16  \n",
       "1       8          32     40  \n",
       "2       5          27     32  \n",
       "3       3          10     13  \n",
       "4       0           1      1  \n",
       "5       0           1      1  \n",
       "6       2           0      2  \n",
       "7       1           2      3  \n",
       "8       1           7      8  \n",
       "9       8           6     14  "
      ]
     },
     "execution_count": 43,
     "metadata": {},
     "output_type": "execute_result"
    }
   ],
   "source": [
    "bike.head(10)"
   ]
  },
  {
   "cell_type": "code",
   "execution_count": 58,
   "metadata": {},
   "outputs": [],
   "source": [
    "filt = (bike.registered > 0) & (bike.temp < 5)"
   ]
  },
  {
   "cell_type": "code",
   "execution_count": 59,
   "metadata": {},
   "outputs": [
    {
     "data": {
      "text/plain": [
       "median     19.5000\n",
       "max       414.0000\n",
       "min         1.0000\n",
       "mean       52.1875\n",
       "Name: registered, dtype: float64"
      ]
     },
     "execution_count": 59,
     "metadata": {},
     "output_type": "execute_result"
    }
   ],
   "source": [
    "bike[filt]['registered'].agg({'mean', 'median','min', 'max'})"
   ]
  },
  {
   "cell_type": "code",
   "execution_count": 57,
   "metadata": {},
   "outputs": [
    {
     "data": {
      "text/plain": [
       "<AxesSubplot:title={'center':'registered'}, xlabel='temp'>"
      ]
     },
     "execution_count": 57,
     "metadata": {},
     "output_type": "execute_result"
    },
    {
     "data": {
      "image/png": "[encoded data removed]",
      "text/plain": [
       "<Figure size 2160x1440 with 1 Axes>"
      ]
     },
     "metadata": {
      "needs_background": "light"
     },
     "output_type": "display_data"
    }
   ],
   "source": [
    "bike.boxplot(column='registered', by='temp',rot=45, fontsize=15, figsize=(30,20))"
   ]
  },
  {
   "cell_type": "code",
   "execution_count": 76,
   "metadata": {},
   "outputs": [
    {
     "data": {
      "text/plain": [
       "(10886,)"
      ]
     },
     "execution_count": 76,
     "metadata": {},
     "output_type": "execute_result"
    }
   ],
   "source": [
    "bike['temp'].shape"
   ]
  },
  {
   "cell_type": "code",
   "execution_count": 83,
   "metadata": {},
   "outputs": [],
   "source": [
    "unq_temp = (pd.unique(bike['temp']))"
   ]
  },
  {
   "cell_type": "code",
   "execution_count": 84,
   "metadata": {},
   "outputs": [
    {
     "data": {
      "text/plain": [
       "array([ 9.84,  9.02,  8.2 , 13.12, 15.58, 14.76, 17.22, 18.86, 18.04,\n",
       "       16.4 , 13.94, 12.3 , 10.66,  6.56,  5.74,  7.38,  4.92, 11.48,\n",
       "        4.1 ,  3.28,  2.46, 21.32, 22.96, 23.78, 24.6 , 19.68, 22.14,\n",
       "       20.5 , 27.06, 26.24, 25.42, 27.88, 28.7 , 30.34, 31.16, 29.52,\n",
       "       33.62, 35.26, 36.9 , 32.8 , 31.98, 34.44, 36.08, 37.72, 38.54,\n",
       "        1.64,  0.82, 39.36, 41.  ])"
      ]
     },
     "execution_count": 84,
     "metadata": {},
     "output_type": "execute_result"
    }
   ],
   "source": [
    "unq_temp"
   ]
  },
  {
   "cell_type": "code",
   "execution_count": 98,
   "metadata": {},
   "outputs": [
    {
     "ename": "TypeError",
     "evalue": "'DataFrame' object is not callable",
     "output_type": "error",
     "traceback": [
      "\u001b[1;31m---------------------------------------------------------------------------\u001b[0m",
      "\u001b[1;31mTypeError\u001b[0m                                 Traceback (most recent call last)",
      "\u001b[1;32m<ipython-input-98-500ad77183cd>\u001b[0m in \u001b[0;36m<module>\u001b[1;34m\u001b[0m\n\u001b[0;32m      1\u001b[0m \u001b[1;32mfor\u001b[0m \u001b[0mtemp_arr\u001b[0m \u001b[1;32min\u001b[0m \u001b[0munq_temp\u001b[0m\u001b[1;33m:\u001b[0m\u001b[1;33m\u001b[0m\u001b[1;33m\u001b[0m\u001b[0m\n\u001b[0;32m      2\u001b[0m     \u001b[0mfilt\u001b[0m \u001b[1;33m=\u001b[0m  \u001b[1;33m(\u001b[0m\u001b[0mbike\u001b[0m\u001b[1;33m.\u001b[0m\u001b[0mtemp\u001b[0m \u001b[1;33m==\u001b[0m \u001b[0mtemp_arr\u001b[0m\u001b[1;33m)\u001b[0m\u001b[1;33m\u001b[0m\u001b[1;33m\u001b[0m\u001b[0m\n\u001b[1;32m----> 3\u001b[1;33m     \u001b[0mbike\u001b[0m\u001b[1;33m(\u001b[0m\u001b[0mfilt\u001b[0m\u001b[1;33m)\u001b[0m\u001b[1;33m\u001b[0m\u001b[1;33m\u001b[0m\u001b[0m\n\u001b[0m\u001b[0;32m      4\u001b[0m     \u001b[0mq1\u001b[0m \u001b[1;33m=\u001b[0m \u001b[0mbike\u001b[0m\u001b[1;33m[\u001b[0m\u001b[1;34m'registered'\u001b[0m\u001b[1;33m]\u001b[0m\u001b[1;33m.\u001b[0m\u001b[0mquantile\u001b[0m\u001b[1;33m(\u001b[0m\u001b[1;36m0.25\u001b[0m\u001b[1;33m)\u001b[0m\u001b[1;33m\u001b[0m\u001b[1;33m\u001b[0m\u001b[0m\n\u001b[0;32m      5\u001b[0m     \u001b[0mq3\u001b[0m \u001b[1;33m=\u001b[0m \u001b[0mbike\u001b[0m\u001b[1;33m[\u001b[0m\u001b[1;34m'registered'\u001b[0m\u001b[1;33m]\u001b[0m\u001b[1;33m.\u001b[0m\u001b[0mquantile\u001b[0m\u001b[1;33m(\u001b[0m\u001b[1;36m0.75\u001b[0m\u001b[1;33m)\u001b[0m\u001b[1;33m\u001b[0m\u001b[1;33m\u001b[0m\u001b[0m\n",
      "\u001b[1;31mTypeError\u001b[0m: 'DataFrame' object is not callable"
     ]
    }
   ],
   "source": [
    "for temp_arr in unq_temp:\n",
    "    filt =  (bike.temp == temp_arr)\n",
    "    bike(filt)\n",
    "    q1 = bike['registered'].quantile(0.25)\n",
    "    q3 = bike['registered'].quantile(0.75)\n",
    "    iqr = q3 - q1\n",
    "    \n",
    "    low = q1-1.5*iqr\n",
    "    high = q3+1.5*iqr\n",
    "    print(temp_arr, q1, q3, iqr)"
   ]
  },
  {
   "cell_type": "code",
   "execution_count": 228,
   "metadata": {},
   "outputs": [],
   "source": [
    " bike_sort = bike[['temp','registered']].sort_values('temp')"
   ]
  },
  {
   "cell_type": "code",
   "execution_count": 236,
   "metadata": {},
   "outputs": [
    {
     "data": {
      "text/plain": [
       "temp   registered\n",
       "10.66  1.00          15\n",
       "9.02   3.00          13\n",
       "18.86  3.00          12\n",
       "8.20   1.00          12\n",
       "16.40  3.00          12\n",
       "                     ..\n",
       "24.60  264.00         1\n",
       "       265.00         1\n",
       "       266.00         1\n",
       "       267.00         1\n",
       "0.82   0.82           1\n",
       "Length: 6882, dtype: int64"
      ]
     },
     "execution_count": 236,
     "metadata": {},
     "output_type": "execute_result"
    }
   ],
   "source": [
    "bike_sort.value_counts()"
   ]
  },
  {
   "cell_type": "code",
   "execution_count": 241,
   "metadata": {},
   "outputs": [
    {
     "data": {
      "text/html": [
       "<div>\n",
       "<style scoped>\n",
       "    .dataframe tbody tr th:only-of-type {\n",
       "        vertical-align: middle;\n",
       "    }\n",
       "\n",
       "    .dataframe tbody tr th {\n",
       "        vertical-align: top;\n",
       "    }\n",
       "\n",
       "    .dataframe thead th {\n",
       "        text-align: right;\n",
       "    }\n",
       "</style>\n",
       "<table border=\"1\" class=\"dataframe\">\n",
       "  <thead>\n",
       "    <tr style=\"text-align: right;\">\n",
       "      <th></th>\n",
       "      <th>temp</th>\n",
       "      <th>registered</th>\n",
       "    </tr>\n",
       "  </thead>\n",
       "  <tbody>\n",
       "    <tr>\n",
       "      <th>temp</th>\n",
       "      <td>0.82</td>\n",
       "      <td>0.82</td>\n",
       "    </tr>\n",
       "    <tr>\n",
       "      <th>5495</th>\n",
       "      <td>0.82</td>\n",
       "      <td>1.00</td>\n",
       "    </tr>\n",
       "    <tr>\n",
       "      <th>5496</th>\n",
       "      <td>0.82</td>\n",
       "      <td>1.00</td>\n",
       "    </tr>\n",
       "    <tr>\n",
       "      <th>5497</th>\n",
       "      <td>0.82</td>\n",
       "      <td>2.00</td>\n",
       "    </tr>\n",
       "    <tr>\n",
       "      <th>5498</th>\n",
       "      <td>0.82</td>\n",
       "      <td>14.00</td>\n",
       "    </tr>\n",
       "    <tr>\n",
       "      <th>5501</th>\n",
       "      <td>0.82</td>\n",
       "      <td>310.00</td>\n",
       "    </tr>\n",
       "    <tr>\n",
       "      <th>5500</th>\n",
       "      <td>0.82</td>\n",
       "      <td>151.00</td>\n",
       "    </tr>\n",
       "    <tr>\n",
       "      <th>5499</th>\n",
       "      <td>0.82</td>\n",
       "      <td>59.00</td>\n",
       "    </tr>\n",
       "    <tr>\n",
       "      <th>5494</th>\n",
       "      <td>1.64</td>\n",
       "      <td>3.00</td>\n",
       "    </tr>\n",
       "    <tr>\n",
       "      <th>5502</th>\n",
       "      <td>1.64</td>\n",
       "      <td>173.00</td>\n",
       "    </tr>\n",
       "  </tbody>\n",
       "</table>\n",
       "</div>"
      ],
      "text/plain": [
       "      temp  registered\n",
       "temp  0.82        0.82\n",
       "5495  0.82        1.00\n",
       "5496  0.82        1.00\n",
       "5497  0.82        2.00\n",
       "5498  0.82       14.00\n",
       "5501  0.82      310.00\n",
       "5500  0.82      151.00\n",
       "5499  0.82       59.00\n",
       "5494  1.64        3.00\n",
       "5502  1.64      173.00"
      ]
     },
     "execution_count": 241,
     "metadata": {},
     "output_type": "execute_result"
    }
   ],
   "source": [
    "bike_sort.head(10)"
   ]
  },
  {
   "cell_type": "markdown",
   "metadata": {},
   "source": [
    "### Remove Outliers for each temperature"
   ]
  },
  {
   "cell_type": "code",
   "execution_count": 256,
   "metadata": {},
   "outputs": [
    {
     "name": "stdout",
     "output_type": "stream",
     "text": [
      "temp= 0.82 iqr= 81.0 low -120.5 high 203.5\n",
      "      temp  registered\n",
      "temp  0.82        0.82\n",
      "5495  0.82        1.00\n",
      "5496  0.82        1.00\n",
      "5497  0.82        2.00\n",
      "5498  0.82       14.00\n",
      "5500  0.82      151.00\n",
      "5499  0.82       59.00\n",
      "temp= 1.64 iqr= 85.0 low -82.0 high 258.0\n",
      "      temp  registered\n",
      "5494  1.64         3.0\n",
      "5502  1.64       173.0\n",
      "temp= 2.46 iqr= 50.0 low -68.0 high 132.0\n",
      "      temp  registered\n",
      "5503  2.46        57.0\n",
      "626   2.46        95.0\n",
      "625   2.46        43.0\n",
      "624   2.46         7.0\n",
      "623   2.46         2.0\n",
      "temp= 3.28 iqr= 22.0 low -30.0 high 58.0\n",
      "      temp  registered\n",
      "669   3.28         4.0\n",
      "6139  3.28        24.0\n",
      "5493  3.28         9.0\n",
      "5504  3.28        40.0\n",
      "6146  3.28        26.0\n",
      "6145  3.28        18.0\n",
      "192   3.28         5.0\n",
      "622   3.28         2.0\n",
      "190   3.28         1.0\n",
      "189   3.28         1.0\n",
      "temp= 4.1 iqr= 61.25 low -86.125 high 158.875\n",
      "      temp  registered\n",
      "306    4.1        17.0\n",
      "6147   4.1        60.0\n",
      "213    4.1         2.0\n",
      "214    4.1         3.0\n",
      "193    4.1        10.0\n",
      "191    4.1         1.0\n",
      "668    4.1         3.0\n",
      "188    4.1         4.0\n",
      "670    4.1        23.0\n",
      "187    4.1        11.0\n",
      "305    4.1         8.0\n",
      "185    4.1        24.0\n",
      "184    4.1        22.0\n",
      "302    4.1         5.0\n",
      "303    4.1         1.0\n",
      "6168   4.1        71.0\n",
      "5505   4.1        75.0\n",
      "5789   4.1        89.0\n",
      "304    4.1         1.0\n",
      "5787   4.1        28.0\n",
      "5786   4.1        13.0\n",
      "307    4.1        70.0\n",
      "186    4.1        12.0\n",
      "5788   4.1        75.0\n",
      "6167   4.1        17.0\n",
      "6143   4.1         3.0\n",
      "666    4.1        12.0\n",
      "620    4.1        17.0\n",
      "649    4.1        99.0\n",
      "6144   4.1         2.0\n",
      "667    4.1         6.0\n",
      "6140   4.1        26.0\n",
      "621    4.1         7.0\n",
      "6138   4.1        21.0\n",
      "5490   4.1        66.0\n",
      "5491   4.1        33.0\n",
      "5492   4.1        18.0\n",
      "6141   4.1        14.0\n",
      "6142   4.1         1.0\n",
      "temp= 4.92 iqr= 80.75 low -115.125 high 207.875\n",
      "      temp  registered\n",
      "5765  4.92        80.0\n",
      "5764  4.92        34.0\n",
      "5763  4.92        14.0\n",
      "5784  4.92         6.0\n",
      "5783  4.92         3.0\n",
      "651   4.92       121.0\n",
      "652   4.92        34.0\n",
      "5854  4.92         4.0\n",
      "5855  4.92         1.0\n",
      "5856  4.92        19.0\n",
      "5857  4.92        86.0\n",
      "5858  4.92       204.0\n",
      "308   4.92       156.0\n",
      "648   4.92        26.0\n",
      "5740  4.92        89.0\n",
      "301   4.92        14.0\n",
      "210   4.92         0.0\n",
      "211   4.92         3.0\n",
      "212   4.92         1.0\n",
      "618   4.92        29.0\n",
      "215   4.92        31.0\n",
      "216   4.92        75.0\n",
      "217   4.92       184.0\n",
      "194   4.92        19.0\n",
      "647   4.92         6.0\n",
      "619   4.92         9.0\n",
      "183   4.92        33.0\n",
      "182   4.92        35.0\n",
      "181   4.92        28.0\n",
      "259   4.92        16.0\n",
      "5860  4.92       204.0\n",
      "283   4.92        28.0\n",
      "284   4.92        72.0\n",
      "300   4.92        14.0\n",
      "628   4.92       119.0\n",
      "6171  4.92       198.0\n",
      "5785  4.92         5.0\n",
      "208   4.92         6.0\n",
      "6163  4.92         6.0\n",
      "673   4.92       132.0\n",
      "665   4.92        33.0\n",
      "664   4.92        47.0\n",
      "75    4.92        92.0\n",
      "73    4.92         4.0\n",
      "6165  4.92         1.0\n",
      "691   4.92         7.0\n",
      "692   4.92         4.0\n",
      "693   4.92         1.0\n",
      "694   4.92         1.0\n",
      "74    4.92        36.0\n",
      "695   4.92         9.0\n",
      "932   4.92       110.0\n",
      "5489  4.92       115.0\n",
      "5488  4.92       152.0\n",
      "6149  4.92       121.0\n",
      "6137  4.92        20.0\n",
      "209   4.92         3.0\n",
      "6148  4.92        83.0\n",
      "6166  4.92         2.0\n",
      "temp= 5.74 iqr= 72.5 low -101.75 high 188.25\n",
      "      temp  registered\n",
      "5738  5.74         5.0\n",
      "5737  5.74         4.0\n",
      "5736  5.74         3.0\n",
      "5739  5.74        24.0\n",
      "260   5.74        54.0\n",
      "...    ...         ...\n",
      "53    5.74       153.0\n",
      "76    5.74       177.0\n",
      "205   5.74        38.0\n",
      "5506  5.74        82.0\n",
      "5475  5.74        81.0\n",
      "\n",
      "[101 rows x 2 columns]\n",
      "temp= 6.56 iqr= 77.5 low -105.75 high 204.25\n",
      "      temp  registered\n",
      "509   6.56       124.0\n",
      "69    6.56         5.0\n",
      "70    6.56         2.0\n",
      "502   6.56         7.0\n",
      "5767  6.56       144.0\n",
      "...    ...         ...\n",
      "54    6.56        81.0\n",
      "170   6.56        20.0\n",
      "296   6.56        98.0\n",
      "50    6.56         3.0\n",
      "169   6.56        15.0\n",
      "\n",
      "[137 rows x 2 columns]\n",
      "temp= 7.38 iqr= 66.5 low -86.5 high 179.5\n",
      "      temp  registered\n",
      "659   7.38       159.0\n",
      "55    7.38        33.0\n",
      "441   7.38        49.0\n",
      "5480  7.38        63.0\n",
      "5400  7.38         3.0\n",
      "...    ...         ...\n",
      "157   7.38        50.0\n",
      "5233  7.38         2.0\n",
      "311   7.38        47.0\n",
      "240   7.38       127.0\n",
      "334   7.38        57.0\n",
      "\n",
      "[96 rows x 2 columns]\n",
      "temp= 8.2 iqr= 79.0 low -105.5 high 210.5\n",
      "       temp  registered\n",
      "657     8.2        50.0\n",
      "5752    8.2        95.0\n",
      "5256    8.2         1.0\n",
      "656     8.2        42.0\n",
      "5743    8.2       150.0\n",
      "...     ...         ...\n",
      "494     8.2       170.0\n",
      "10747   8.2        34.0\n",
      "48      8.2         2.0\n",
      "7       8.2         2.0\n",
      "56      8.2        41.0\n",
      "\n",
      "[210 rows x 2 columns]\n",
      "temp= 9.02 iqr= 79.5 low -111.5 high 206.5\n",
      "       temp  registered\n",
      "5630   9.02       147.0\n",
      "57     9.02        48.0\n",
      "5628   9.02        64.0\n",
      "10553  9.02         2.0\n",
      "5639   9.02         2.0\n",
      "...     ...         ...\n",
      "404    9.02        83.0\n",
      "5847   9.02       164.0\n",
      "5254   9.02        16.0\n",
      "402    9.02       132.0\n",
      "5240   9.02        91.0\n",
      "\n",
      "[233 rows x 2 columns]\n",
      "temp= 9.84 iqr= 94.75 low -132.125 high 246.875\n",
      "      temp  registered\n",
      "4991  9.84        14.0\n",
      "4992  9.84        10.0\n",
      "5022  9.84        62.0\n",
      "4972  9.84        92.0\n",
      "5020  9.84        10.0\n",
      "...    ...         ...\n",
      "359   9.84        70.0\n",
      "110   9.84       127.0\n",
      "355   9.84         3.0\n",
      "360   9.84        75.0\n",
      "414   9.84        89.0\n",
      "\n",
      "[276 rows x 2 columns]\n",
      "temp= 10.66 iqr= 105.0 low -143.5 high 276.5\n",
      "       temp  registered\n",
      "5218  10.66       246.0\n",
      "102   10.66        34.0\n",
      "5461  10.66       144.0\n",
      "1119  10.66       104.0\n",
      "5190  10.66        68.0\n",
      "...     ...         ...\n",
      "6092  10.66         9.0\n",
      "6093  10.66         5.0\n",
      "549   10.66        40.0\n",
      "6094  10.66         2.0\n",
      "1144  10.66        44.0\n",
      "\n",
      "[315 rows x 2 columns]\n",
      "temp= 11.48 iqr= 123.0 low -165.5 high 326.5\n",
      "        temp  registered\n",
      "5450   11.48         3.0\n",
      "5364   11.48       207.0\n",
      "5365   11.48       195.0\n",
      "10440  11.48       211.0\n",
      "10581  11.48       212.0\n",
      "...      ...         ...\n",
      "4661   11.48       305.0\n",
      "4938   11.48       129.0\n",
      "10864  11.48         2.0\n",
      "5152   11.48       306.0\n",
      "10871  11.48       309.0\n",
      "\n",
      "[175 rows x 2 columns]\n",
      "temp= 12.3 iqr= 119.0 low -153.5 high 322.5\n",
      "       temp  registered\n",
      "10171  12.3        25.0\n",
      "6088   12.3       104.0\n",
      "6021   12.3         1.0\n",
      "6546   12.3        68.0\n",
      "6258   12.3        32.0\n",
      "...     ...         ...\n",
      "5597   12.3        53.0\n",
      "6475   12.3         4.0\n",
      "10358  12.3        95.0\n",
      "10716  12.3       118.0\n",
      "544    12.3        64.0\n",
      "\n",
      "[362 rows x 2 columns]\n",
      "temp= 13.12 iqr= 143.25 low -174.125 high 398.875\n",
      "        temp  registered\n",
      "5961   13.12       229.0\n",
      "6086   13.12       197.0\n",
      "4930   13.12       143.0\n",
      "4627   13.12        99.0\n",
      "7077   13.12        84.0\n",
      "...      ...         ...\n",
      "5341   13.12       141.0\n",
      "4516   13.12        90.0\n",
      "6545   13.12        77.0\n",
      "1509   13.12        54.0\n",
      "10167  13.12        17.0\n",
      "\n",
      "[334 rows x 2 columns]\n",
      "temp= 13.94 iqr= 152.0 low -196.0 high 412.0\n",
      "        temp  registered\n",
      "4517   13.94       246.0\n",
      "4514   13.94         7.0\n",
      "6232   13.94       104.0\n",
      "4533   13.94        61.0\n",
      "6233   13.94        54.0\n",
      "...      ...         ...\n",
      "6469   13.94       278.0\n",
      "1362   13.94        64.0\n",
      "10793  13.94        37.0\n",
      "6599   13.94        86.0\n",
      "6598   13.94        15.0\n",
      "\n",
      "[401 rows x 2 columns]\n",
      "temp= 14.76 iqr= 154.5 low -187.75 high 430.25\n",
      "        temp  registered\n",
      "4511   14.76         8.0\n",
      "10109  14.76       196.0\n",
      "5335   14.76       235.0\n",
      "10153  14.76       155.0\n",
      "6534   14.76       174.0\n",
      "...      ...         ...\n",
      "6905   14.76        28.0\n",
      "9982   14.76       414.0\n",
      "9765   14.76       158.0\n",
      "10790  14.76       102.0\n",
      "4664   14.76        95.0\n",
      "\n",
      "[454 rows x 2 columns]\n",
      "temp= 15.58 iqr= 187.5 low -236.75 high 513.25\n",
      "        temp  registered\n",
      "3964   15.58        30.0\n",
      "10802  15.58       350.0\n",
      "3965   15.58        87.0\n",
      "4960   15.58       172.0\n",
      "1854   15.58         2.0\n",
      "...      ...         ...\n",
      "10058  15.58       311.0\n",
      "5816   15.58        95.0\n",
      "10881  15.58       329.0\n",
      "6594   15.58         9.0\n",
      "4728   15.58         5.0\n",
      "\n",
      "[247 rows x 2 columns]\n",
      "temp= 16.4 iqr= 171.75 low -225.625 high 461.375\n",
      "      temp  registered\n",
      "7057  16.4       103.0\n",
      "7022  16.4       118.0\n",
      "1150  16.4        96.0\n",
      "4980  16.4       130.0\n",
      "7036  16.4       147.0\n",
      "...    ...         ...\n",
      "5881  16.4        67.0\n",
      "5880  16.4        18.0\n",
      "5885  16.4       124.0\n",
      "5886  16.4       116.0\n",
      "1278  16.4         9.0\n",
      "\n",
      "[388 rows x 2 columns]\n",
      "temp= 17.22 iqr= 211.25 low -288.875 high 556.125\n",
      "       temp  registered\n",
      "4578  17.22       198.0\n",
      "4641  17.22       216.0\n",
      "4419  17.22         7.0\n",
      "4735  17.22       188.0\n",
      "4418  17.22        31.0\n",
      "...     ...         ...\n",
      "1998  17.22         2.0\n",
      "4134  17.22       298.0\n",
      "4116  17.22       102.0\n",
      "1642  17.22       316.0\n",
      "4069  17.22       147.0\n",
      "\n",
      "[348 rows x 2 columns]\n",
      "temp= 18.04 iqr= 153.75 low -205.625 high 409.375\n",
      "        temp  registered\n",
      "1952   18.04         4.0\n",
      "1951   18.04         5.0\n",
      "1108   18.04        51.0\n",
      "1107   18.04        80.0\n",
      "1106   18.04       109.0\n",
      "...      ...         ...\n",
      "1176   18.04       143.0\n",
      "1658   18.04        21.0\n",
      "4593   18.04       128.0\n",
      "1561   18.04        45.0\n",
      "10854  18.04       323.0\n",
      "\n",
      "[310 rows x 2 columns]\n",
      "temp= 18.86 iqr= 168.75 low -230.875 high 444.125\n",
      "       temp  registered\n",
      "5098  18.86        50.0\n",
      "5091  18.86        20.0\n",
      "4546  18.86       157.0\n",
      "5109  18.86        48.0\n",
      "5108  18.86        82.0\n",
      "...     ...         ...\n",
      "6622  18.86        24.0\n",
      "3991  18.86        81.0\n",
      "1695  18.86        49.0\n",
      "3990  18.86        33.0\n",
      "4008  18.86        66.0\n",
      "\n",
      "[389 rows x 2 columns]\n",
      "temp= 19.68 iqr= 177.0 low -225.75 high 482.25\n",
      "        temp  registered\n",
      "4152   19.68         7.0\n",
      "7821   19.68       165.0\n",
      "4150   19.68        60.0\n",
      "6997   19.68       151.0\n",
      "4151   19.68        36.0\n",
      "...      ...         ...\n",
      "4819   19.68        76.0\n",
      "4016   19.68        94.0\n",
      "4526   19.68       252.0\n",
      "1994   19.68        12.0\n",
      "10233  19.68       208.0\n",
      "\n",
      "[166 rows x 2 columns]\n",
      "temp= 20.5 iqr= 190.5 low -248.25 high 513.75\n",
      "      temp  registered\n",
      "7465  20.5       112.0\n",
      "9333  20.5       199.0\n",
      "9357  20.5       186.0\n",
      "7240  20.5        21.0\n",
      "7464  20.5       299.0\n",
      "...    ...         ...\n",
      "2074  20.5       361.0\n",
      "6824  20.5       291.0\n",
      "2075  20.5       215.0\n",
      "9922  20.5       467.0\n",
      "6854  20.5       133.0\n",
      "\n",
      "[311 rows x 2 columns]\n",
      "temp= 21.32 iqr= 199.25 low -264.125 high 532.875\n",
      "       temp  registered\n",
      "6340  21.32       122.0\n",
      "7084  21.32       246.0\n",
      "7670  21.32       133.0\n",
      "7284  21.32       218.0\n",
      "7558  21.32        72.0\n",
      "...     ...         ...\n",
      "3971  21.32       212.0\n",
      "852   21.32        61.0\n",
      "9286  21.32       427.0\n",
      "9498  21.32         4.0\n",
      "3976  21.32       480.0\n",
      "\n",
      "[351 rows x 2 columns]\n",
      "temp= 22.14 iqr= 167.5 low -208.75 high 461.25\n",
      "        temp  registered\n",
      "2064   22.14       147.0\n",
      "10204  22.14       347.0\n",
      "2105   22.14       221.0\n",
      "6853   22.14       210.0\n",
      "2550   22.14         3.0\n",
      "...      ...         ...\n",
      "4343   22.14        14.0\n",
      "4344   22.14         9.0\n",
      "4345   22.14         4.0\n",
      "4346   22.14         4.0\n",
      "4341   22.14        40.0\n",
      "\n",
      "[388 rows x 2 columns]\n",
      "temp= 22.96 iqr= 185.5 low -231.75 high 510.25\n",
      "       temp  registered\n",
      "2161  22.96        39.0\n",
      "2163  22.96         6.0\n",
      "2164  22.96         4.0\n",
      "6972  22.96       146.0\n",
      "2160  22.96       105.0\n",
      "...     ...         ...\n",
      "4457  22.96       469.0\n",
      "6676  22.96       151.0\n",
      "4442  22.96         2.0\n",
      "4353  22.96        53.0\n",
      "4473  22.96        75.0\n",
      "\n",
      "[371 rows x 2 columns]\n",
      "temp= 23.78 iqr= 178.0 low -186.5 high 525.5\n",
      "        temp  registered\n",
      "4190   23.78       157.0\n",
      "3916   23.78        30.0\n",
      "10491  23.78       240.0\n",
      "2530   23.78       432.0\n",
      "9961   23.78       198.0\n",
      "...      ...         ...\n",
      "1957   23.78       198.0\n",
      "7338   23.78        21.0\n",
      "7337   23.78        51.0\n",
      "2549   23.78         1.0\n",
      "9277   23.78       125.0\n",
      "\n",
      "[197 rows x 2 columns]\n",
      "temp= 24.6 iqr= 214.75 low -273.875 high 585.125\n",
      "      temp  registered\n",
      "8126  24.6        57.0\n",
      "3939  24.6         5.0\n",
      "9444  24.6       148.0\n",
      "8129  24.6        14.0\n",
      "8127  24.6        30.0\n",
      "...    ...         ...\n",
      "1937  24.6       230.0\n",
      "9556  24.6       148.0\n",
      "9470  24.6        66.0\n",
      "2147  24.6       156.0\n",
      "4162  24.6       138.0\n",
      "\n",
      "[369 rows x 2 columns]\n",
      "temp= 25.42 iqr= 215.5 low -284.25 high 577.75\n",
      "       temp  registered\n",
      "7828  25.42       230.0\n",
      "9371  25.42       408.0\n",
      "9322  25.42       540.0\n",
      "7636  25.42       241.0\n",
      "7732  25.42       400.0\n",
      "...     ...         ...\n",
      "2593  25.42        90.0\n",
      "2603  25.42       232.0\n",
      "4475  25.42       159.0\n",
      "4477  25.42       137.0\n",
      "2642  25.42        83.0\n",
      "\n",
      "[393 rows x 2 columns]\n",
      "temp= 26.24 iqr= 213.0 low -274.5 high 577.5\n",
      "       temp  registered\n",
      "2331  26.24        70.0\n",
      "2058  26.24       238.0\n",
      "3507  26.24        12.0\n",
      "2059  26.24       540.0\n",
      "7139  26.24       205.0\n",
      "...     ...         ...\n",
      "7260  26.24       251.0\n",
      "9059  26.24       213.0\n",
      "7261  26.24       190.0\n",
      "2012  26.24       480.0\n",
      "2011  26.24       532.0\n",
      "\n",
      "[437 rows x 2 columns]\n",
      "temp= 27.06 iqr= 199.0 low -265.5 high 530.5\n",
      "       temp  registered\n",
      "2934  27.06         4.0\n",
      "8950  27.06       467.0\n",
      "2670  27.06        10.0\n",
      "9039  27.06       143.0\n",
      "9085  27.06        57.0\n",
      "...     ...         ...\n",
      "3682  27.06        49.0\n",
      "2496  27.06       137.0\n",
      "2715  27.06        58.0\n",
      "3683  27.06       102.0\n",
      "3637  27.06       141.0\n",
      "\n",
      "[379 rows x 2 columns]\n",
      "temp= 27.88 iqr= 191.5 low -250.5 high 515.5\n",
      "       temp  registered\n",
      "7910  27.88       161.0\n",
      "8802  27.88         5.0\n",
      "8343  27.88        33.0\n",
      "3639  27.88       207.0\n",
      "1845  27.88       323.0\n",
      "...     ...         ...\n",
      "3578  27.88        53.0\n",
      "3176  27.88       105.0\n",
      "9069  27.88        23.0\n",
      "9386  27.88       196.0\n",
      "2386  27.88       432.0\n",
      "\n",
      "[217 rows x 2 columns]\n",
      "temp= 28.7 iqr= 229.0 low -283.5 high 632.5\n",
      "      temp  registered\n",
      "2787  28.7        24.0\n",
      "9107  28.7        41.0\n",
      "9035  28.7       242.0\n",
      "9034  28.7       324.0\n",
      "2739  28.7        55.0\n",
      "...    ...         ...\n",
      "2998  28.7       281.0\n",
      "2537  28.7       127.0\n",
      "8464  28.7       105.0\n",
      "8662  28.7       396.0\n",
      "3553  28.7        85.0\n",
      "\n",
      "[410 rows x 2 columns]\n",
      "temp= 29.52 iqr= 179.0 low -167.5 high 548.5\n",
      "       temp  registered\n",
      "9603  29.52       231.0\n",
      "9604  29.52       231.0\n",
      "3588  29.52       108.0\n",
      "3493  29.52       112.0\n",
      "2242  29.52       417.0\n",
      "...     ...         ...\n",
      "9101  29.52       208.0\n",
      "9195  29.52       126.0\n",
      "9269  29.52       415.0\n",
      "3406  29.52       232.0\n",
      "9343  29.52       419.0\n",
      "\n",
      "[333 rows x 2 columns]\n",
      "temp= 30.34 iqr= 171.0 low -128.0 high 556.0\n",
      "       temp  registered\n",
      "8914  30.34       467.0\n",
      "8566  30.34       472.0\n",
      "8915  30.34       374.0\n",
      "3903  30.34       251.0\n",
      "8561  30.34         5.0\n",
      "...     ...         ...\n",
      "3498  30.34       225.0\n",
      "2960  30.34       102.0\n",
      "2347  30.34       264.0\n",
      "3499  30.34       471.0\n",
      "8627  30.34       448.0\n",
      "\n",
      "[287 rows x 2 columns]\n",
      "temp= 31.16 iqr= 205.5 low -160.25 high 661.75\n",
      "       temp  registered\n",
      "9030  31.16       346.0\n",
      "8232  31.16       203.0\n",
      "8987  31.16       414.0\n",
      "8837  31.16       236.0\n",
      "8254  31.16       316.0\n",
      "...     ...         ...\n",
      "8426  31.16       166.0\n",
      "2270  31.16       193.0\n",
      "8402  31.16       173.0\n",
      "8652  31.16       301.0\n",
      "8905  31.16       111.0\n",
      "\n",
      "[227 rows x 2 columns]\n",
      "temp= 31.98 iqr= 136.0 low -57.25 high 486.75\n",
      "       temp  registered\n",
      "9073  31.98       289.0\n",
      "8359  31.98       325.0\n",
      "3255  31.98       164.0\n",
      "3256  31.98       164.0\n",
      "3259  31.98       466.0\n",
      "...     ...         ...\n",
      "8271  31.98        63.0\n",
      "2781  31.98       205.0\n",
      "8336  31.98       202.0\n",
      "2775  31.98       181.0\n",
      "8337  31.98       199.0\n",
      "\n",
      "[85 rows x 2 columns]\n",
      "temp= 32.8 iqr= 160.0 low -73.0 high 567.0\n",
      "      temp  registered\n",
      "3191  32.8       201.0\n",
      "3424  32.8       135.0\n",
      "3425  32.8       190.0\n",
      "8911  32.8       348.0\n",
      "2423  32.8       168.0\n",
      "...    ...         ...\n",
      "8406  32.8       220.0\n",
      "8405  32.8       175.0\n",
      "8404  32.8       208.0\n",
      "3356  32.8       488.0\n",
      "2756  32.8       107.0\n",
      "\n",
      "[187 rows x 2 columns]\n",
      "temp= 33.62 iqr= 134.25 low -47.625 high 489.375\n",
      "       temp  registered\n",
      "8381  33.62       171.0\n",
      "8647  33.62       335.0\n",
      "2803  33.62       466.0\n",
      "2512  33.62       219.0\n",
      "2510  33.62       244.0\n",
      "...     ...         ...\n",
      "3116  33.62       478.0\n",
      "8765  33.62       185.0\n",
      "8321  33.62        59.0\n",
      "2726  33.62       232.0\n",
      "8320  33.62        99.0\n",
      "\n",
      "[122 rows x 2 columns]\n",
      "temp= 34.44 iqr= 137.75 low -50.875 high 500.125\n",
      "       temp  registered\n",
      "2753  34.44       182.0\n",
      "2846  34.44       139.0\n",
      "8811  34.44       192.0\n",
      "8810  34.44       166.0\n",
      "8599  34.44       288.0\n",
      "...     ...         ...\n",
      "8666  34.44       186.0\n",
      "8327  34.44        95.0\n",
      "9004  34.44       254.0\n",
      "8522  34.44       125.0\n",
      "8304  34.44       187.0\n",
      "\n",
      "[75 rows x 2 columns]\n",
      "temp= 35.26 iqr= 181.5 low -131.75 high 594.25\n",
      "       temp  registered\n",
      "2851  35.26       489.0\n",
      "8281  35.26       130.0\n",
      "8526  35.26       176.0\n",
      "8546  35.26       146.0\n",
      "8210  35.26       151.0\n",
      "...     ...         ...\n",
      "2966  35.26       125.0\n",
      "8697  35.26       321.0\n",
      "2464  35.26       121.0\n",
      "8555  35.26       375.0\n",
      "8243  35.26       314.0\n",
      "\n",
      "[72 rows x 2 columns]\n",
      "temp= 36.08 iqr= 137.5 low -29.75 high 520.25\n",
      "       temp  registered\n",
      "8694  36.08       284.0\n",
      "8525  36.08       159.0\n",
      "8290  36.08       306.0\n",
      "8693  36.08       289.0\n",
      "8162  36.08       256.0\n",
      "3137  36.08       110.0\n",
      "8283  36.08       220.0\n",
      "8696  36.08       313.0\n",
      "8169  36.08       275.0\n",
      "8316  36.08       150.0\n",
      "3157  36.08        66.0\n",
      "2730  36.08       192.0\n",
      "8670  36.08       268.0\n",
      "8692  36.08       332.0\n",
      "2444  36.08       414.0\n",
      "8554  36.08       478.0\n",
      "8211  36.08       198.0\n",
      "8813  36.08       161.0\n",
      "8716  36.08       315.0\n",
      "8814  36.08       204.0\n",
      "2971  36.08       380.0\n",
      "8266  36.08       375.0\n",
      "2414  36.08       134.0\n",
      "temp= 36.9 iqr= 196.5 low -173.5 high 612.5\n",
      "      temp  registered\n",
      "3158  36.9       115.0\n",
      "8717  36.9       365.0\n",
      "8236  36.9       322.0\n",
      "8285  36.9       184.0\n",
      "8547  36.9       174.0\n",
      "3184  36.9       114.0\n",
      "3185  36.9       120.0\n",
      "3186  36.9       216.0\n",
      "3187  36.9       493.0\n",
      "8501  36.9       314.0\n",
      "3302  36.9       209.0\n",
      "3303  36.9       206.0\n",
      "2415  36.9       116.0\n",
      "2249  36.9       127.0\n",
      "2247  36.9       125.0\n",
      "8289  36.9       454.0\n",
      "8718  36.9       286.0\n",
      "8215  36.9       437.0\n",
      "8214  36.9       330.0\n",
      "8213  36.9       241.0\n",
      "8329  36.9       234.0\n",
      "8315  36.9       197.0\n",
      "8212  36.9       203.0\n",
      "8163  36.9       319.0\n",
      "2248  36.9       105.0\n",
      "8237  36.9       357.0\n",
      "8166  36.9       244.0\n",
      "2437  36.9        82.0\n",
      "3138  36.9       216.0\n",
      "8265  36.9       511.0\n",
      "2443  36.9       355.0\n",
      "8259  36.9       188.0\n",
      "8258  36.9       137.0\n",
      "8570  36.9       136.0\n",
      "8569  36.9        99.0\n",
      "3159  36.9       112.0\n",
      "3161  36.9        77.0\n",
      "2969  36.9       111.0\n",
      "2968  36.9        91.0\n",
      "8695  36.9       253.0\n",
      "3162  36.9       197.0\n",
      "2420  36.9       398.0\n",
      "8284  36.9       194.0\n",
      "8241  36.9       271.0\n",
      "2439  36.9       118.0\n",
      "temp= 37.72 iqr= 138.25 low -38.875 high 514.125\n",
      "       temp  registered\n",
      "8305  37.72       225.0\n",
      "8239  37.72       226.0\n",
      "8262  37.72       183.0\n",
      "8261  37.72       154.0\n",
      "8238  37.72       299.0\n",
      "8288  37.72       486.0\n",
      "8287  37.72       300.0\n",
      "8286  37.72       206.0\n",
      "8168  37.72       323.0\n",
      "8263  37.72       324.0\n",
      "8260  37.72       181.0\n",
      "8240  37.72       253.0\n",
      "8165  37.72       346.0\n",
      "2442  37.72       170.0\n",
      "2440  37.72        93.0\n",
      "2438  37.72       100.0\n",
      "8574  37.72       152.0\n",
      "8571  37.72       166.0\n",
      "3160  37.72        86.0\n",
      "2419  37.72       426.0\n",
      "2418  37.72       199.0\n",
      "2417  37.72       100.0\n",
      "2416  37.72       111.0\n",
      "8551  37.72       317.0\n",
      "8167  37.72       228.0\n",
      "8548  37.72       168.0\n",
      "8550  37.72       187.0\n",
      "8331  37.72       271.0\n",
      "8330  37.72       269.0\n",
      "8314  37.72       219.0\n",
      "8164  37.72       309.0\n",
      "8334  37.72       218.0\n",
      "temp= 38.54 iqr= 71.5 low 27.75 high 313.75\n",
      "       temp  registered\n",
      "8549  38.54       160.0\n",
      "8332  38.54       219.0\n",
      "8306  38.54       245.0\n",
      "8313  38.54       194.0\n",
      "2441  38.54        86.0\n",
      "8572  38.54       154.0\n",
      "8573  38.54       116.0\n",
      "temp= 39.36 iqr= 35.25 low 142.625 high 283.625\n",
      "       temp  registered\n",
      "8312  39.36       176.0\n",
      "8309  39.36       203.0\n",
      "8310  39.36       193.0\n",
      "8308  39.36       244.0\n",
      "8307  39.36       218.0\n",
      "8333  39.36       235.0\n",
      "temp= 41.0 iqr= 0.0 low 192.0 high 192.0\n",
      "      temp  registered\n",
      "8311  41.0       192.0\n"
     ]
    }
   ],
   "source": [
    "prev = 9999\n",
    "bike_sort_final = pd.DataFrame()\n",
    "for col in bike_sort['temp']:\n",
    "    if col != prev:\n",
    "        prev = col\n",
    "        filt = bike_sort['temp'] == col\n",
    "        q1 = bike_sort['registered'][filt].quantile(0.25)\n",
    "        q3 = bike_sort['registered'][filt].quantile(0.75)\n",
    "        iqr = q3 - q1\n",
    "        low = q1-1.5*iqr\n",
    "        high = q3+1.5*iqr \n",
    "        print('temp=', col, 'iqr=', iqr, 'low', low, 'high', high)\n",
    "    ##filter1 = bike_sort['registered']< high\n",
    "        test = bike_sort[(bike_sort['temp'] == col) & (bike_sort['registered'] <= high)]\n",
    "        print(test)\n",
    "        bike_sort_final = pd.concat((bike_sort_final, test),axis=0)\n"
   ]
  },
  {
   "cell_type": "code",
   "execution_count": 257,
   "metadata": {},
   "outputs": [
    {
     "data": {
      "text/plain": [
       "14.76    467\n",
       "26.24    453\n",
       "28.70    427\n",
       "13.94    413\n",
       "18.86    406\n",
       "22.14    403\n",
       "25.42    403\n",
       "16.40    400\n",
       "22.96    395\n",
       "27.06    394\n",
       "24.60    390\n",
       "12.30    385\n",
       "21.32    362\n",
       "13.12    356\n",
       "17.22    356\n",
       "29.52    353\n",
       "10.66    332\n",
       "18.04    328\n",
       "20.50    327\n",
       "30.34    299\n",
       "9.84     294\n",
       "15.58    255\n",
       "9.02     248\n",
       "31.16    242\n",
       "8.20     229\n",
       "27.88    224\n",
       "23.78    203\n",
       "32.80    202\n",
       "11.48    181\n",
       "19.68    170\n",
       "6.56     146\n",
       "33.62    130\n",
       "5.74     107\n",
       "7.38     106\n",
       "31.98     98\n",
       "34.44     80\n",
       "35.26     76\n",
       "4.92      60\n",
       "36.90     46\n",
       "4.10      44\n",
       "37.72     34\n",
       "36.08     23\n",
       "3.28      11\n",
       "0.82       8\n",
       "38.54      7\n",
       "39.36      6\n",
       "2.46       5\n",
       "1.64       2\n",
       "41.00      1\n",
       "Name: temp, dtype: int64"
      ]
     },
     "execution_count": 257,
     "metadata": {},
     "output_type": "execute_result"
    }
   ],
   "source": [
    "bike.temp.value_counts()"
   ]
  },
  {
   "cell_type": "code",
   "execution_count": 258,
   "metadata": {},
   "outputs": [
    {
     "data": {
      "text/plain": [
       "14.76    454\n",
       "26.24    437\n",
       "28.70    410\n",
       "13.94    401\n",
       "25.42    393\n",
       "18.86    389\n",
       "22.14    388\n",
       "16.40    388\n",
       "27.06    379\n",
       "22.96    371\n",
       "24.60    369\n",
       "12.30    362\n",
       "21.32    351\n",
       "17.22    348\n",
       "13.12    334\n",
       "29.52    333\n",
       "10.66    315\n",
       "20.50    311\n",
       "18.04    310\n",
       "30.34    287\n",
       "9.84     276\n",
       "15.58    247\n",
       "9.02     233\n",
       "31.16    227\n",
       "27.88    217\n",
       "8.20     210\n",
       "23.78    197\n",
       "32.80    187\n",
       "11.48    175\n",
       "19.68    166\n",
       "6.56     137\n",
       "33.62    122\n",
       "5.74     101\n",
       "7.38      96\n",
       "31.98     85\n",
       "34.44     75\n",
       "35.26     72\n",
       "4.92      59\n",
       "36.90     45\n",
       "4.10      39\n",
       "37.72     32\n",
       "36.08     23\n",
       "3.28      10\n",
       "38.54      7\n",
       "0.82       7\n",
       "39.36      6\n",
       "2.46       5\n",
       "1.64       2\n",
       "41.00      1\n",
       "Name: temp, dtype: int64"
      ]
     },
     "execution_count": 258,
     "metadata": {},
     "output_type": "execute_result"
    }
   ],
   "source": [
    "bike_sort_final.temp.value_counts()"
   ]
  },
  {
   "cell_type": "code",
   "execution_count": 259,
   "metadata": {},
   "outputs": [
    {
     "data": {
      "text/plain": [
       "<matplotlib.collections.PathCollection at 0x1bc0fe25cd0>"
      ]
     },
     "execution_count": 259,
     "metadata": {},
     "output_type": "execute_result"
    },
    {
     "data": {
      "image/png": "[encoded data removed]",
      "text/plain": [
       "<Figure size 432x288 with 1 Axes>"
      ]
     },
     "metadata": {
      "needs_background": "light"
     },
     "output_type": "display_data"
    }
   ],
   "source": [
    "plt.scatter(bike_sort_final['temp'], bike_sort_final['registered'])"
   ]
  },
  {
   "cell_type": "code",
   "execution_count": 261,
   "metadata": {},
   "outputs": [
    {
     "data": {
      "text/plain": [
       "LinearRegression()"
      ]
     },
     "execution_count": 261,
     "metadata": {},
     "output_type": "execute_result"
    }
   ],
   "source": [
    "model.fit(bike_sort_final[['temp']], bike_sort_final['registered'])"
   ]
  },
  {
   "cell_type": "code",
   "execution_count": 265,
   "metadata": {},
   "outputs": [],
   "source": [
    "m1 = model.coef_"
   ]
  },
  {
   "cell_type": "code",
   "execution_count": 264,
   "metadata": {},
   "outputs": [],
   "source": [
    "c1 = model.intercept_"
   ]
  },
  {
   "cell_type": "code",
   "execution_count": 266,
   "metadata": {},
   "outputs": [
    {
     "name": "stdout",
     "output_type": "stream",
     "text": [
      "[5.80517585] 18.467239259920674\n"
     ]
    }
   ],
   "source": [
    "print(m1, c1)"
   ]
  },
  {
   "cell_type": "code",
   "execution_count": 267,
   "metadata": {},
   "outputs": [],
   "source": [
    "new_predict_reg = model.predict(bike_sort_final[['temp']])"
   ]
  },
  {
   "cell_type": "code",
   "execution_count": 269,
   "metadata": {},
   "outputs": [],
   "source": [
    "new_actual_reg = (bike_sort_final['registered'])"
   ]
  },
  {
   "cell_type": "code",
   "execution_count": 270,
   "metadata": {},
   "outputs": [
    {
     "data": {
      "text/plain": [
       "[<matplotlib.lines.Line2D at 0x1bc10916460>]"
      ]
     },
     "execution_count": 270,
     "metadata": {},
     "output_type": "execute_result"
    },
    {
     "data": {
      "image/png": "[encoded data removed]",
      "text/plain": [
       "<Figure size 432x288 with 1 Axes>"
      ]
     },
     "metadata": {
      "needs_background": "light"
     },
     "output_type": "display_data"
    }
   ],
   "source": [
    "plt.scatter(bike_sort_final['temp'], new_actual_reg)\n",
    "plt.plot(bike_sort_final['temp'], new_predict_reg, color='r')"
   ]
  },
  {
   "cell_type": "code",
   "execution_count": 271,
   "metadata": {},
   "outputs": [
    {
     "data": {
      "text/plain": [
       "12261.99942082447"
      ]
     },
     "execution_count": 271,
     "metadata": {},
     "output_type": "execute_result"
    }
   ],
   "source": [
    "mean_squared_error(new_actual_reg, new_predict_reg)"
   ]
  },
  {
   "cell_type": "code",
   "execution_count": 272,
   "metadata": {},
   "outputs": [
    {
     "data": {
      "text/plain": [
       "0.1418405829646029"
      ]
     },
     "execution_count": 272,
     "metadata": {},
     "output_type": "execute_result"
    }
   ],
   "source": [
    "r2_score(new_actual_reg, new_predict_reg)"
   ]
  },
  {
   "cell_type": "code",
   "execution_count": null,
   "metadata": {},
   "outputs": [],
   "source": []
  }
 ],
 "metadata": {
  "kernelspec": {
   "display_name": "Python 3",
   "language": "python",
   "name": "python3"
  },
  "language_info": {
   "codemirror_mode": {
    "name": "ipython",
    "version": 3
   },
   "file_extension": ".py",
   "mimetype": "text/x-python",
   "name": "python",
   "nbconvert_exporter": "python",
   "pygments_lexer": "ipython3",
   "version": "3.8.5"
  }
 },
 "nbformat": 4,
 "nbformat_minor": 4
}
