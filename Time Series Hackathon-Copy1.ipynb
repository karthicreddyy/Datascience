{
 "cells": [
  {
   "cell_type": "code",
   "execution_count": 1,
   "metadata": {},
   "outputs": [],
   "source": [
    "import pandas as pd\n",
    "import numpy as np"
   ]
  },
  {
   "cell_type": "code",
   "execution_count": 2,
   "metadata": {},
   "outputs": [],
   "source": [
    "import matplotlib.pyplot as plt"
   ]
  },
  {
   "cell_type": "code",
   "execution_count": 3,
   "metadata": {},
   "outputs": [],
   "source": [
    "from statsmodels.tsa.stattools import acf, acovf, pacf, pacf_ols, pacf_yw"
   ]
  },
  {
   "cell_type": "code",
   "execution_count": 4,
   "metadata": {},
   "outputs": [],
   "source": [
    "from pandas.plotting import lag_plot ## Useful for plotting time-series against lag of its own series"
   ]
  },
  {
   "cell_type": "code",
   "execution_count": 5,
   "metadata": {},
   "outputs": [],
   "source": [
    "from statsmodels.graphics.tsaplots import plot_acf, plot_pacf"
   ]
  },
  {
   "cell_type": "code",
   "execution_count": 6,
   "metadata": {},
   "outputs": [],
   "source": [
    "from statsmodels.tsa.arima_model import ARMA, ARIMA, ARMAResults, ARIMAResults"
   ]
  },
  {
   "cell_type": "code",
   "execution_count": 7,
   "metadata": {},
   "outputs": [],
   "source": [
    "##pip install pmdarima "
   ]
  },
  {
   "cell_type": "code",
   "execution_count": 8,
   "metadata": {},
   "outputs": [],
   "source": [
    "import warnings\n",
    "warnings.filterwarnings('ignore')"
   ]
  },
  {
   "cell_type": "code",
   "execution_count": 9,
   "metadata": {},
   "outputs": [],
   "source": [
    "from fbprophet import Prophet"
   ]
  },
  {
   "cell_type": "code",
   "execution_count": 10,
   "metadata": {},
   "outputs": [],
   "source": [
    "from pmdarima import auto_arima"
   ]
  },
  {
   "cell_type": "code",
   "execution_count": null,
   "metadata": {},
   "outputs": [],
   "source": []
  },
  {
   "cell_type": "code",
   "execution_count": null,
   "metadata": {},
   "outputs": [],
   "source": []
  },
  {
   "cell_type": "code",
   "execution_count": 11,
   "metadata": {},
   "outputs": [],
   "source": [
    "train = pd.read_csv(r'C:\\Users\\mailk\\OneDrive\\Desktop\\AI and ML\\Time Series\\data\\Hackathon\\Train.csv',index_col='Datetime', parse_dates=True, infer_datetime_format=True)\n"
   ]
  },
  {
   "cell_type": "code",
   "execution_count": 64,
   "metadata": {},
   "outputs": [],
   "source": [
    "test = pd.read_csv(r'C:\\Users\\mailk\\OneDrive\\Desktop\\AI and ML\\Time Series\\data\\Hackathon\\Test.csv',index_col='Datetime', parse_dates=True, infer_datetime_format=True)"
   ]
  },
  {
   "cell_type": "code",
   "execution_count": 13,
   "metadata": {},
   "outputs": [],
   "source": [
    "submission = pd.read_csv(r'C:\\Users\\mailk\\OneDrive\\Desktop\\AI and ML\\Time Series\\data\\Hackathon\\sample_submission.csv')"
   ]
  },
  {
   "cell_type": "code",
   "execution_count": 14,
   "metadata": {},
   "outputs": [
    {
     "data": {
      "text/html": [
       "<div>\n",
       "<style scoped>\n",
       "    .dataframe tbody tr th:only-of-type {\n",
       "        vertical-align: middle;\n",
       "    }\n",
       "\n",
       "    .dataframe tbody tr th {\n",
       "        vertical-align: top;\n",
       "    }\n",
       "\n",
       "    .dataframe thead th {\n",
       "        text-align: right;\n",
       "    }\n",
       "</style>\n",
       "<table border=\"1\" class=\"dataframe\">\n",
       "  <thead>\n",
       "    <tr style=\"text-align: right;\">\n",
       "      <th></th>\n",
       "      <th>ID</th>\n",
       "      <th>Count</th>\n",
       "    </tr>\n",
       "    <tr>\n",
       "      <th>Datetime</th>\n",
       "      <th></th>\n",
       "      <th></th>\n",
       "    </tr>\n",
       "  </thead>\n",
       "  <tbody>\n",
       "    <tr>\n",
       "      <th>2012-08-25 00:00:00</th>\n",
       "      <td>0</td>\n",
       "      <td>8</td>\n",
       "    </tr>\n",
       "    <tr>\n",
       "      <th>2012-08-25 01:00:00</th>\n",
       "      <td>1</td>\n",
       "      <td>2</td>\n",
       "    </tr>\n",
       "    <tr>\n",
       "      <th>2012-08-25 02:00:00</th>\n",
       "      <td>2</td>\n",
       "      <td>6</td>\n",
       "    </tr>\n",
       "    <tr>\n",
       "      <th>2012-08-25 03:00:00</th>\n",
       "      <td>3</td>\n",
       "      <td>2</td>\n",
       "    </tr>\n",
       "    <tr>\n",
       "      <th>2012-08-25 04:00:00</th>\n",
       "      <td>4</td>\n",
       "      <td>2</td>\n",
       "    </tr>\n",
       "    <tr>\n",
       "      <th>...</th>\n",
       "      <td>...</td>\n",
       "      <td>...</td>\n",
       "    </tr>\n",
       "    <tr>\n",
       "      <th>2014-09-25 19:00:00</th>\n",
       "      <td>18283</td>\n",
       "      <td>868</td>\n",
       "    </tr>\n",
       "    <tr>\n",
       "      <th>2014-09-25 20:00:00</th>\n",
       "      <td>18284</td>\n",
       "      <td>732</td>\n",
       "    </tr>\n",
       "    <tr>\n",
       "      <th>2014-09-25 21:00:00</th>\n",
       "      <td>18285</td>\n",
       "      <td>702</td>\n",
       "    </tr>\n",
       "    <tr>\n",
       "      <th>2014-09-25 22:00:00</th>\n",
       "      <td>18286</td>\n",
       "      <td>580</td>\n",
       "    </tr>\n",
       "    <tr>\n",
       "      <th>2014-09-25 23:00:00</th>\n",
       "      <td>18287</td>\n",
       "      <td>534</td>\n",
       "    </tr>\n",
       "  </tbody>\n",
       "</table>\n",
       "<p>18288 rows × 2 columns</p>\n",
       "</div>"
      ],
      "text/plain": [
       "                        ID  Count\n",
       "Datetime                         \n",
       "2012-08-25 00:00:00      0      8\n",
       "2012-08-25 01:00:00      1      2\n",
       "2012-08-25 02:00:00      2      6\n",
       "2012-08-25 03:00:00      3      2\n",
       "2012-08-25 04:00:00      4      2\n",
       "...                    ...    ...\n",
       "2014-09-25 19:00:00  18283    868\n",
       "2014-09-25 20:00:00  18284    732\n",
       "2014-09-25 21:00:00  18285    702\n",
       "2014-09-25 22:00:00  18286    580\n",
       "2014-09-25 23:00:00  18287    534\n",
       "\n",
       "[18288 rows x 2 columns]"
      ]
     },
     "execution_count": 14,
     "metadata": {},
     "output_type": "execute_result"
    }
   ],
   "source": [
    "train"
   ]
  },
  {
   "cell_type": "code",
   "execution_count": 15,
   "metadata": {},
   "outputs": [
    {
     "data": {
      "text/html": [
       "<div>\n",
       "<style scoped>\n",
       "    .dataframe tbody tr th:only-of-type {\n",
       "        vertical-align: middle;\n",
       "    }\n",
       "\n",
       "    .dataframe tbody tr th {\n",
       "        vertical-align: top;\n",
       "    }\n",
       "\n",
       "    .dataframe thead th {\n",
       "        text-align: right;\n",
       "    }\n",
       "</style>\n",
       "<table border=\"1\" class=\"dataframe\">\n",
       "  <thead>\n",
       "    <tr style=\"text-align: right;\">\n",
       "      <th></th>\n",
       "      <th>ID</th>\n",
       "    </tr>\n",
       "    <tr>\n",
       "      <th>Datetime</th>\n",
       "      <th></th>\n",
       "    </tr>\n",
       "  </thead>\n",
       "  <tbody>\n",
       "    <tr>\n",
       "      <th>2014-09-26 00:00:00</th>\n",
       "      <td>18288</td>\n",
       "    </tr>\n",
       "    <tr>\n",
       "      <th>2014-09-26 01:00:00</th>\n",
       "      <td>18289</td>\n",
       "    </tr>\n",
       "    <tr>\n",
       "      <th>2014-09-26 02:00:00</th>\n",
       "      <td>18290</td>\n",
       "    </tr>\n",
       "    <tr>\n",
       "      <th>2014-09-26 03:00:00</th>\n",
       "      <td>18291</td>\n",
       "    </tr>\n",
       "    <tr>\n",
       "      <th>2014-09-26 04:00:00</th>\n",
       "      <td>18292</td>\n",
       "    </tr>\n",
       "    <tr>\n",
       "      <th>...</th>\n",
       "      <td>...</td>\n",
       "    </tr>\n",
       "    <tr>\n",
       "      <th>2015-04-26 19:00:00</th>\n",
       "      <td>23395</td>\n",
       "    </tr>\n",
       "    <tr>\n",
       "      <th>2015-04-26 20:00:00</th>\n",
       "      <td>23396</td>\n",
       "    </tr>\n",
       "    <tr>\n",
       "      <th>2015-04-26 21:00:00</th>\n",
       "      <td>23397</td>\n",
       "    </tr>\n",
       "    <tr>\n",
       "      <th>2015-04-26 22:00:00</th>\n",
       "      <td>23398</td>\n",
       "    </tr>\n",
       "    <tr>\n",
       "      <th>2015-04-26 23:00:00</th>\n",
       "      <td>23399</td>\n",
       "    </tr>\n",
       "  </tbody>\n",
       "</table>\n",
       "<p>5112 rows × 1 columns</p>\n",
       "</div>"
      ],
      "text/plain": [
       "                        ID\n",
       "Datetime                  \n",
       "2014-09-26 00:00:00  18288\n",
       "2014-09-26 01:00:00  18289\n",
       "2014-09-26 02:00:00  18290\n",
       "2014-09-26 03:00:00  18291\n",
       "2014-09-26 04:00:00  18292\n",
       "...                    ...\n",
       "2015-04-26 19:00:00  23395\n",
       "2015-04-26 20:00:00  23396\n",
       "2015-04-26 21:00:00  23397\n",
       "2015-04-26 22:00:00  23398\n",
       "2015-04-26 23:00:00  23399\n",
       "\n",
       "[5112 rows x 1 columns]"
      ]
     },
     "execution_count": 15,
     "metadata": {},
     "output_type": "execute_result"
    }
   ],
   "source": [
    "test"
   ]
  },
  {
   "cell_type": "code",
   "execution_count": 17,
   "metadata": {},
   "outputs": [
    {
     "name": "stdout",
     "output_type": "stream",
     "text": [
      "H\n"
     ]
    }
   ],
   "source": [
    "print(train.index.inferred_freq)"
   ]
  },
  {
   "cell_type": "code",
   "execution_count": 18,
   "metadata": {},
   "outputs": [
    {
     "data": {
      "text/html": [
       "<div>\n",
       "<style scoped>\n",
       "    .dataframe tbody tr th:only-of-type {\n",
       "        vertical-align: middle;\n",
       "    }\n",
       "\n",
       "    .dataframe tbody tr th {\n",
       "        vertical-align: top;\n",
       "    }\n",
       "\n",
       "    .dataframe thead th {\n",
       "        text-align: right;\n",
       "    }\n",
       "</style>\n",
       "<table border=\"1\" class=\"dataframe\">\n",
       "  <thead>\n",
       "    <tr style=\"text-align: right;\">\n",
       "      <th></th>\n",
       "      <th>ID</th>\n",
       "      <th>Count</th>\n",
       "    </tr>\n",
       "    <tr>\n",
       "      <th>Datetime</th>\n",
       "      <th></th>\n",
       "      <th></th>\n",
       "    </tr>\n",
       "  </thead>\n",
       "  <tbody>\n",
       "  </tbody>\n",
       "</table>\n",
       "</div>"
      ],
      "text/plain": [
       "Empty DataFrame\n",
       "Columns: [ID, Count]\n",
       "Index: []"
      ]
     },
     "execution_count": 18,
     "metadata": {},
     "output_type": "execute_result"
    }
   ],
   "source": [
    "train[train['Count'].isna()]"
   ]
  },
  {
   "cell_type": "code",
   "execution_count": 19,
   "metadata": {},
   "outputs": [
    {
     "data": {
      "text/html": [
       "<div>\n",
       "<style scoped>\n",
       "    .dataframe tbody tr th:only-of-type {\n",
       "        vertical-align: middle;\n",
       "    }\n",
       "\n",
       "    .dataframe tbody tr th {\n",
       "        vertical-align: top;\n",
       "    }\n",
       "\n",
       "    .dataframe thead th {\n",
       "        text-align: right;\n",
       "    }\n",
       "</style>\n",
       "<table border=\"1\" class=\"dataframe\">\n",
       "  <thead>\n",
       "    <tr style=\"text-align: right;\">\n",
       "      <th></th>\n",
       "      <th>ID</th>\n",
       "      <th>Count</th>\n",
       "    </tr>\n",
       "    <tr>\n",
       "      <th>Datetime</th>\n",
       "      <th></th>\n",
       "      <th></th>\n",
       "    </tr>\n",
       "  </thead>\n",
       "  <tbody>\n",
       "  </tbody>\n",
       "</table>\n",
       "</div>"
      ],
      "text/plain": [
       "Empty DataFrame\n",
       "Columns: [ID, Count]\n",
       "Index: []"
      ]
     },
     "execution_count": 19,
     "metadata": {},
     "output_type": "execute_result"
    }
   ],
   "source": [
    "train[train.duplicated()]"
   ]
  },
  {
   "cell_type": "code",
   "execution_count": 20,
   "metadata": {},
   "outputs": [
    {
     "data": {
      "text/plain": [
       "<AxesSubplot:xlabel='y(t)', ylabel='y(t + 1)'>"
      ]
     },
     "execution_count": 20,
     "metadata": {},
     "output_type": "execute_result"
    },
    {
     "data": {
      "image/png": "[encoded data removed]",
      "text/plain": [
       "<Figure size 432x288 with 1 Axes>"
      ]
     },
     "metadata": {
      "needs_background": "light"
     },
     "output_type": "display_data"
    }
   ],
   "source": [
    "lag_plot(train['Count'])"
   ]
  },
  {
   "cell_type": "code",
   "execution_count": 21,
   "metadata": {},
   "outputs": [
    {
     "data": {
      "text/plain": [
       "<AxesSubplot:xlabel='Datetime'>"
      ]
     },
     "execution_count": 21,
     "metadata": {},
     "output_type": "execute_result"
    },
    {
     "data": {
      "image/png": "[encoded data removed]",
      "text/plain": [
       "<Figure size 864x576 with 1 Axes>"
      ]
     },
     "metadata": {
      "needs_background": "light"
     },
     "output_type": "display_data"
    }
   ],
   "source": [
    "train['Count'][:48].plot(figsize=(12,8))"
   ]
  },
  {
   "cell_type": "code",
   "execution_count": 35,
   "metadata": {},
   "outputs": [
    {
     "data": {
      "image/png": "[encoded data removed]",
      "text/plain": [
       "<Figure size 432x288 with 1 Axes>"
      ]
     },
     "metadata": {
      "needs_background": "light"
     },
     "output_type": "display_data"
    }
   ],
   "source": [
    "plot_acf(train['Count'], lags=40);"
   ]
  },
  {
   "cell_type": "code",
   "execution_count": 36,
   "metadata": {},
   "outputs": [
    {
     "data": {
      "image/png": "[encoded data removed]",
      "text/plain": [
       "<Figure size 432x288 with 1 Axes>"
      ]
     },
     "metadata": {
      "needs_background": "light"
     },
     "output_type": "display_data"
    }
   ],
   "source": [
    "plot_pacf(train['Count'], lags=40);"
   ]
  },
  {
   "cell_type": "code",
   "execution_count": 28,
   "metadata": {},
   "outputs": [],
   "source": [
    " train_resample = pd.DataFrame(train['Count'].resample('D').sum())"
   ]
  },
  {
   "cell_type": "code",
   "execution_count": 29,
   "metadata": {},
   "outputs": [
    {
     "data": {
      "text/html": [
       "<div>\n",
       "<style scoped>\n",
       "    .dataframe tbody tr th:only-of-type {\n",
       "        vertical-align: middle;\n",
       "    }\n",
       "\n",
       "    .dataframe tbody tr th {\n",
       "        vertical-align: top;\n",
       "    }\n",
       "\n",
       "    .dataframe thead th {\n",
       "        text-align: right;\n",
       "    }\n",
       "</style>\n",
       "<table border=\"1\" class=\"dataframe\">\n",
       "  <thead>\n",
       "    <tr style=\"text-align: right;\">\n",
       "      <th></th>\n",
       "      <th>Count</th>\n",
       "    </tr>\n",
       "    <tr>\n",
       "      <th>Datetime</th>\n",
       "      <th></th>\n",
       "    </tr>\n",
       "  </thead>\n",
       "  <tbody>\n",
       "    <tr>\n",
       "      <th>2012-08-25</th>\n",
       "      <td>76</td>\n",
       "    </tr>\n",
       "    <tr>\n",
       "      <th>2012-08-26</th>\n",
       "      <td>88</td>\n",
       "    </tr>\n",
       "    <tr>\n",
       "      <th>2012-08-27</th>\n",
       "      <td>62</td>\n",
       "    </tr>\n",
       "    <tr>\n",
       "      <th>2012-08-28</th>\n",
       "      <td>58</td>\n",
       "    </tr>\n",
       "    <tr>\n",
       "      <th>2012-08-29</th>\n",
       "      <td>60</td>\n",
       "    </tr>\n",
       "    <tr>\n",
       "      <th>...</th>\n",
       "      <td>...</td>\n",
       "    </tr>\n",
       "    <tr>\n",
       "      <th>2014-09-21</th>\n",
       "      <td>9102</td>\n",
       "    </tr>\n",
       "    <tr>\n",
       "      <th>2014-09-22</th>\n",
       "      <td>14116</td>\n",
       "    </tr>\n",
       "    <tr>\n",
       "      <th>2014-09-23</th>\n",
       "      <td>13304</td>\n",
       "    </tr>\n",
       "    <tr>\n",
       "      <th>2014-09-24</th>\n",
       "      <td>16856</td>\n",
       "    </tr>\n",
       "    <tr>\n",
       "      <th>2014-09-25</th>\n",
       "      <td>14152</td>\n",
       "    </tr>\n",
       "  </tbody>\n",
       "</table>\n",
       "<p>762 rows × 1 columns</p>\n",
       "</div>"
      ],
      "text/plain": [
       "            Count\n",
       "Datetime         \n",
       "2012-08-25     76\n",
       "2012-08-26     88\n",
       "2012-08-27     62\n",
       "2012-08-28     58\n",
       "2012-08-29     60\n",
       "...           ...\n",
       "2014-09-21   9102\n",
       "2014-09-22  14116\n",
       "2014-09-23  13304\n",
       "2014-09-24  16856\n",
       "2014-09-25  14152\n",
       "\n",
       "[762 rows x 1 columns]"
      ]
     },
     "execution_count": 29,
     "metadata": {},
     "output_type": "execute_result"
    }
   ],
   "source": [
    "train_resample"
   ]
  },
  {
   "cell_type": "code",
   "execution_count": 30,
   "metadata": {},
   "outputs": [
    {
     "data": {
      "text/plain": [
       "Count    int64\n",
       "dtype: object"
      ]
     },
     "execution_count": 30,
     "metadata": {},
     "output_type": "execute_result"
    }
   ],
   "source": [
    "train_resample.dtypes"
   ]
  },
  {
   "cell_type": "code",
   "execution_count": 31,
   "metadata": {},
   "outputs": [],
   "source": [
    "train = train_resample.copy()"
   ]
  },
  {
   "cell_type": "code",
   "execution_count": 37,
   "metadata": {},
   "outputs": [
    {
     "data": {
      "text/html": [
       "<div>\n",
       "<style scoped>\n",
       "    .dataframe tbody tr th:only-of-type {\n",
       "        vertical-align: middle;\n",
       "    }\n",
       "\n",
       "    .dataframe tbody tr th {\n",
       "        vertical-align: top;\n",
       "    }\n",
       "\n",
       "    .dataframe thead th {\n",
       "        text-align: right;\n",
       "    }\n",
       "</style>\n",
       "<table border=\"1\" class=\"dataframe\">\n",
       "  <thead>\n",
       "    <tr style=\"text-align: right;\">\n",
       "      <th></th>\n",
       "      <th>Count</th>\n",
       "    </tr>\n",
       "    <tr>\n",
       "      <th>Datetime</th>\n",
       "      <th></th>\n",
       "    </tr>\n",
       "  </thead>\n",
       "  <tbody>\n",
       "    <tr>\n",
       "      <th>2012-08-25</th>\n",
       "      <td>76</td>\n",
       "    </tr>\n",
       "    <tr>\n",
       "      <th>2012-08-26</th>\n",
       "      <td>88</td>\n",
       "    </tr>\n",
       "    <tr>\n",
       "      <th>2012-08-27</th>\n",
       "      <td>62</td>\n",
       "    </tr>\n",
       "    <tr>\n",
       "      <th>2012-08-28</th>\n",
       "      <td>58</td>\n",
       "    </tr>\n",
       "    <tr>\n",
       "      <th>2012-08-29</th>\n",
       "      <td>60</td>\n",
       "    </tr>\n",
       "    <tr>\n",
       "      <th>...</th>\n",
       "      <td>...</td>\n",
       "    </tr>\n",
       "    <tr>\n",
       "      <th>2014-09-21</th>\n",
       "      <td>9102</td>\n",
       "    </tr>\n",
       "    <tr>\n",
       "      <th>2014-09-22</th>\n",
       "      <td>14116</td>\n",
       "    </tr>\n",
       "    <tr>\n",
       "      <th>2014-09-23</th>\n",
       "      <td>13304</td>\n",
       "    </tr>\n",
       "    <tr>\n",
       "      <th>2014-09-24</th>\n",
       "      <td>16856</td>\n",
       "    </tr>\n",
       "    <tr>\n",
       "      <th>2014-09-25</th>\n",
       "      <td>14152</td>\n",
       "    </tr>\n",
       "  </tbody>\n",
       "</table>\n",
       "<p>762 rows × 1 columns</p>\n",
       "</div>"
      ],
      "text/plain": [
       "            Count\n",
       "Datetime         \n",
       "2012-08-25     76\n",
       "2012-08-26     88\n",
       "2012-08-27     62\n",
       "2012-08-28     58\n",
       "2012-08-29     60\n",
       "...           ...\n",
       "2014-09-21   9102\n",
       "2014-09-22  14116\n",
       "2014-09-23  13304\n",
       "2014-09-24  16856\n",
       "2014-09-25  14152\n",
       "\n",
       "[762 rows x 1 columns]"
      ]
     },
     "execution_count": 37,
     "metadata": {},
     "output_type": "execute_result"
    }
   ],
   "source": [
    "train"
   ]
  },
  {
   "cell_type": "code",
   "execution_count": null,
   "metadata": {},
   "outputs": [],
   "source": []
  },
  {
   "cell_type": "code",
   "execution_count": 32,
   "metadata": {},
   "outputs": [],
   "source": [
    "from statsmodels.tsa.stattools import adfuller\n",
    "\n",
    "def adf_test(series,title=' '):    #Pass Series and a title, Function returns an ADF Report\n",
    "    \n",
    "    print(f'Augmented Dickey-Fuller Test: {title}')\n",
    "    result = adfuller(series.dropna(), autolag='AIC') #Dropna() handles differenced data\n",
    "    ##print(result)\n",
    "    \n",
    "    labels = ['ADF test statistic', 'p-value', '# lags used', '# observations']\n",
    "    out = pd.Series(result[0:4], index=labels)\n",
    "    \n",
    "    for key, val in result[4].items():\n",
    "        out[f'critical value ({key})']= val\n",
    "    \n",
    "    print(out.to_string())  # to_string() removes the line \"dtype: float\"\n",
    "    \n",
    "    if result[1] <= 0.5:\n",
    "        print(\"Strong evidence against null hypothesis\")\n",
    "        print('Reject the Null Hypothesis')\n",
    "        print('Data has no unit root and is Stationary')\n",
    "    else:\n",
    "        print(\"Weak evidence against null hypothesis\")\n",
    "        print('Failed to reject the Null Hypothesis')\n",
    "        print('Data has unit root and is non-Stationary')\n",
    "    ##return result"
   ]
  },
  {
   "cell_type": "code",
   "execution_count": 33,
   "metadata": {},
   "outputs": [
    {
     "name": "stdout",
     "output_type": "stream",
     "text": [
      "Augmented Dickey-Fuller Test: Daily  Passengers\n",
      "ADF test statistic        2.986351\n",
      "p-value                   1.000000\n",
      "# lags used              20.000000\n",
      "# observations          741.000000\n",
      "critical value (1%)      -3.439206\n",
      "critical value (5%)      -2.865448\n",
      "critical value (10%)     -2.568851\n",
      "Weak evidence against null hypothesis\n",
      "Failed to reject the Null Hypothesis\n",
      "Data has unit root and is non-Stationary\n"
     ]
    }
   ],
   "source": [
    "adf_test(train['Count'], 'Daily  Passengers')"
   ]
  },
  {
   "cell_type": "code",
   "execution_count": null,
   "metadata": {},
   "outputs": [],
   "source": []
  },
  {
   "cell_type": "code",
   "execution_count": 38,
   "metadata": {},
   "outputs": [],
   "source": [
    "from statsmodels.tsa.statespace.tools import diff"
   ]
  },
  {
   "cell_type": "code",
   "execution_count": 39,
   "metadata": {},
   "outputs": [],
   "source": [
    "train['diff1'] = diff(train['Count'],k_diff=1)"
   ]
  },
  {
   "cell_type": "code",
   "execution_count": 40,
   "metadata": {},
   "outputs": [
    {
     "data": {
      "text/html": [
       "<div>\n",
       "<style scoped>\n",
       "    .dataframe tbody tr th:only-of-type {\n",
       "        vertical-align: middle;\n",
       "    }\n",
       "\n",
       "    .dataframe tbody tr th {\n",
       "        vertical-align: top;\n",
       "    }\n",
       "\n",
       "    .dataframe thead th {\n",
       "        text-align: right;\n",
       "    }\n",
       "</style>\n",
       "<table border=\"1\" class=\"dataframe\">\n",
       "  <thead>\n",
       "    <tr style=\"text-align: right;\">\n",
       "      <th></th>\n",
       "      <th>Count</th>\n",
       "      <th>diff1</th>\n",
       "    </tr>\n",
       "    <tr>\n",
       "      <th>Datetime</th>\n",
       "      <th></th>\n",
       "      <th></th>\n",
       "    </tr>\n",
       "  </thead>\n",
       "  <tbody>\n",
       "    <tr>\n",
       "      <th>2012-08-25</th>\n",
       "      <td>76</td>\n",
       "      <td>NaN</td>\n",
       "    </tr>\n",
       "    <tr>\n",
       "      <th>2012-08-26</th>\n",
       "      <td>88</td>\n",
       "      <td>12.0</td>\n",
       "    </tr>\n",
       "    <tr>\n",
       "      <th>2012-08-27</th>\n",
       "      <td>62</td>\n",
       "      <td>-26.0</td>\n",
       "    </tr>\n",
       "    <tr>\n",
       "      <th>2012-08-28</th>\n",
       "      <td>58</td>\n",
       "      <td>-4.0</td>\n",
       "    </tr>\n",
       "    <tr>\n",
       "      <th>2012-08-29</th>\n",
       "      <td>60</td>\n",
       "      <td>2.0</td>\n",
       "    </tr>\n",
       "    <tr>\n",
       "      <th>...</th>\n",
       "      <td>...</td>\n",
       "      <td>...</td>\n",
       "    </tr>\n",
       "    <tr>\n",
       "      <th>2014-09-21</th>\n",
       "      <td>9102</td>\n",
       "      <td>916.0</td>\n",
       "    </tr>\n",
       "    <tr>\n",
       "      <th>2014-09-22</th>\n",
       "      <td>14116</td>\n",
       "      <td>5014.0</td>\n",
       "    </tr>\n",
       "    <tr>\n",
       "      <th>2014-09-23</th>\n",
       "      <td>13304</td>\n",
       "      <td>-812.0</td>\n",
       "    </tr>\n",
       "    <tr>\n",
       "      <th>2014-09-24</th>\n",
       "      <td>16856</td>\n",
       "      <td>3552.0</td>\n",
       "    </tr>\n",
       "    <tr>\n",
       "      <th>2014-09-25</th>\n",
       "      <td>14152</td>\n",
       "      <td>-2704.0</td>\n",
       "    </tr>\n",
       "  </tbody>\n",
       "</table>\n",
       "<p>762 rows × 2 columns</p>\n",
       "</div>"
      ],
      "text/plain": [
       "            Count   diff1\n",
       "Datetime                 \n",
       "2012-08-25     76     NaN\n",
       "2012-08-26     88    12.0\n",
       "2012-08-27     62   -26.0\n",
       "2012-08-28     58    -4.0\n",
       "2012-08-29     60     2.0\n",
       "...           ...     ...\n",
       "2014-09-21   9102   916.0\n",
       "2014-09-22  14116  5014.0\n",
       "2014-09-23  13304  -812.0\n",
       "2014-09-24  16856  3552.0\n",
       "2014-09-25  14152 -2704.0\n",
       "\n",
       "[762 rows x 2 columns]"
      ]
     },
     "execution_count": 40,
     "metadata": {},
     "output_type": "execute_result"
    }
   ],
   "source": [
    "train"
   ]
  },
  {
   "cell_type": "code",
   "execution_count": 41,
   "metadata": {},
   "outputs": [
    {
     "name": "stdout",
     "output_type": "stream",
     "text": [
      "Augmented Dickey-Fuller Test: DF Test on differenced data\n",
      "ADF test statistic     -7.964456e+00\n",
      "p-value                 2.889911e-12\n",
      "# lags used             2.000000e+01\n",
      "# observations          7.400000e+02\n",
      "critical value (1%)    -3.439218e+00\n",
      "critical value (5%)    -2.865454e+00\n",
      "critical value (10%)   -2.568854e+00\n",
      "Strong evidence against null hypothesis\n",
      "Reject the Null Hypothesis\n",
      "Data has no unit root and is Stationary\n"
     ]
    }
   ],
   "source": [
    "adf_test(train['diff1'],'DF Test on differenced data')"
   ]
  },
  {
   "cell_type": "code",
   "execution_count": 45,
   "metadata": {},
   "outputs": [
    {
     "name": "stdout",
     "output_type": "stream",
     "text": [
      "Performing stepwise search to minimize aic\n",
      " ARIMA(0,0,0)(1,0,1)[30] intercept   : AIC=12948.545, Time=2.47 sec\n",
      " ARIMA(0,0,0)(0,0,0)[30] intercept   : AIC=13015.501, Time=0.03 sec\n",
      " ARIMA(1,0,0)(1,0,0)[30] intercept   : AIC=12956.167, Time=3.58 sec\n",
      " ARIMA(0,0,1)(0,0,1)[30] intercept   : AIC=12938.728, Time=2.35 sec\n",
      " ARIMA(0,0,0)(0,0,0)[30]             : AIC=13013.668, Time=0.05 sec\n",
      " ARIMA(0,0,1)(0,0,0)[30] intercept   : AIC=13016.582, Time=0.05 sec\n",
      " ARIMA(0,0,1)(1,0,1)[30] intercept   : AIC=12940.410, Time=3.35 sec\n",
      " ARIMA(0,0,1)(0,0,2)[30] intercept   : AIC=12939.977, Time=13.92 sec\n",
      " ARIMA(0,0,1)(1,0,0)[30] intercept   : AIC=12958.062, Time=26.64 sec\n",
      " ARIMA(0,0,1)(1,0,2)[30] intercept   : AIC=inf, Time=28.75 sec\n",
      " ARIMA(0,0,0)(0,0,1)[30] intercept   : AIC=12946.566, Time=1.60 sec\n",
      " ARIMA(1,0,1)(0,0,1)[30] intercept   : AIC=12758.261, Time=4.39 sec\n",
      " ARIMA(1,0,1)(0,0,0)[30] intercept   : AIC=12814.220, Time=0.56 sec\n",
      " ARIMA(1,0,1)(1,0,1)[30] intercept   : AIC=12759.929, Time=5.63 sec\n",
      " ARIMA(1,0,1)(0,0,2)[30] intercept   : AIC=12759.494, Time=27.12 sec\n",
      " ARIMA(1,0,1)(1,0,0)[30] intercept   : AIC=12771.026, Time=8.88 sec\n",
      " ARIMA(1,0,1)(1,0,2)[30] intercept   : AIC=12779.760, Time=42.42 sec\n",
      " ARIMA(1,0,0)(0,0,1)[30] intercept   : AIC=12948.022, Time=0.97 sec\n",
      " ARIMA(2,0,1)(0,0,1)[30] intercept   : AIC=12683.401, Time=6.61 sec\n",
      " ARIMA(2,0,1)(0,0,0)[30] intercept   : AIC=12705.669, Time=0.88 sec\n",
      " ARIMA(2,0,1)(1,0,1)[30] intercept   : AIC=12689.666, Time=11.06 sec\n",
      " ARIMA(2,0,1)(0,0,2)[30] intercept   : AIC=12685.524, Time=34.26 sec\n",
      " ARIMA(2,0,1)(1,0,0)[30] intercept   : AIC=12683.669, Time=9.91 sec\n",
      " ARIMA(2,0,1)(1,0,2)[30] intercept   : AIC=12693.931, Time=40.45 sec\n",
      " ARIMA(2,0,0)(0,0,1)[30] intercept   : AIC=12906.096, Time=1.38 sec\n",
      " ARIMA(2,0,2)(0,0,1)[30] intercept   : AIC=12748.451, Time=12.17 sec\n",
      " ARIMA(1,0,2)(0,0,1)[30] intercept   : AIC=12713.964, Time=9.54 sec\n",
      " ARIMA(2,0,1)(0,0,1)[30]             : AIC=12699.225, Time=2.43 sec\n",
      "\n",
      "Best model:  ARIMA(2,0,1)(0,0,1)[30] intercept\n",
      "Total fit time: 301.649 seconds\n"
     ]
    },
    {
     "data": {
      "text/plain": [
       "ARIMA(order=(2, 0, 1), scoring_args={}, seasonal_order=(0, 0, 1, 30),\n",
       "      suppress_warnings=True)"
      ]
     },
     "execution_count": 45,
     "metadata": {},
     "output_type": "execute_result"
    }
   ],
   "source": [
    "auto_arima(train['diff1'].dropna(),start_p=0, start_q=0, d=None, max_p=2, max_q=2, max_d=2, seasonal=True,trace=1,m=30)"
   ]
  },
  {
   "cell_type": "code",
   "execution_count": 48,
   "metadata": {},
   "outputs": [],
   "source": [
    "from statsmodels.tsa.seasonal import seasonal_decompose"
   ]
  },
  {
   "cell_type": "code",
   "execution_count": 50,
   "metadata": {},
   "outputs": [
    {
     "data": {
      "image/png": "[encoded data removed]",
      "text/plain": [
       "<Figure size 432x288 with 4 Axes>"
      ]
     },
     "metadata": {
      "needs_background": "light"
     },
     "output_type": "display_data"
    }
   ],
   "source": [
    "result = seasonal_decompose(train['diff1'].dropna(),model='add')\n",
    "result.plot();"
   ]
  },
  {
   "cell_type": "code",
   "execution_count": 51,
   "metadata": {},
   "outputs": [],
   "source": [
    "import  statsmodels.api as sm"
   ]
  },
  {
   "cell_type": "code",
   "execution_count": 52,
   "metadata": {},
   "outputs": [],
   "source": [
    "model = sm.tsa.statespace.SARIMAX(train['Count'],order=(2,0,1),seasonal_order=(2,0,1,30))"
   ]
  },
  {
   "cell_type": "code",
   "execution_count": 53,
   "metadata": {},
   "outputs": [],
   "source": [
    "results = model.fit()"
   ]
  },
  {
   "cell_type": "code",
   "execution_count": 54,
   "metadata": {},
   "outputs": [
    {
     "data": {
      "text/html": [
       "<table class=\"simpletable\">\n",
       "<caption>SARIMAX Results</caption>\n",
       "<tr>\n",
       "  <th>Dep. Variable:</th>                <td>Count</td>             <th>  No. Observations:  </th>    <td>762</td>   \n",
       "</tr>\n",
       "<tr>\n",
       "  <th>Model:</th>           <td>SARIMAX(2, 0, 1)x(2, 0, 1, 30)</td> <th>  Log Likelihood     </th> <td>-6471.022</td>\n",
       "</tr>\n",
       "<tr>\n",
       "  <th>Date:</th>                   <td>Sat, 18 Sep 2021</td>        <th>  AIC                </th> <td>12956.044</td>\n",
       "</tr>\n",
       "<tr>\n",
       "  <th>Time:</th>                       <td>00:25:14</td>            <th>  BIC                </th> <td>12988.496</td>\n",
       "</tr>\n",
       "<tr>\n",
       "  <th>Sample:</th>                    <td>08-25-2012</td>           <th>  HQIC               </th> <td>12968.539</td>\n",
       "</tr>\n",
       "<tr>\n",
       "  <th></th>                          <td>- 09-25-2014</td>          <th>                     </th>     <td> </td>    \n",
       "</tr>\n",
       "<tr>\n",
       "  <th>Covariance Type:</th>               <td>opg</td>              <th>                     </th>     <td> </td>    \n",
       "</tr>\n",
       "</table>\n",
       "<table class=\"simpletable\">\n",
       "<tr>\n",
       "      <td></td>        <th>coef</th>     <th>std err</th>      <th>z</th>      <th>P>|z|</th>  <th>[0.025</th>    <th>0.975]</th>  \n",
       "</tr>\n",
       "<tr>\n",
       "  <th>ar.L1</th>    <td>    0.1573</td> <td>    0.048</td> <td>    3.290</td> <td> 0.001</td> <td>    0.064</td> <td>    0.251</td>\n",
       "</tr>\n",
       "<tr>\n",
       "  <th>ar.L2</th>    <td>    0.8150</td> <td>    0.050</td> <td>   16.266</td> <td> 0.000</td> <td>    0.717</td> <td>    0.913</td>\n",
       "</tr>\n",
       "<tr>\n",
       "  <th>ma.L1</th>    <td>    0.9067</td> <td>    0.037</td> <td>   24.516</td> <td> 0.000</td> <td>    0.834</td> <td>    0.979</td>\n",
       "</tr>\n",
       "<tr>\n",
       "  <th>ar.S.L30</th> <td>   -0.2916</td> <td>    0.399</td> <td>   -0.731</td> <td> 0.465</td> <td>   -1.073</td> <td>    0.490</td>\n",
       "</tr>\n",
       "<tr>\n",
       "  <th>ar.S.L60</th> <td>   -0.1063</td> <td>    0.119</td> <td>   -0.892</td> <td> 0.372</td> <td>   -0.340</td> <td>    0.127</td>\n",
       "</tr>\n",
       "<tr>\n",
       "  <th>ma.S.L30</th> <td>   -0.0190</td> <td>    0.398</td> <td>   -0.048</td> <td> 0.962</td> <td>   -0.800</td> <td>    0.762</td>\n",
       "</tr>\n",
       "<tr>\n",
       "  <th>sigma2</th>   <td> 1.392e+06</td> <td> 4.37e+04</td> <td>   31.871</td> <td> 0.000</td> <td> 1.31e+06</td> <td> 1.48e+06</td>\n",
       "</tr>\n",
       "</table>\n",
       "<table class=\"simpletable\">\n",
       "<tr>\n",
       "  <th>Ljung-Box (L1) (Q):</th>     <td>12.58</td> <th>  Jarque-Bera (JB):  </th> <td>491.62</td>\n",
       "</tr>\n",
       "<tr>\n",
       "  <th>Prob(Q):</th>                <td>0.00</td>  <th>  Prob(JB):          </th>  <td>0.00</td> \n",
       "</tr>\n",
       "<tr>\n",
       "  <th>Heteroskedasticity (H):</th> <td>74.24</td> <th>  Skew:              </th>  <td>0.19</td> \n",
       "</tr>\n",
       "<tr>\n",
       "  <th>Prob(H) (two-sided):</th>    <td>0.00</td>  <th>  Kurtosis:          </th>  <td>6.92</td> \n",
       "</tr>\n",
       "</table><br/><br/>Warnings:<br/>[1] Covariance matrix calculated using the outer product of gradients (complex-step)."
      ],
      "text/plain": [
       "<class 'statsmodels.iolib.summary.Summary'>\n",
       "\"\"\"\n",
       "                                     SARIMAX Results                                      \n",
       "==========================================================================================\n",
       "Dep. Variable:                              Count   No. Observations:                  762\n",
       "Model:             SARIMAX(2, 0, 1)x(2, 0, 1, 30)   Log Likelihood               -6471.022\n",
       "Date:                            Sat, 18 Sep 2021   AIC                          12956.044\n",
       "Time:                                    00:25:14   BIC                          12988.496\n",
       "Sample:                                08-25-2012   HQIC                         12968.539\n",
       "                                     - 09-25-2014                                         \n",
       "Covariance Type:                              opg                                         \n",
       "==============================================================================\n",
       "                 coef    std err          z      P>|z|      [0.025      0.975]\n",
       "------------------------------------------------------------------------------\n",
       "ar.L1          0.1573      0.048      3.290      0.001       0.064       0.251\n",
       "ar.L2          0.8150      0.050     16.266      0.000       0.717       0.913\n",
       "ma.L1          0.9067      0.037     24.516      0.000       0.834       0.979\n",
       "ar.S.L30      -0.2916      0.399     -0.731      0.465      -1.073       0.490\n",
       "ar.S.L60      -0.1063      0.119     -0.892      0.372      -0.340       0.127\n",
       "ma.S.L30      -0.0190      0.398     -0.048      0.962      -0.800       0.762\n",
       "sigma2      1.392e+06   4.37e+04     31.871      0.000    1.31e+06    1.48e+06\n",
       "===================================================================================\n",
       "Ljung-Box (L1) (Q):                  12.58   Jarque-Bera (JB):               491.62\n",
       "Prob(Q):                              0.00   Prob(JB):                         0.00\n",
       "Heteroskedasticity (H):              74.24   Skew:                             0.19\n",
       "Prob(H) (two-sided):                  0.00   Kurtosis:                         6.92\n",
       "===================================================================================\n",
       "\n",
       "Warnings:\n",
       "[1] Covariance matrix calculated using the outer product of gradients (complex-step).\n",
       "\"\"\""
      ]
     },
     "execution_count": 54,
     "metadata": {},
     "output_type": "execute_result"
    }
   ],
   "source": [
    "results.summary()"
   ]
  },
  {
   "cell_type": "code",
   "execution_count": 65,
   "metadata": {},
   "outputs": [],
   "source": [
    "start = len(train)"
   ]
  },
  {
   "cell_type": "code",
   "execution_count": 66,
   "metadata": {},
   "outputs": [],
   "source": [
    "end = len(train) + len(test) - 1"
   ]
  },
  {
   "cell_type": "code",
   "execution_count": 67,
   "metadata": {},
   "outputs": [
    {
     "name": "stdout",
     "output_type": "stream",
     "text": [
      "762 5873\n"
     ]
    }
   ],
   "source": [
    "print(start, end)"
   ]
  },
  {
   "cell_type": "code",
   "execution_count": null,
   "metadata": {},
   "outputs": [],
   "source": []
  },
  {
   "cell_type": "code",
   "execution_count": 68,
   "metadata": {},
   "outputs": [],
   "source": [
    "predictions = results.predict(start=start, end=end,typ='levels')"
   ]
  },
  {
   "cell_type": "code",
   "execution_count": 69,
   "metadata": {},
   "outputs": [
    {
     "data": {
      "text/plain": [
       "dtype('float64')"
      ]
     },
     "execution_count": 69,
     "metadata": {},
     "output_type": "execute_result"
    }
   ],
   "source": [
    "predictions.dtypes"
   ]
  },
  {
   "cell_type": "code",
   "execution_count": 75,
   "metadata": {},
   "outputs": [
    {
     "data": {
      "text/plain": [
       "[<matplotlib.lines.Line2D at 0x1d8bcdc1408>]"
      ]
     },
     "execution_count": 75,
     "metadata": {},
     "output_type": "execute_result"
    },
    {
     "data": {
      "image/png": "[encoded data removed]",
      "text/plain": [
       "<Figure size 432x288 with 1 Axes>"
      ]
     },
     "metadata": {
      "needs_background": "light"
     },
     "output_type": "display_data"
    }
   ],
   "source": [
    "plt.plot(predictions)"
   ]
  },
  {
   "cell_type": "code",
   "execution_count": 70,
   "metadata": {},
   "outputs": [],
   "source": [
    "arima_results = pd.concat([test, predictions], axis=1)"
   ]
  },
  {
   "cell_type": "code",
   "execution_count": 71,
   "metadata": {},
   "outputs": [],
   "source": [
    "arima_results.columns = ['ID', 'Count']"
   ]
  },
  {
   "cell_type": "code",
   "execution_count": 72,
   "metadata": {},
   "outputs": [
    {
     "data": {
      "text/html": [
       "<div>\n",
       "<style scoped>\n",
       "    .dataframe tbody tr th:only-of-type {\n",
       "        vertical-align: middle;\n",
       "    }\n",
       "\n",
       "    .dataframe tbody tr th {\n",
       "        vertical-align: top;\n",
       "    }\n",
       "\n",
       "    .dataframe thead th {\n",
       "        text-align: right;\n",
       "    }\n",
       "</style>\n",
       "<table border=\"1\" class=\"dataframe\">\n",
       "  <thead>\n",
       "    <tr style=\"text-align: right;\">\n",
       "      <th></th>\n",
       "      <th>ID</th>\n",
       "      <th>Count</th>\n",
       "    </tr>\n",
       "  </thead>\n",
       "  <tbody>\n",
       "    <tr>\n",
       "      <th>2014-09-26 00:00:00</th>\n",
       "      <td>18288.0</td>\n",
       "      <td>1.314711e+04</td>\n",
       "    </tr>\n",
       "    <tr>\n",
       "      <th>2014-09-26 01:00:00</th>\n",
       "      <td>18289.0</td>\n",
       "      <td>NaN</td>\n",
       "    </tr>\n",
       "    <tr>\n",
       "      <th>2014-09-26 02:00:00</th>\n",
       "      <td>18290.0</td>\n",
       "      <td>NaN</td>\n",
       "    </tr>\n",
       "    <tr>\n",
       "      <th>2014-09-26 03:00:00</th>\n",
       "      <td>18291.0</td>\n",
       "      <td>NaN</td>\n",
       "    </tr>\n",
       "    <tr>\n",
       "      <th>2014-09-26 04:00:00</th>\n",
       "      <td>18292.0</td>\n",
       "      <td>NaN</td>\n",
       "    </tr>\n",
       "    <tr>\n",
       "      <th>...</th>\n",
       "      <td>...</td>\n",
       "      <td>...</td>\n",
       "    </tr>\n",
       "    <tr>\n",
       "      <th>2028-09-19 00:00:00</th>\n",
       "      <td>NaN</td>\n",
       "      <td>1.725047e-30</td>\n",
       "    </tr>\n",
       "    <tr>\n",
       "      <th>2028-09-20 00:00:00</th>\n",
       "      <td>NaN</td>\n",
       "      <td>1.698978e-30</td>\n",
       "    </tr>\n",
       "    <tr>\n",
       "      <th>2028-09-21 00:00:00</th>\n",
       "      <td>NaN</td>\n",
       "      <td>1.673303e-30</td>\n",
       "    </tr>\n",
       "    <tr>\n",
       "      <th>2028-09-22 00:00:00</th>\n",
       "      <td>NaN</td>\n",
       "      <td>1.648016e-30</td>\n",
       "    </tr>\n",
       "    <tr>\n",
       "      <th>2028-09-23 00:00:00</th>\n",
       "      <td>NaN</td>\n",
       "      <td>1.623112e-30</td>\n",
       "    </tr>\n",
       "  </tbody>\n",
       "</table>\n",
       "<p>10011 rows × 2 columns</p>\n",
       "</div>"
      ],
      "text/plain": [
       "                          ID         Count\n",
       "2014-09-26 00:00:00  18288.0  1.314711e+04\n",
       "2014-09-26 01:00:00  18289.0           NaN\n",
       "2014-09-26 02:00:00  18290.0           NaN\n",
       "2014-09-26 03:00:00  18291.0           NaN\n",
       "2014-09-26 04:00:00  18292.0           NaN\n",
       "...                      ...           ...\n",
       "2028-09-19 00:00:00      NaN  1.725047e-30\n",
       "2028-09-20 00:00:00      NaN  1.698978e-30\n",
       "2028-09-21 00:00:00      NaN  1.673303e-30\n",
       "2028-09-22 00:00:00      NaN  1.648016e-30\n",
       "2028-09-23 00:00:00      NaN  1.623112e-30\n",
       "\n",
       "[10011 rows x 2 columns]"
      ]
     },
     "execution_count": 72,
     "metadata": {},
     "output_type": "execute_result"
    }
   ],
   "source": [
    "arima_results"
   ]
  },
  {
   "cell_type": "code",
   "execution_count": 63,
   "metadata": {},
   "outputs": [
    {
     "data": {
      "text/html": [
       "<div>\n",
       "<style scoped>\n",
       "    .dataframe tbody tr th:only-of-type {\n",
       "        vertical-align: middle;\n",
       "    }\n",
       "\n",
       "    .dataframe tbody tr th {\n",
       "        vertical-align: top;\n",
       "    }\n",
       "\n",
       "    .dataframe thead th {\n",
       "        text-align: right;\n",
       "    }\n",
       "</style>\n",
       "<table border=\"1\" class=\"dataframe\">\n",
       "  <thead>\n",
       "    <tr style=\"text-align: right;\">\n",
       "      <th></th>\n",
       "      <th>ID</th>\n",
       "      <th>Count</th>\n",
       "    </tr>\n",
       "  </thead>\n",
       "  <tbody>\n",
       "    <tr>\n",
       "      <th>2014-09-26 00:00:00</th>\n",
       "      <td>18288.0</td>\n",
       "      <td>1.314711e+04</td>\n",
       "    </tr>\n",
       "    <tr>\n",
       "      <th>2014-09-26 01:00:00</th>\n",
       "      <td>18289.0</td>\n",
       "      <td>NaN</td>\n",
       "    </tr>\n",
       "    <tr>\n",
       "      <th>2014-09-26 02:00:00</th>\n",
       "      <td>18290.0</td>\n",
       "      <td>NaN</td>\n",
       "    </tr>\n",
       "    <tr>\n",
       "      <th>2014-09-26 03:00:00</th>\n",
       "      <td>18291.0</td>\n",
       "      <td>NaN</td>\n",
       "    </tr>\n",
       "    <tr>\n",
       "      <th>2014-09-26 04:00:00</th>\n",
       "      <td>18292.0</td>\n",
       "      <td>NaN</td>\n",
       "    </tr>\n",
       "    <tr>\n",
       "      <th>...</th>\n",
       "      <td>...</td>\n",
       "      <td>...</td>\n",
       "    </tr>\n",
       "    <tr>\n",
       "      <th>2028-09-19 00:00:00</th>\n",
       "      <td>NaN</td>\n",
       "      <td>1.725047e-30</td>\n",
       "    </tr>\n",
       "    <tr>\n",
       "      <th>2028-09-20 00:00:00</th>\n",
       "      <td>NaN</td>\n",
       "      <td>1.698978e-30</td>\n",
       "    </tr>\n",
       "    <tr>\n",
       "      <th>2028-09-21 00:00:00</th>\n",
       "      <td>NaN</td>\n",
       "      <td>1.673303e-30</td>\n",
       "    </tr>\n",
       "    <tr>\n",
       "      <th>2028-09-22 00:00:00</th>\n",
       "      <td>NaN</td>\n",
       "      <td>1.648016e-30</td>\n",
       "    </tr>\n",
       "    <tr>\n",
       "      <th>2028-09-23 00:00:00</th>\n",
       "      <td>NaN</td>\n",
       "      <td>1.623112e-30</td>\n",
       "    </tr>\n",
       "  </tbody>\n",
       "</table>\n",
       "<p>10011 rows × 2 columns</p>\n",
       "</div>"
      ],
      "text/plain": [
       "                          ID         Count\n",
       "2014-09-26 00:00:00  18288.0  1.314711e+04\n",
       "2014-09-26 01:00:00  18289.0           NaN\n",
       "2014-09-26 02:00:00  18290.0           NaN\n",
       "2014-09-26 03:00:00  18291.0           NaN\n",
       "2014-09-26 04:00:00  18292.0           NaN\n",
       "...                      ...           ...\n",
       "2028-09-19 00:00:00      NaN  1.725047e-30\n",
       "2028-09-20 00:00:00      NaN  1.698978e-30\n",
       "2028-09-21 00:00:00      NaN  1.673303e-30\n",
       "2028-09-22 00:00:00      NaN  1.648016e-30\n",
       "2028-09-23 00:00:00      NaN  1.623112e-30\n",
       "\n",
       "[10011 rows x 2 columns]"
      ]
     },
     "execution_count": 63,
     "metadata": {},
     "output_type": "execute_result"
    }
   ],
   "source": [
    "arima_results "
   ]
  },
  {
   "cell_type": "code",
   "execution_count": 126,
   "metadata": {},
   "outputs": [],
   "source": [
    "arima_results.to_csv(r'C:\\Users\\mailk\\OneDrive\\Desktop\\AI and ML\\Time Series\\data\\Hackathon\\samplesub.csv', index=False)"
   ]
  },
  {
   "cell_type": "code",
   "execution_count": null,
   "metadata": {},
   "outputs": [],
   "source": []
  },
  {
   "cell_type": "code",
   "execution_count": null,
   "metadata": {},
   "outputs": [],
   "source": []
  },
  {
   "cell_type": "code",
   "execution_count": null,
   "metadata": {},
   "outputs": [],
   "source": []
  },
  {
   "cell_type": "code",
   "execution_count": null,
   "metadata": {},
   "outputs": [],
   "source": []
  },
  {
   "cell_type": "code",
   "execution_count": null,
   "metadata": {},
   "outputs": [],
   "source": []
  },
  {
   "cell_type": "code",
   "execution_count": null,
   "metadata": {},
   "outputs": [],
   "source": []
  },
  {
   "cell_type": "code",
   "execution_count": null,
   "metadata": {},
   "outputs": [],
   "source": []
  },
  {
   "cell_type": "code",
   "execution_count": null,
   "metadata": {},
   "outputs": [],
   "source": []
  },
  {
   "cell_type": "code",
   "execution_count": null,
   "metadata": {},
   "outputs": [],
   "source": []
  },
  {
   "cell_type": "code",
   "execution_count": null,
   "metadata": {},
   "outputs": [],
   "source": []
  },
  {
   "cell_type": "code",
   "execution_count": null,
   "metadata": {},
   "outputs": [],
   "source": []
  },
  {
   "cell_type": "code",
   "execution_count": null,
   "metadata": {},
   "outputs": [],
   "source": []
  },
  {
   "cell_type": "code",
   "execution_count": null,
   "metadata": {},
   "outputs": [],
   "source": []
  },
  {
   "cell_type": "code",
   "execution_count": 34,
   "metadata": {},
   "outputs": [
    {
     "data": {
      "text/html": [
       "<table class=\"simpletable\">\n",
       "<caption>SARIMAX Results</caption>\n",
       "<tr>\n",
       "  <th>Dep. Variable:</th>           <td>y</td>        <th>  No. Observations:  </th>    <td>762</td>   \n",
       "</tr>\n",
       "<tr>\n",
       "  <th>Model:</th>           <td>SARIMAX(5, 1, 2)</td> <th>  Log Likelihood     </th> <td>-6201.322</td>\n",
       "</tr>\n",
       "<tr>\n",
       "  <th>Date:</th>            <td>Fri, 17 Sep 2021</td> <th>  AIC                </th> <td>12418.644</td>\n",
       "</tr>\n",
       "<tr>\n",
       "  <th>Time:</th>                <td>23:55:23</td>     <th>  BIC                </th> <td>12455.721</td>\n",
       "</tr>\n",
       "<tr>\n",
       "  <th>Sample:</th>                  <td>0</td>        <th>  HQIC               </th> <td>12432.921</td>\n",
       "</tr>\n",
       "<tr>\n",
       "  <th></th>                      <td> - 762</td>      <th>                     </th>     <td> </td>    \n",
       "</tr>\n",
       "<tr>\n",
       "  <th>Covariance Type:</th>        <td>opg</td>       <th>                     </th>     <td> </td>    \n",
       "</tr>\n",
       "</table>\n",
       "<table class=\"simpletable\">\n",
       "<tr>\n",
       "     <td></td>       <th>coef</th>     <th>std err</th>      <th>z</th>      <th>P>|z|</th>  <th>[0.025</th>    <th>0.975]</th>  \n",
       "</tr>\n",
       "<tr>\n",
       "  <th>ar.L1</th>  <td>    0.5590</td> <td>    0.030</td> <td>   18.433</td> <td> 0.000</td> <td>    0.500</td> <td>    0.618</td>\n",
       "</tr>\n",
       "<tr>\n",
       "  <th>ar.L2</th>  <td>   -0.8569</td> <td>    0.026</td> <td>  -32.759</td> <td> 0.000</td> <td>   -0.908</td> <td>   -0.806</td>\n",
       "</tr>\n",
       "<tr>\n",
       "  <th>ar.L3</th>  <td>   -0.0219</td> <td>    0.034</td> <td>   -0.642</td> <td> 0.521</td> <td>   -0.089</td> <td>    0.045</td>\n",
       "</tr>\n",
       "<tr>\n",
       "  <th>ar.L4</th>  <td>   -0.4263</td> <td>    0.024</td> <td>  -17.742</td> <td> 0.000</td> <td>   -0.473</td> <td>   -0.379</td>\n",
       "</tr>\n",
       "<tr>\n",
       "  <th>ar.L5</th>  <td>   -0.2262</td> <td>    0.030</td> <td>   -7.612</td> <td> 0.000</td> <td>   -0.284</td> <td>   -0.168</td>\n",
       "</tr>\n",
       "<tr>\n",
       "  <th>ma.L1</th>  <td>   -1.0996</td> <td>    0.024</td> <td>  -45.551</td> <td> 0.000</td> <td>   -1.147</td> <td>   -1.052</td>\n",
       "</tr>\n",
       "<tr>\n",
       "  <th>ma.L2</th>  <td>    0.8303</td> <td>    0.021</td> <td>   39.740</td> <td> 0.000</td> <td>    0.789</td> <td>    0.871</td>\n",
       "</tr>\n",
       "<tr>\n",
       "  <th>sigma2</th> <td> 7.098e+05</td> <td> 1.94e+04</td> <td>   36.517</td> <td> 0.000</td> <td> 6.72e+05</td> <td> 7.48e+05</td>\n",
       "</tr>\n",
       "</table>\n",
       "<table class=\"simpletable\">\n",
       "<tr>\n",
       "  <th>Ljung-Box (L1) (Q):</th>     <td>0.09</td>  <th>  Jarque-Bera (JB):  </th> <td>1684.98</td>\n",
       "</tr>\n",
       "<tr>\n",
       "  <th>Prob(Q):</th>                <td>0.76</td>  <th>  Prob(JB):          </th>  <td>0.00</td>  \n",
       "</tr>\n",
       "<tr>\n",
       "  <th>Heteroskedasticity (H):</th> <td>57.85</td> <th>  Skew:              </th>  <td>1.39</td>  \n",
       "</tr>\n",
       "<tr>\n",
       "  <th>Prob(H) (two-sided):</th>    <td>0.00</td>  <th>  Kurtosis:          </th>  <td>9.74</td>  \n",
       "</tr>\n",
       "</table><br/><br/>Warnings:<br/>[1] Covariance matrix calculated using the outer product of gradients (complex-step)."
      ],
      "text/plain": [
       "<class 'statsmodels.iolib.summary.Summary'>\n",
       "\"\"\"\n",
       "                               SARIMAX Results                                \n",
       "==============================================================================\n",
       "Dep. Variable:                      y   No. Observations:                  762\n",
       "Model:               SARIMAX(5, 1, 2)   Log Likelihood               -6201.322\n",
       "Date:                Fri, 17 Sep 2021   AIC                          12418.644\n",
       "Time:                        23:55:23   BIC                          12455.721\n",
       "Sample:                             0   HQIC                         12432.921\n",
       "                                - 762                                         \n",
       "Covariance Type:                  opg                                         \n",
       "==============================================================================\n",
       "                 coef    std err          z      P>|z|      [0.025      0.975]\n",
       "------------------------------------------------------------------------------\n",
       "ar.L1          0.5590      0.030     18.433      0.000       0.500       0.618\n",
       "ar.L2         -0.8569      0.026    -32.759      0.000      -0.908      -0.806\n",
       "ar.L3         -0.0219      0.034     -0.642      0.521      -0.089       0.045\n",
       "ar.L4         -0.4263      0.024    -17.742      0.000      -0.473      -0.379\n",
       "ar.L5         -0.2262      0.030     -7.612      0.000      -0.284      -0.168\n",
       "ma.L1         -1.0996      0.024    -45.551      0.000      -1.147      -1.052\n",
       "ma.L2          0.8303      0.021     39.740      0.000       0.789       0.871\n",
       "sigma2      7.098e+05   1.94e+04     36.517      0.000    6.72e+05    7.48e+05\n",
       "===================================================================================\n",
       "Ljung-Box (L1) (Q):                   0.09   Jarque-Bera (JB):              1684.98\n",
       "Prob(Q):                              0.76   Prob(JB):                         0.00\n",
       "Heteroskedasticity (H):              57.85   Skew:                             1.39\n",
       "Prob(H) (two-sided):                  0.00   Kurtosis:                         9.74\n",
       "===================================================================================\n",
       "\n",
       "Warnings:\n",
       "[1] Covariance matrix calculated using the outer product of gradients (complex-step).\n",
       "\"\"\""
      ]
     },
     "execution_count": 34,
     "metadata": {},
     "output_type": "execute_result"
    }
   ],
   "source": [
    "# Stationary Dataset\n",
    "auto_arima(train['Count'], seasonal=True).summary()"
   ]
  },
  {
   "cell_type": "code",
   "execution_count": null,
   "metadata": {},
   "outputs": [],
   "source": []
  },
  {
   "cell_type": "code",
   "execution_count": 54,
   "metadata": {},
   "outputs": [],
   "source": [
    "from statsmodels.tsa.seasonal import seasonal_decompose"
   ]
  },
  {
   "cell_type": "code",
   "execution_count": 57,
   "metadata": {},
   "outputs": [
    {
     "data": {
      "image/png": "[encoded data removed]",
      "text/plain": [
       "<Figure size 432x288 with 4 Axes>"
      ]
     },
     "metadata": {
      "needs_background": "light"
     },
     "output_type": "display_data"
    }
   ],
   "source": [
    "result = seasonal_decompose(train['Count'],model='add')\n",
    "result.plot();"
   ]
  },
  {
   "cell_type": "code",
   "execution_count": 58,
   "metadata": {},
   "outputs": [
    {
     "name": "stdout",
     "output_type": "stream",
     "text": [
      "Performing stepwise search to minimize aic\n",
      " ARIMA(2,1,2)(0,0,0)[0] intercept   : AIC=187702.293, Time=5.41 sec\n",
      " ARIMA(0,1,0)(0,0,0)[0] intercept   : AIC=187752.233, Time=0.36 sec\n",
      " ARIMA(1,1,0)(0,0,0)[0] intercept   : AIC=187738.425, Time=0.44 sec\n",
      " ARIMA(0,1,1)(0,0,0)[0] intercept   : AIC=187739.699, Time=1.00 sec\n",
      " ARIMA(0,1,0)(0,0,0)[0]             : AIC=187750.242, Time=0.18 sec\n",
      " ARIMA(1,1,2)(0,0,0)[0] intercept   : AIC=187703.352, Time=4.53 sec\n",
      " ARIMA(2,1,1)(0,0,0)[0] intercept   : AIC=187702.880, Time=4.29 sec\n",
      " ARIMA(3,1,2)(0,0,0)[0] intercept   : AIC=187706.868, Time=6.25 sec\n",
      " ARIMA(2,1,3)(0,0,0)[0] intercept   : AIC=187706.097, Time=17.37 sec\n",
      " ARIMA(1,1,1)(0,0,0)[0] intercept   : AIC=187726.148, Time=3.20 sec\n",
      " ARIMA(1,1,3)(0,0,0)[0] intercept   : AIC=inf, Time=21.65 sec\n",
      " ARIMA(3,1,1)(0,0,0)[0] intercept   : AIC=187704.709, Time=6.17 sec\n",
      " ARIMA(3,1,3)(0,0,0)[0] intercept   : AIC=inf, Time=32.71 sec\n",
      " ARIMA(2,1,2)(0,0,0)[0]             : AIC=187700.300, Time=2.57 sec\n",
      " ARIMA(1,1,2)(0,0,0)[0]             : AIC=187701.359, Time=2.26 sec\n",
      " ARIMA(2,1,1)(0,0,0)[0]             : AIC=187700.887, Time=1.93 sec\n",
      " ARIMA(3,1,2)(0,0,0)[0]             : AIC=187704.875, Time=2.88 sec\n",
      " ARIMA(2,1,3)(0,0,0)[0]             : AIC=187704.104, Time=7.20 sec\n",
      " ARIMA(1,1,1)(0,0,0)[0]             : AIC=187724.155, Time=1.45 sec\n",
      " ARIMA(1,1,3)(0,0,0)[0]             : AIC=inf, Time=17.10 sec\n",
      " ARIMA(3,1,1)(0,0,0)[0]             : AIC=187702.716, Time=3.44 sec\n",
      " ARIMA(3,1,3)(0,0,0)[0]             : AIC=inf, Time=18.50 sec\n",
      "\n",
      "Best model:  ARIMA(2,1,2)(0,0,0)[0]          \n",
      "Total fit time: 160.937 seconds\n"
     ]
    },
    {
     "data": {
      "text/plain": [
       "ARIMA(order=(2, 1, 2), scoring_args={}, suppress_warnings=True,\n",
       "      with_intercept=False)"
      ]
     },
     "execution_count": 58,
     "metadata": {},
     "output_type": "execute_result"
    }
   ],
   "source": [
    "auto_arima(train['Count'],seasonal=False,trace=1)"
   ]
  },
  {
   "cell_type": "code",
   "execution_count": null,
   "metadata": {},
   "outputs": [],
   "source": []
  },
  {
   "cell_type": "code",
   "execution_count": 59,
   "metadata": {},
   "outputs": [],
   "source": [
    "model = ARIMA(train['Count'],order=(2,1,2))"
   ]
  },
  {
   "cell_type": "code",
   "execution_count": 60,
   "metadata": {},
   "outputs": [],
   "source": [
    "results = model.fit()"
   ]
  },
  {
   "cell_type": "code",
   "execution_count": 61,
   "metadata": {},
   "outputs": [
    {
     "data": {
      "text/html": [
       "<table class=\"simpletable\">\n",
       "<caption>ARIMA Model Results</caption>\n",
       "<tr>\n",
       "  <th>Dep. Variable:</th>      <td>D.Count</td>     <th>  No. Observations:  </th>    <td>18287</td>  \n",
       "</tr>\n",
       "<tr>\n",
       "  <th>Model:</th>          <td>ARIMA(2, 1, 2)</td>  <th>  Log Likelihood     </th> <td>-92792.168</td>\n",
       "</tr>\n",
       "<tr>\n",
       "  <th>Method:</th>             <td>css-mle</td>     <th>  S.D. of innovations</th>   <td>38.676</td>  \n",
       "</tr>\n",
       "<tr>\n",
       "  <th>Date:</th>          <td>Fri, 17 Sep 2021</td> <th>  AIC                </th> <td>185596.335</td>\n",
       "</tr>\n",
       "<tr>\n",
       "  <th>Time:</th>              <td>21:24:46</td>     <th>  BIC                </th> <td>185643.219</td>\n",
       "</tr>\n",
       "<tr>\n",
       "  <th>Sample:</th>           <td>08-25-2012</td>    <th>  HQIC               </th> <td>185611.741</td>\n",
       "</tr>\n",
       "<tr>\n",
       "  <th></th>                 <td>- 09-25-2014</td>   <th>                     </th>      <td> </td>    \n",
       "</tr>\n",
       "</table>\n",
       "<table class=\"simpletable\">\n",
       "<tr>\n",
       "        <td></td>           <th>coef</th>     <th>std err</th>      <th>z</th>      <th>P>|z|</th>  <th>[0.025</th>    <th>0.975]</th>  \n",
       "</tr>\n",
       "<tr>\n",
       "  <th>const</th>         <td>    0.0264</td> <td>    0.125</td> <td>    0.211</td> <td> 0.833</td> <td>   -0.219</td> <td>    0.272</td>\n",
       "</tr>\n",
       "<tr>\n",
       "  <th>ar.L1.D.Count</th> <td>    1.8657</td> <td>    0.004</td> <td>  476.446</td> <td> 0.000</td> <td>    1.858</td> <td>    1.873</td>\n",
       "</tr>\n",
       "<tr>\n",
       "  <th>ar.L2.D.Count</th> <td>   -0.9249</td> <td>    0.004</td> <td> -236.454</td> <td> 0.000</td> <td>   -0.933</td> <td>   -0.917</td>\n",
       "</tr>\n",
       "<tr>\n",
       "  <th>ma.L1.D.Count</th> <td>   -1.8951</td> <td>    0.004</td> <td> -513.913</td> <td> 0.000</td> <td>   -1.902</td> <td>   -1.888</td>\n",
       "</tr>\n",
       "<tr>\n",
       "  <th>ma.L2.D.Count</th> <td>    0.9210</td> <td>    0.004</td> <td>  242.437</td> <td> 0.000</td> <td>    0.914</td> <td>    0.928</td>\n",
       "</tr>\n",
       "</table>\n",
       "<table class=\"simpletable\">\n",
       "<caption>Roots</caption>\n",
       "<tr>\n",
       "    <td></td>   <th>            Real</th>  <th>         Imaginary</th> <th>         Modulus</th>  <th>        Frequency</th>\n",
       "</tr>\n",
       "<tr>\n",
       "  <th>AR.1</th> <td>           1.0086</td> <td>          -0.2528j</td> <td>           1.0398</td> <td>          -0.0391</td>\n",
       "</tr>\n",
       "<tr>\n",
       "  <th>AR.2</th> <td>           1.0086</td> <td>          +0.2528j</td> <td>           1.0398</td> <td>           0.0391</td>\n",
       "</tr>\n",
       "<tr>\n",
       "  <th>MA.1</th> <td>           1.0288</td> <td>          -0.1652j</td> <td>           1.0420</td> <td>          -0.0253</td>\n",
       "</tr>\n",
       "<tr>\n",
       "  <th>MA.2</th> <td>           1.0288</td> <td>          +0.1652j</td> <td>           1.0420</td> <td>           0.0253</td>\n",
       "</tr>\n",
       "</table>"
      ],
      "text/plain": [
       "<class 'statsmodels.iolib.summary.Summary'>\n",
       "\"\"\"\n",
       "                             ARIMA Model Results                              \n",
       "==============================================================================\n",
       "Dep. Variable:                D.Count   No. Observations:                18287\n",
       "Model:                 ARIMA(2, 1, 2)   Log Likelihood              -92792.168\n",
       "Method:                       css-mle   S.D. of innovations             38.676\n",
       "Date:                Fri, 17 Sep 2021   AIC                         185596.335\n",
       "Time:                        21:24:46   BIC                         185643.219\n",
       "Sample:                    08-25-2012   HQIC                        185611.741\n",
       "                         - 09-25-2014                                         \n",
       "=================================================================================\n",
       "                    coef    std err          z      P>|z|      [0.025      0.975]\n",
       "---------------------------------------------------------------------------------\n",
       "const             0.0264      0.125      0.211      0.833      -0.219       0.272\n",
       "ar.L1.D.Count     1.8657      0.004    476.446      0.000       1.858       1.873\n",
       "ar.L2.D.Count    -0.9249      0.004   -236.454      0.000      -0.933      -0.917\n",
       "ma.L1.D.Count    -1.8951      0.004   -513.913      0.000      -1.902      -1.888\n",
       "ma.L2.D.Count     0.9210      0.004    242.437      0.000       0.914       0.928\n",
       "                                    Roots                                    \n",
       "=============================================================================\n",
       "                  Real          Imaginary           Modulus         Frequency\n",
       "-----------------------------------------------------------------------------\n",
       "AR.1            1.0086           -0.2528j            1.0398           -0.0391\n",
       "AR.2            1.0086           +0.2528j            1.0398            0.0391\n",
       "MA.1            1.0288           -0.1652j            1.0420           -0.0253\n",
       "MA.2            1.0288           +0.1652j            1.0420            0.0253\n",
       "-----------------------------------------------------------------------------\n",
       "\"\"\""
      ]
     },
     "execution_count": 61,
     "metadata": {},
     "output_type": "execute_result"
    }
   ],
   "source": [
    "results.summary()"
   ]
  },
  {
   "cell_type": "code",
   "execution_count": null,
   "metadata": {},
   "outputs": [],
   "source": []
  },
  {
   "cell_type": "code",
   "execution_count": 62,
   "metadata": {},
   "outputs": [],
   "source": [
    "start = len(train)"
   ]
  },
  {
   "cell_type": "code",
   "execution_count": 63,
   "metadata": {},
   "outputs": [],
   "source": [
    "end = len(train) + len(test) - 1"
   ]
  },
  {
   "cell_type": "code",
   "execution_count": 64,
   "metadata": {},
   "outputs": [
    {
     "name": "stdout",
     "output_type": "stream",
     "text": [
      "18288 23399\n"
     ]
    }
   ],
   "source": [
    "print(start, end)"
   ]
  },
  {
   "cell_type": "code",
   "execution_count": null,
   "metadata": {},
   "outputs": [],
   "source": []
  },
  {
   "cell_type": "code",
   "execution_count": 90,
   "metadata": {},
   "outputs": [],
   "source": [
    "predictions = results.predict(start=start, end=end,typ='levels')"
   ]
  },
  {
   "cell_type": "code",
   "execution_count": 112,
   "metadata": {},
   "outputs": [
    {
     "data": {
      "text/plain": [
       "dtype('float64')"
      ]
     },
     "execution_count": 112,
     "metadata": {},
     "output_type": "execute_result"
    }
   ],
   "source": [
    "predictions.dtypes"
   ]
  },
  {
   "cell_type": "code",
   "execution_count": null,
   "metadata": {},
   "outputs": [],
   "source": []
  },
  {
   "cell_type": "code",
   "execution_count": 122,
   "metadata": {},
   "outputs": [],
   "source": [
    "arima_results = pd.concat([test, predictions], axis=1)"
   ]
  },
  {
   "cell_type": "code",
   "execution_count": 123,
   "metadata": {},
   "outputs": [],
   "source": [
    "arima_results.columns = ['ID', 'Count']"
   ]
  },
  {
   "cell_type": "code",
   "execution_count": 124,
   "metadata": {},
   "outputs": [
    {
     "data": {
      "text/html": [
       "<div>\n",
       "<style scoped>\n",
       "    .dataframe tbody tr th:only-of-type {\n",
       "        vertical-align: middle;\n",
       "    }\n",
       "\n",
       "    .dataframe tbody tr th {\n",
       "        vertical-align: top;\n",
       "    }\n",
       "\n",
       "    .dataframe thead th {\n",
       "        text-align: right;\n",
       "    }\n",
       "</style>\n",
       "<table border=\"1\" class=\"dataframe\">\n",
       "  <thead>\n",
       "    <tr style=\"text-align: right;\">\n",
       "      <th></th>\n",
       "      <th>ID</th>\n",
       "      <th>Count</th>\n",
       "    </tr>\n",
       "  </thead>\n",
       "  <tbody>\n",
       "    <tr>\n",
       "      <th>2014-09-26 00:00:00</th>\n",
       "      <td>18288</td>\n",
       "      <td>505.612625</td>\n",
       "    </tr>\n",
       "    <tr>\n",
       "      <th>2014-09-26 01:00:00</th>\n",
       "      <td>18289</td>\n",
       "      <td>478.294743</td>\n",
       "    </tr>\n",
       "    <tr>\n",
       "      <th>2014-09-26 02:00:00</th>\n",
       "      <td>18290</td>\n",
       "      <td>453.584279</td>\n",
       "    </tr>\n",
       "    <tr>\n",
       "      <th>2014-09-26 03:00:00</th>\n",
       "      <td>18291</td>\n",
       "      <td>432.749281</td>\n",
       "    </tr>\n",
       "    <tr>\n",
       "      <th>2014-09-26 04:00:00</th>\n",
       "      <td>18292</td>\n",
       "      <td>416.733158</td>\n",
       "    </tr>\n",
       "    <tr>\n",
       "      <th>...</th>\n",
       "      <td>...</td>\n",
       "      <td>...</td>\n",
       "    </tr>\n",
       "    <tr>\n",
       "      <th>2015-04-26 19:00:00</th>\n",
       "      <td>23395</td>\n",
       "      <td>622.269273</td>\n",
       "    </tr>\n",
       "    <tr>\n",
       "      <th>2015-04-26 20:00:00</th>\n",
       "      <td>23396</td>\n",
       "      <td>622.295641</td>\n",
       "    </tr>\n",
       "    <tr>\n",
       "      <th>2015-04-26 21:00:00</th>\n",
       "      <td>23397</td>\n",
       "      <td>622.322009</td>\n",
       "    </tr>\n",
       "    <tr>\n",
       "      <th>2015-04-26 22:00:00</th>\n",
       "      <td>23398</td>\n",
       "      <td>622.348377</td>\n",
       "    </tr>\n",
       "    <tr>\n",
       "      <th>2015-04-26 23:00:00</th>\n",
       "      <td>23399</td>\n",
       "      <td>622.374745</td>\n",
       "    </tr>\n",
       "  </tbody>\n",
       "</table>\n",
       "<p>5112 rows × 2 columns</p>\n",
       "</div>"
      ],
      "text/plain": [
       "                        ID       Count\n",
       "2014-09-26 00:00:00  18288  505.612625\n",
       "2014-09-26 01:00:00  18289  478.294743\n",
       "2014-09-26 02:00:00  18290  453.584279\n",
       "2014-09-26 03:00:00  18291  432.749281\n",
       "2014-09-26 04:00:00  18292  416.733158\n",
       "...                    ...         ...\n",
       "2015-04-26 19:00:00  23395  622.269273\n",
       "2015-04-26 20:00:00  23396  622.295641\n",
       "2015-04-26 21:00:00  23397  622.322009\n",
       "2015-04-26 22:00:00  23398  622.348377\n",
       "2015-04-26 23:00:00  23399  622.374745\n",
       "\n",
       "[5112 rows x 2 columns]"
      ]
     },
     "execution_count": 124,
     "metadata": {},
     "output_type": "execute_result"
    }
   ],
   "source": [
    "arima_results"
   ]
  },
  {
   "cell_type": "code",
   "execution_count": 125,
   "metadata": {},
   "outputs": [
    {
     "data": {
      "text/html": [
       "<div>\n",
       "<style scoped>\n",
       "    .dataframe tbody tr th:only-of-type {\n",
       "        vertical-align: middle;\n",
       "    }\n",
       "\n",
       "    .dataframe tbody tr th {\n",
       "        vertical-align: top;\n",
       "    }\n",
       "\n",
       "    .dataframe thead th {\n",
       "        text-align: right;\n",
       "    }\n",
       "</style>\n",
       "<table border=\"1\" class=\"dataframe\">\n",
       "  <thead>\n",
       "    <tr style=\"text-align: right;\">\n",
       "      <th></th>\n",
       "      <th>ID</th>\n",
       "      <th>Count</th>\n",
       "    </tr>\n",
       "  </thead>\n",
       "  <tbody>\n",
       "    <tr>\n",
       "      <th>2014-09-26 00:00:00</th>\n",
       "      <td>18288</td>\n",
       "      <td>505.612625</td>\n",
       "    </tr>\n",
       "    <tr>\n",
       "      <th>2014-09-26 01:00:00</th>\n",
       "      <td>18289</td>\n",
       "      <td>478.294743</td>\n",
       "    </tr>\n",
       "    <tr>\n",
       "      <th>2014-09-26 02:00:00</th>\n",
       "      <td>18290</td>\n",
       "      <td>453.584279</td>\n",
       "    </tr>\n",
       "    <tr>\n",
       "      <th>2014-09-26 03:00:00</th>\n",
       "      <td>18291</td>\n",
       "      <td>432.749281</td>\n",
       "    </tr>\n",
       "    <tr>\n",
       "      <th>2014-09-26 04:00:00</th>\n",
       "      <td>18292</td>\n",
       "      <td>416.733158</td>\n",
       "    </tr>\n",
       "    <tr>\n",
       "      <th>...</th>\n",
       "      <td>...</td>\n",
       "      <td>...</td>\n",
       "    </tr>\n",
       "    <tr>\n",
       "      <th>2015-04-26 19:00:00</th>\n",
       "      <td>23395</td>\n",
       "      <td>622.269273</td>\n",
       "    </tr>\n",
       "    <tr>\n",
       "      <th>2015-04-26 20:00:00</th>\n",
       "      <td>23396</td>\n",
       "      <td>622.295641</td>\n",
       "    </tr>\n",
       "    <tr>\n",
       "      <th>2015-04-26 21:00:00</th>\n",
       "      <td>23397</td>\n",
       "      <td>622.322009</td>\n",
       "    </tr>\n",
       "    <tr>\n",
       "      <th>2015-04-26 22:00:00</th>\n",
       "      <td>23398</td>\n",
       "      <td>622.348377</td>\n",
       "    </tr>\n",
       "    <tr>\n",
       "      <th>2015-04-26 23:00:00</th>\n",
       "      <td>23399</td>\n",
       "      <td>622.374745</td>\n",
       "    </tr>\n",
       "  </tbody>\n",
       "</table>\n",
       "<p>5112 rows × 2 columns</p>\n",
       "</div>"
      ],
      "text/plain": [
       "                        ID       Count\n",
       "2014-09-26 00:00:00  18288  505.612625\n",
       "2014-09-26 01:00:00  18289  478.294743\n",
       "2014-09-26 02:00:00  18290  453.584279\n",
       "2014-09-26 03:00:00  18291  432.749281\n",
       "2014-09-26 04:00:00  18292  416.733158\n",
       "...                    ...         ...\n",
       "2015-04-26 19:00:00  23395  622.269273\n",
       "2015-04-26 20:00:00  23396  622.295641\n",
       "2015-04-26 21:00:00  23397  622.322009\n",
       "2015-04-26 22:00:00  23398  622.348377\n",
       "2015-04-26 23:00:00  23399  622.374745\n",
       "\n",
       "[5112 rows x 2 columns]"
      ]
     },
     "execution_count": 125,
     "metadata": {},
     "output_type": "execute_result"
    }
   ],
   "source": [
    "arima_results "
   ]
  },
  {
   "cell_type": "code",
   "execution_count": 126,
   "metadata": {},
   "outputs": [],
   "source": [
    "arima_results.to_csv(r'C:\\Users\\mailk\\OneDrive\\Desktop\\AI and ML\\Time Series\\data\\Hackathon\\samplesub.csv', index=False)"
   ]
  },
  {
   "cell_type": "code",
   "execution_count": null,
   "metadata": {},
   "outputs": [],
   "source": []
  },
  {
   "cell_type": "code",
   "execution_count": 130,
   "metadata": {},
   "outputs": [],
   "source": [
    "trainfb = pd.read_csv(r'C:\\Users\\mailk\\OneDrive\\Desktop\\AI and ML\\Time Series\\data\\Hackathon\\Train.csv', parse_dates=True, infer_datetime_format=True)\n"
   ]
  },
  {
   "cell_type": "code",
   "execution_count": 215,
   "metadata": {},
   "outputs": [],
   "source": [
    "testfb = pd.read_csv(r'C:\\Users\\mailk\\OneDrive\\Desktop\\AI and ML\\Time Series\\data\\Hackathon\\Test.csv', index_col='ID', parse_dates=True, infer_datetime_format=True)"
   ]
  },
  {
   "cell_type": "code",
   "execution_count": 133,
   "metadata": {},
   "outputs": [],
   "source": [
    "train = trainfb[['Datetime', 'Count']]"
   ]
  },
  {
   "cell_type": "code",
   "execution_count": 135,
   "metadata": {},
   "outputs": [],
   "source": [
    "train.columns = ['ds', 'y']"
   ]
  },
  {
   "cell_type": "code",
   "execution_count": 136,
   "metadata": {},
   "outputs": [
    {
     "data": {
      "text/html": [
       "<div>\n",
       "<style scoped>\n",
       "    .dataframe tbody tr th:only-of-type {\n",
       "        vertical-align: middle;\n",
       "    }\n",
       "\n",
       "    .dataframe tbody tr th {\n",
       "        vertical-align: top;\n",
       "    }\n",
       "\n",
       "    .dataframe thead th {\n",
       "        text-align: right;\n",
       "    }\n",
       "</style>\n",
       "<table border=\"1\" class=\"dataframe\">\n",
       "  <thead>\n",
       "    <tr style=\"text-align: right;\">\n",
       "      <th></th>\n",
       "      <th>ds</th>\n",
       "      <th>y</th>\n",
       "    </tr>\n",
       "  </thead>\n",
       "  <tbody>\n",
       "    <tr>\n",
       "      <th>0</th>\n",
       "      <td>25-08-2012 00:00</td>\n",
       "      <td>8</td>\n",
       "    </tr>\n",
       "    <tr>\n",
       "      <th>1</th>\n",
       "      <td>25-08-2012 01:00</td>\n",
       "      <td>2</td>\n",
       "    </tr>\n",
       "    <tr>\n",
       "      <th>2</th>\n",
       "      <td>25-08-2012 02:00</td>\n",
       "      <td>6</td>\n",
       "    </tr>\n",
       "    <tr>\n",
       "      <th>3</th>\n",
       "      <td>25-08-2012 03:00</td>\n",
       "      <td>2</td>\n",
       "    </tr>\n",
       "    <tr>\n",
       "      <th>4</th>\n",
       "      <td>25-08-2012 04:00</td>\n",
       "      <td>2</td>\n",
       "    </tr>\n",
       "    <tr>\n",
       "      <th>...</th>\n",
       "      <td>...</td>\n",
       "      <td>...</td>\n",
       "    </tr>\n",
       "    <tr>\n",
       "      <th>18283</th>\n",
       "      <td>25-09-2014 19:00</td>\n",
       "      <td>868</td>\n",
       "    </tr>\n",
       "    <tr>\n",
       "      <th>18284</th>\n",
       "      <td>25-09-2014 20:00</td>\n",
       "      <td>732</td>\n",
       "    </tr>\n",
       "    <tr>\n",
       "      <th>18285</th>\n",
       "      <td>25-09-2014 21:00</td>\n",
       "      <td>702</td>\n",
       "    </tr>\n",
       "    <tr>\n",
       "      <th>18286</th>\n",
       "      <td>25-09-2014 22:00</td>\n",
       "      <td>580</td>\n",
       "    </tr>\n",
       "    <tr>\n",
       "      <th>18287</th>\n",
       "      <td>25-09-2014 23:00</td>\n",
       "      <td>534</td>\n",
       "    </tr>\n",
       "  </tbody>\n",
       "</table>\n",
       "<p>18288 rows × 2 columns</p>\n",
       "</div>"
      ],
      "text/plain": [
       "                     ds    y\n",
       "0      25-08-2012 00:00    8\n",
       "1      25-08-2012 01:00    2\n",
       "2      25-08-2012 02:00    6\n",
       "3      25-08-2012 03:00    2\n",
       "4      25-08-2012 04:00    2\n",
       "...                 ...  ...\n",
       "18283  25-09-2014 19:00  868\n",
       "18284  25-09-2014 20:00  732\n",
       "18285  25-09-2014 21:00  702\n",
       "18286  25-09-2014 22:00  580\n",
       "18287  25-09-2014 23:00  534\n",
       "\n",
       "[18288 rows x 2 columns]"
      ]
     },
     "execution_count": 136,
     "metadata": {},
     "output_type": "execute_result"
    }
   ],
   "source": [
    "train"
   ]
  },
  {
   "cell_type": "code",
   "execution_count": 137,
   "metadata": {},
   "outputs": [
    {
     "data": {
      "text/plain": [
       "<AxesSubplot:>"
      ]
     },
     "execution_count": 137,
     "metadata": {},
     "output_type": "execute_result"
    },
    {
     "data": {
      "image/png": "[encoded data removed]",
      "text/plain": [
       "<Figure size 432x288 with 1 Axes>"
      ]
     },
     "metadata": {
      "needs_background": "light"
     },
     "output_type": "display_data"
    }
   ],
   "source": [
    "train['y'].plot()"
   ]
  },
  {
   "cell_type": "code",
   "execution_count": 161,
   "metadata": {},
   "outputs": [],
   "source": [
    "m = Prophet(interval_width=0.95, daily_seasonality=False)"
   ]
  },
  {
   "cell_type": "code",
   "execution_count": 162,
   "metadata": {},
   "outputs": [],
   "source": [
    "model = m.fit(train)"
   ]
  },
  {
   "cell_type": "code",
   "execution_count": 163,
   "metadata": {},
   "outputs": [],
   "source": [
    "future = model.make_future_dataframe(periods=10, freq='H')"
   ]
  },
  {
   "cell_type": "code",
   "execution_count": 165,
   "metadata": {},
   "outputs": [
    {
     "data": {
      "text/html": [
       "<div>\n",
       "<style scoped>\n",
       "    .dataframe tbody tr th:only-of-type {\n",
       "        vertical-align: middle;\n",
       "    }\n",
       "\n",
       "    .dataframe tbody tr th {\n",
       "        vertical-align: top;\n",
       "    }\n",
       "\n",
       "    .dataframe thead th {\n",
       "        text-align: right;\n",
       "    }\n",
       "</style>\n",
       "<table border=\"1\" class=\"dataframe\">\n",
       "  <thead>\n",
       "    <tr style=\"text-align: right;\">\n",
       "      <th></th>\n",
       "      <th>ds</th>\n",
       "    </tr>\n",
       "  </thead>\n",
       "  <tbody>\n",
       "    <tr>\n",
       "      <th>0</th>\n",
       "      <td>2012-01-09 00:00:00</td>\n",
       "    </tr>\n",
       "    <tr>\n",
       "      <th>1</th>\n",
       "      <td>2012-01-09 01:00:00</td>\n",
       "    </tr>\n",
       "    <tr>\n",
       "      <th>2</th>\n",
       "      <td>2012-01-09 02:00:00</td>\n",
       "    </tr>\n",
       "    <tr>\n",
       "      <th>3</th>\n",
       "      <td>2012-01-09 03:00:00</td>\n",
       "    </tr>\n",
       "    <tr>\n",
       "      <th>4</th>\n",
       "      <td>2012-01-09 04:00:00</td>\n",
       "    </tr>\n",
       "    <tr>\n",
       "      <th>5</th>\n",
       "      <td>2012-01-09 05:00:00</td>\n",
       "    </tr>\n",
       "    <tr>\n",
       "      <th>6</th>\n",
       "      <td>2012-01-09 06:00:00</td>\n",
       "    </tr>\n",
       "    <tr>\n",
       "      <th>7</th>\n",
       "      <td>2012-01-09 07:00:00</td>\n",
       "    </tr>\n",
       "    <tr>\n",
       "      <th>8</th>\n",
       "      <td>2012-01-09 08:00:00</td>\n",
       "    </tr>\n",
       "    <tr>\n",
       "      <th>9</th>\n",
       "      <td>2012-01-09 09:00:00</td>\n",
       "    </tr>\n",
       "    <tr>\n",
       "      <th>10</th>\n",
       "      <td>2012-01-09 10:00:00</td>\n",
       "    </tr>\n",
       "    <tr>\n",
       "      <th>11</th>\n",
       "      <td>2012-01-09 11:00:00</td>\n",
       "    </tr>\n",
       "    <tr>\n",
       "      <th>12</th>\n",
       "      <td>2012-01-09 12:00:00</td>\n",
       "    </tr>\n",
       "    <tr>\n",
       "      <th>13</th>\n",
       "      <td>2012-01-09 13:00:00</td>\n",
       "    </tr>\n",
       "    <tr>\n",
       "      <th>14</th>\n",
       "      <td>2012-01-09 14:00:00</td>\n",
       "    </tr>\n",
       "  </tbody>\n",
       "</table>\n",
       "</div>"
      ],
      "text/plain": [
       "                    ds\n",
       "0  2012-01-09 00:00:00\n",
       "1  2012-01-09 01:00:00\n",
       "2  2012-01-09 02:00:00\n",
       "3  2012-01-09 03:00:00\n",
       "4  2012-01-09 04:00:00\n",
       "5  2012-01-09 05:00:00\n",
       "6  2012-01-09 06:00:00\n",
       "7  2012-01-09 07:00:00\n",
       "8  2012-01-09 08:00:00\n",
       "9  2012-01-09 09:00:00\n",
       "10 2012-01-09 10:00:00\n",
       "11 2012-01-09 11:00:00\n",
       "12 2012-01-09 12:00:00\n",
       "13 2012-01-09 13:00:00\n",
       "14 2012-01-09 14:00:00"
      ]
     },
     "execution_count": 165,
     "metadata": {},
     "output_type": "execute_result"
    }
   ],
   "source": [
    "future.head(15)"
   ]
  },
  {
   "cell_type": "code",
   "execution_count": null,
   "metadata": {},
   "outputs": [],
   "source": []
  },
  {
   "cell_type": "code",
   "execution_count": 146,
   "metadata": {},
   "outputs": [],
   "source": [
    "forecast = model.predict(future)"
   ]
  },
  {
   "cell_type": "code",
   "execution_count": 147,
   "metadata": {},
   "outputs": [
    {
     "data": {
      "text/html": [
       "<div>\n",
       "<style scoped>\n",
       "    .dataframe tbody tr th:only-of-type {\n",
       "        vertical-align: middle;\n",
       "    }\n",
       "\n",
       "    .dataframe tbody tr th {\n",
       "        vertical-align: top;\n",
       "    }\n",
       "\n",
       "    .dataframe thead th {\n",
       "        text-align: right;\n",
       "    }\n",
       "</style>\n",
       "<table border=\"1\" class=\"dataframe\">\n",
       "  <thead>\n",
       "    <tr style=\"text-align: right;\">\n",
       "      <th></th>\n",
       "      <th>ds</th>\n",
       "      <th>trend</th>\n",
       "      <th>yhat_lower</th>\n",
       "      <th>yhat_upper</th>\n",
       "      <th>trend_lower</th>\n",
       "      <th>trend_upper</th>\n",
       "      <th>additive_terms</th>\n",
       "      <th>additive_terms_lower</th>\n",
       "      <th>additive_terms_upper</th>\n",
       "      <th>daily</th>\n",
       "      <th>...</th>\n",
       "      <th>weekly</th>\n",
       "      <th>weekly_lower</th>\n",
       "      <th>weekly_upper</th>\n",
       "      <th>yearly</th>\n",
       "      <th>yearly_lower</th>\n",
       "      <th>yearly_upper</th>\n",
       "      <th>multiplicative_terms</th>\n",
       "      <th>multiplicative_terms_lower</th>\n",
       "      <th>multiplicative_terms_upper</th>\n",
       "      <th>yhat</th>\n",
       "    </tr>\n",
       "  </thead>\n",
       "  <tbody>\n",
       "    <tr>\n",
       "      <th>0</th>\n",
       "      <td>2012-01-09 00:00:00</td>\n",
       "      <td>30.756527</td>\n",
       "      <td>-143.818405</td>\n",
       "      <td>189.584499</td>\n",
       "      <td>30.756527</td>\n",
       "      <td>30.756527</td>\n",
       "      <td>-8.735176</td>\n",
       "      <td>-8.735176</td>\n",
       "      <td>-8.735176</td>\n",
       "      <td>5.293235</td>\n",
       "      <td>...</td>\n",
       "      <td>-14.611040</td>\n",
       "      <td>-14.611040</td>\n",
       "      <td>-14.611040</td>\n",
       "      <td>0.582629</td>\n",
       "      <td>0.582629</td>\n",
       "      <td>0.582629</td>\n",
       "      <td>0.0</td>\n",
       "      <td>0.0</td>\n",
       "      <td>0.0</td>\n",
       "      <td>22.021351</td>\n",
       "    </tr>\n",
       "    <tr>\n",
       "      <th>1</th>\n",
       "      <td>2012-01-09 01:00:00</td>\n",
       "      <td>30.747011</td>\n",
       "      <td>-179.077776</td>\n",
       "      <td>167.844780</td>\n",
       "      <td>30.747011</td>\n",
       "      <td>30.747011</td>\n",
       "      <td>-29.508039</td>\n",
       "      <td>-29.508039</td>\n",
       "      <td>-29.508039</td>\n",
       "      <td>-17.183663</td>\n",
       "      <td>...</td>\n",
       "      <td>-12.867891</td>\n",
       "      <td>-12.867891</td>\n",
       "      <td>-12.867891</td>\n",
       "      <td>0.543514</td>\n",
       "      <td>0.543514</td>\n",
       "      <td>0.543514</td>\n",
       "      <td>0.0</td>\n",
       "      <td>0.0</td>\n",
       "      <td>0.0</td>\n",
       "      <td>1.238971</td>\n",
       "    </tr>\n",
       "    <tr>\n",
       "      <th>2</th>\n",
       "      <td>2012-01-09 02:00:00</td>\n",
       "      <td>30.737494</td>\n",
       "      <td>-196.977160</td>\n",
       "      <td>146.352587</td>\n",
       "      <td>30.737494</td>\n",
       "      <td>30.737494</td>\n",
       "      <td>-50.375279</td>\n",
       "      <td>-50.375279</td>\n",
       "      <td>-50.375279</td>\n",
       "      <td>-39.784233</td>\n",
       "      <td>...</td>\n",
       "      <td>-11.094997</td>\n",
       "      <td>-11.094997</td>\n",
       "      <td>-11.094997</td>\n",
       "      <td>0.503951</td>\n",
       "      <td>0.503951</td>\n",
       "      <td>0.503951</td>\n",
       "      <td>0.0</td>\n",
       "      <td>0.0</td>\n",
       "      <td>0.0</td>\n",
       "      <td>-19.637785</td>\n",
       "    </tr>\n",
       "    <tr>\n",
       "      <th>3</th>\n",
       "      <td>2012-01-09 03:00:00</td>\n",
       "      <td>30.727978</td>\n",
       "      <td>-195.104146</td>\n",
       "      <td>143.466210</td>\n",
       "      <td>30.727978</td>\n",
       "      <td>30.727978</td>\n",
       "      <td>-66.138004</td>\n",
       "      <td>-66.138004</td>\n",
       "      <td>-66.138004</td>\n",
       "      <td>-57.301307</td>\n",
       "      <td>...</td>\n",
       "      <td>-9.300637</td>\n",
       "      <td>-9.300637</td>\n",
       "      <td>-9.300637</td>\n",
       "      <td>0.463940</td>\n",
       "      <td>0.463940</td>\n",
       "      <td>0.463940</td>\n",
       "      <td>0.0</td>\n",
       "      <td>0.0</td>\n",
       "      <td>0.0</td>\n",
       "      <td>-35.410027</td>\n",
       "    </tr>\n",
       "    <tr>\n",
       "      <th>4</th>\n",
       "      <td>2012-01-09 04:00:00</td>\n",
       "      <td>30.718461</td>\n",
       "      <td>-208.068584</td>\n",
       "      <td>137.287343</td>\n",
       "      <td>30.718461</td>\n",
       "      <td>30.718461</td>\n",
       "      <td>-75.457143</td>\n",
       "      <td>-75.457143</td>\n",
       "      <td>-75.457143</td>\n",
       "      <td>-68.387413</td>\n",
       "      <td>...</td>\n",
       "      <td>-7.493215</td>\n",
       "      <td>-7.493215</td>\n",
       "      <td>-7.493215</td>\n",
       "      <td>0.423485</td>\n",
       "      <td>0.423485</td>\n",
       "      <td>0.423485</td>\n",
       "      <td>0.0</td>\n",
       "      <td>0.0</td>\n",
       "      <td>0.0</td>\n",
       "      <td>-44.738682</td>\n",
       "    </tr>\n",
       "    <tr>\n",
       "      <th>...</th>\n",
       "      <td>...</td>\n",
       "      <td>...</td>\n",
       "      <td>...</td>\n",
       "      <td>...</td>\n",
       "      <td>...</td>\n",
       "      <td>...</td>\n",
       "      <td>...</td>\n",
       "      <td>...</td>\n",
       "      <td>...</td>\n",
       "      <td>...</td>\n",
       "      <td>...</td>\n",
       "      <td>...</td>\n",
       "      <td>...</td>\n",
       "      <td>...</td>\n",
       "      <td>...</td>\n",
       "      <td>...</td>\n",
       "      <td>...</td>\n",
       "      <td>...</td>\n",
       "      <td>...</td>\n",
       "      <td>...</td>\n",
       "      <td>...</td>\n",
       "    </tr>\n",
       "    <tr>\n",
       "      <th>23395</th>\n",
       "      <td>2015-07-10 19:00:00</td>\n",
       "      <td>459.257089</td>\n",
       "      <td>290.260752</td>\n",
       "      <td>729.004579</td>\n",
       "      <td>323.073164</td>\n",
       "      <td>593.078024</td>\n",
       "      <td>49.307455</td>\n",
       "      <td>49.307455</td>\n",
       "      <td>49.307455</td>\n",
       "      <td>38.815497</td>\n",
       "      <td>...</td>\n",
       "      <td>-2.605565</td>\n",
       "      <td>-2.605565</td>\n",
       "      <td>-2.605565</td>\n",
       "      <td>13.097522</td>\n",
       "      <td>13.097522</td>\n",
       "      <td>13.097522</td>\n",
       "      <td>0.0</td>\n",
       "      <td>0.0</td>\n",
       "      <td>0.0</td>\n",
       "      <td>508.564544</td>\n",
       "    </tr>\n",
       "    <tr>\n",
       "      <th>23396</th>\n",
       "      <td>2015-07-10 20:00:00</td>\n",
       "      <td>459.275238</td>\n",
       "      <td>295.981755</td>\n",
       "      <td>730.655885</td>\n",
       "      <td>323.046859</td>\n",
       "      <td>593.131231</td>\n",
       "      <td>45.004809</td>\n",
       "      <td>45.004809</td>\n",
       "      <td>45.004809</td>\n",
       "      <td>35.582136</td>\n",
       "      <td>...</td>\n",
       "      <td>-3.651189</td>\n",
       "      <td>-3.651189</td>\n",
       "      <td>-3.651189</td>\n",
       "      <td>13.073862</td>\n",
       "      <td>13.073862</td>\n",
       "      <td>13.073862</td>\n",
       "      <td>0.0</td>\n",
       "      <td>0.0</td>\n",
       "      <td>0.0</td>\n",
       "      <td>504.280048</td>\n",
       "    </tr>\n",
       "    <tr>\n",
       "      <th>23397</th>\n",
       "      <td>2015-07-10 21:00:00</td>\n",
       "      <td>459.293388</td>\n",
       "      <td>289.405907</td>\n",
       "      <td>726.103184</td>\n",
       "      <td>323.020554</td>\n",
       "      <td>593.184438</td>\n",
       "      <td>41.440812</td>\n",
       "      <td>41.440812</td>\n",
       "      <td>41.440812</td>\n",
       "      <td>33.116070</td>\n",
       "      <td>...</td>\n",
       "      <td>-4.725205</td>\n",
       "      <td>-4.725205</td>\n",
       "      <td>-4.725205</td>\n",
       "      <td>13.049946</td>\n",
       "      <td>13.049946</td>\n",
       "      <td>13.049946</td>\n",
       "      <td>0.0</td>\n",
       "      <td>0.0</td>\n",
       "      <td>0.0</td>\n",
       "      <td>500.734199</td>\n",
       "    </tr>\n",
       "    <tr>\n",
       "      <th>23398</th>\n",
       "      <td>2015-07-10 22:00:00</td>\n",
       "      <td>459.311537</td>\n",
       "      <td>273.723025</td>\n",
       "      <td>718.783742</td>\n",
       "      <td>322.994249</td>\n",
       "      <td>593.237644</td>\n",
       "      <td>37.205733</td>\n",
       "      <td>37.205733</td>\n",
       "      <td>37.205733</td>\n",
       "      <td>30.005788</td>\n",
       "      <td>...</td>\n",
       "      <td>-5.825832</td>\n",
       "      <td>-5.825832</td>\n",
       "      <td>-5.825832</td>\n",
       "      <td>13.025777</td>\n",
       "      <td>13.025777</td>\n",
       "      <td>13.025777</td>\n",
       "      <td>0.0</td>\n",
       "      <td>0.0</td>\n",
       "      <td>0.0</td>\n",
       "      <td>496.517270</td>\n",
       "    </tr>\n",
       "    <tr>\n",
       "      <th>23399</th>\n",
       "      <td>2015-07-10 23:00:00</td>\n",
       "      <td>459.329687</td>\n",
       "      <td>251.128330</td>\n",
       "      <td>703.085094</td>\n",
       "      <td>322.967945</td>\n",
       "      <td>593.290851</td>\n",
       "      <td>27.770761</td>\n",
       "      <td>27.770761</td>\n",
       "      <td>27.770761</td>\n",
       "      <td>21.720483</td>\n",
       "      <td>...</td>\n",
       "      <td>-6.951080</td>\n",
       "      <td>-6.951080</td>\n",
       "      <td>-6.951080</td>\n",
       "      <td>13.001357</td>\n",
       "      <td>13.001357</td>\n",
       "      <td>13.001357</td>\n",
       "      <td>0.0</td>\n",
       "      <td>0.0</td>\n",
       "      <td>0.0</td>\n",
       "      <td>487.100447</td>\n",
       "    </tr>\n",
       "  </tbody>\n",
       "</table>\n",
       "<p>23400 rows × 22 columns</p>\n",
       "</div>"
      ],
      "text/plain": [
       "                       ds       trend  yhat_lower  yhat_upper  trend_lower  \\\n",
       "0     2012-01-09 00:00:00   30.756527 -143.818405  189.584499    30.756527   \n",
       "1     2012-01-09 01:00:00   30.747011 -179.077776  167.844780    30.747011   \n",
       "2     2012-01-09 02:00:00   30.737494 -196.977160  146.352587    30.737494   \n",
       "3     2012-01-09 03:00:00   30.727978 -195.104146  143.466210    30.727978   \n",
       "4     2012-01-09 04:00:00   30.718461 -208.068584  137.287343    30.718461   \n",
       "...                   ...         ...         ...         ...          ...   \n",
       "23395 2015-07-10 19:00:00  459.257089  290.260752  729.004579   323.073164   \n",
       "23396 2015-07-10 20:00:00  459.275238  295.981755  730.655885   323.046859   \n",
       "23397 2015-07-10 21:00:00  459.293388  289.405907  726.103184   323.020554   \n",
       "23398 2015-07-10 22:00:00  459.311537  273.723025  718.783742   322.994249   \n",
       "23399 2015-07-10 23:00:00  459.329687  251.128330  703.085094   322.967945   \n",
       "\n",
       "       trend_upper  additive_terms  additive_terms_lower  \\\n",
       "0        30.756527       -8.735176             -8.735176   \n",
       "1        30.747011      -29.508039            -29.508039   \n",
       "2        30.737494      -50.375279            -50.375279   \n",
       "3        30.727978      -66.138004            -66.138004   \n",
       "4        30.718461      -75.457143            -75.457143   \n",
       "...            ...             ...                   ...   \n",
       "23395   593.078024       49.307455             49.307455   \n",
       "23396   593.131231       45.004809             45.004809   \n",
       "23397   593.184438       41.440812             41.440812   \n",
       "23398   593.237644       37.205733             37.205733   \n",
       "23399   593.290851       27.770761             27.770761   \n",
       "\n",
       "       additive_terms_upper      daily  ...     weekly  weekly_lower  \\\n",
       "0                 -8.735176   5.293235  ... -14.611040    -14.611040   \n",
       "1                -29.508039 -17.183663  ... -12.867891    -12.867891   \n",
       "2                -50.375279 -39.784233  ... -11.094997    -11.094997   \n",
       "3                -66.138004 -57.301307  ...  -9.300637     -9.300637   \n",
       "4                -75.457143 -68.387413  ...  -7.493215     -7.493215   \n",
       "...                     ...        ...  ...        ...           ...   \n",
       "23395             49.307455  38.815497  ...  -2.605565     -2.605565   \n",
       "23396             45.004809  35.582136  ...  -3.651189     -3.651189   \n",
       "23397             41.440812  33.116070  ...  -4.725205     -4.725205   \n",
       "23398             37.205733  30.005788  ...  -5.825832     -5.825832   \n",
       "23399             27.770761  21.720483  ...  -6.951080     -6.951080   \n",
       "\n",
       "       weekly_upper     yearly  yearly_lower  yearly_upper  \\\n",
       "0        -14.611040   0.582629      0.582629      0.582629   \n",
       "1        -12.867891   0.543514      0.543514      0.543514   \n",
       "2        -11.094997   0.503951      0.503951      0.503951   \n",
       "3         -9.300637   0.463940      0.463940      0.463940   \n",
       "4         -7.493215   0.423485      0.423485      0.423485   \n",
       "...             ...        ...           ...           ...   \n",
       "23395     -2.605565  13.097522     13.097522     13.097522   \n",
       "23396     -3.651189  13.073862     13.073862     13.073862   \n",
       "23397     -4.725205  13.049946     13.049946     13.049946   \n",
       "23398     -5.825832  13.025777     13.025777     13.025777   \n",
       "23399     -6.951080  13.001357     13.001357     13.001357   \n",
       "\n",
       "       multiplicative_terms  multiplicative_terms_lower  \\\n",
       "0                       0.0                         0.0   \n",
       "1                       0.0                         0.0   \n",
       "2                       0.0                         0.0   \n",
       "3                       0.0                         0.0   \n",
       "4                       0.0                         0.0   \n",
       "...                     ...                         ...   \n",
       "23395                   0.0                         0.0   \n",
       "23396                   0.0                         0.0   \n",
       "23397                   0.0                         0.0   \n",
       "23398                   0.0                         0.0   \n",
       "23399                   0.0                         0.0   \n",
       "\n",
       "       multiplicative_terms_upper        yhat  \n",
       "0                             0.0   22.021351  \n",
       "1                             0.0    1.238971  \n",
       "2                             0.0  -19.637785  \n",
       "3                             0.0  -35.410027  \n",
       "4                             0.0  -44.738682  \n",
       "...                           ...         ...  \n",
       "23395                         0.0  508.564544  \n",
       "23396                         0.0  504.280048  \n",
       "23397                         0.0  500.734199  \n",
       "23398                         0.0  496.517270  \n",
       "23399                         0.0  487.100447  \n",
       "\n",
       "[23400 rows x 22 columns]"
      ]
     },
     "execution_count": 147,
     "metadata": {},
     "output_type": "execute_result"
    }
   ],
   "source": [
    "forecast"
   ]
  },
  {
   "cell_type": "code",
   "execution_count": 260,
   "metadata": {},
   "outputs": [
    {
     "data": {
      "image/png": "[encoded data removed]",
      "text/plain": [
       "<Figure size 720x432 with 1 Axes>"
      ]
     },
     "metadata": {},
     "output_type": "display_data"
    }
   ],
   "source": [
    "m.plot(forecast);"
   ]
  },
  {
   "cell_type": "code",
   "execution_count": 149,
   "metadata": {},
   "outputs": [
    {
     "data": {
      "image/png": "[encoded data removed]",
      "text/plain": [
       "<Figure size 648x864 with 4 Axes>"
      ]
     },
     "metadata": {},
     "output_type": "display_data"
    }
   ],
   "source": [
    "m.plot_components(forecast);"
   ]
  },
  {
   "cell_type": "code",
   "execution_count": 190,
   "metadata": {},
   "outputs": [],
   "source": [
    "fc = pd.DataFrame(forecast['yhat'][18288:])"
   ]
  },
  {
   "cell_type": "code",
   "execution_count": 208,
   "metadata": {},
   "outputs": [],
   "source": [
    "fc.columns = ['Count']"
   ]
  },
  {
   "cell_type": "code",
   "execution_count": 214,
   "metadata": {},
   "outputs": [
    {
     "data": {
      "text/html": [
       "<div>\n",
       "<style scoped>\n",
       "    .dataframe tbody tr th:only-of-type {\n",
       "        vertical-align: middle;\n",
       "    }\n",
       "\n",
       "    .dataframe tbody tr th {\n",
       "        vertical-align: top;\n",
       "    }\n",
       "\n",
       "    .dataframe thead th {\n",
       "        text-align: right;\n",
       "    }\n",
       "</style>\n",
       "<table border=\"1\" class=\"dataframe\">\n",
       "  <thead>\n",
       "    <tr style=\"text-align: right;\">\n",
       "      <th></th>\n",
       "      <th>Count</th>\n",
       "    </tr>\n",
       "  </thead>\n",
       "  <tbody>\n",
       "    <tr>\n",
       "      <th>18288</th>\n",
       "      <td>331.521177</td>\n",
       "    </tr>\n",
       "    <tr>\n",
       "      <th>18289</th>\n",
       "      <td>308.561216</td>\n",
       "    </tr>\n",
       "    <tr>\n",
       "      <th>18290</th>\n",
       "      <td>285.499834</td>\n",
       "    </tr>\n",
       "    <tr>\n",
       "      <th>18291</th>\n",
       "      <td>267.547795</td>\n",
       "    </tr>\n",
       "    <tr>\n",
       "      <th>18292</th>\n",
       "      <td>256.055745</td>\n",
       "    </tr>\n",
       "    <tr>\n",
       "      <th>...</th>\n",
       "      <td>...</td>\n",
       "    </tr>\n",
       "    <tr>\n",
       "      <th>23395</th>\n",
       "      <td>508.564544</td>\n",
       "    </tr>\n",
       "    <tr>\n",
       "      <th>23396</th>\n",
       "      <td>504.280048</td>\n",
       "    </tr>\n",
       "    <tr>\n",
       "      <th>23397</th>\n",
       "      <td>500.734199</td>\n",
       "    </tr>\n",
       "    <tr>\n",
       "      <th>23398</th>\n",
       "      <td>496.517270</td>\n",
       "    </tr>\n",
       "    <tr>\n",
       "      <th>23399</th>\n",
       "      <td>487.100447</td>\n",
       "    </tr>\n",
       "  </tbody>\n",
       "</table>\n",
       "<p>5112 rows × 1 columns</p>\n",
       "</div>"
      ],
      "text/plain": [
       "            Count\n",
       "18288  331.521177\n",
       "18289  308.561216\n",
       "18290  285.499834\n",
       "18291  267.547795\n",
       "18292  256.055745\n",
       "...           ...\n",
       "23395  508.564544\n",
       "23396  504.280048\n",
       "23397  500.734199\n",
       "23398  496.517270\n",
       "23399  487.100447\n",
       "\n",
       "[5112 rows x 1 columns]"
      ]
     },
     "execution_count": 214,
     "metadata": {},
     "output_type": "execute_result"
    }
   ],
   "source": [
    "fc"
   ]
  },
  {
   "cell_type": "code",
   "execution_count": 216,
   "metadata": {},
   "outputs": [
    {
     "data": {
      "text/html": [
       "<div>\n",
       "<style scoped>\n",
       "    .dataframe tbody tr th:only-of-type {\n",
       "        vertical-align: middle;\n",
       "    }\n",
       "\n",
       "    .dataframe tbody tr th {\n",
       "        vertical-align: top;\n",
       "    }\n",
       "\n",
       "    .dataframe thead th {\n",
       "        text-align: right;\n",
       "    }\n",
       "</style>\n",
       "<table border=\"1\" class=\"dataframe\">\n",
       "  <thead>\n",
       "    <tr style=\"text-align: right;\">\n",
       "      <th></th>\n",
       "      <th>Datetime</th>\n",
       "    </tr>\n",
       "    <tr>\n",
       "      <th>ID</th>\n",
       "      <th></th>\n",
       "    </tr>\n",
       "  </thead>\n",
       "  <tbody>\n",
       "    <tr>\n",
       "      <th>18288</th>\n",
       "      <td>26-09-2014 00:00</td>\n",
       "    </tr>\n",
       "    <tr>\n",
       "      <th>18289</th>\n",
       "      <td>26-09-2014 01:00</td>\n",
       "    </tr>\n",
       "    <tr>\n",
       "      <th>18290</th>\n",
       "      <td>26-09-2014 02:00</td>\n",
       "    </tr>\n",
       "    <tr>\n",
       "      <th>18291</th>\n",
       "      <td>26-09-2014 03:00</td>\n",
       "    </tr>\n",
       "    <tr>\n",
       "      <th>18292</th>\n",
       "      <td>26-09-2014 04:00</td>\n",
       "    </tr>\n",
       "    <tr>\n",
       "      <th>...</th>\n",
       "      <td>...</td>\n",
       "    </tr>\n",
       "    <tr>\n",
       "      <th>23395</th>\n",
       "      <td>26-04-2015 19:00</td>\n",
       "    </tr>\n",
       "    <tr>\n",
       "      <th>23396</th>\n",
       "      <td>26-04-2015 20:00</td>\n",
       "    </tr>\n",
       "    <tr>\n",
       "      <th>23397</th>\n",
       "      <td>26-04-2015 21:00</td>\n",
       "    </tr>\n",
       "    <tr>\n",
       "      <th>23398</th>\n",
       "      <td>26-04-2015 22:00</td>\n",
       "    </tr>\n",
       "    <tr>\n",
       "      <th>23399</th>\n",
       "      <td>26-04-2015 23:00</td>\n",
       "    </tr>\n",
       "  </tbody>\n",
       "</table>\n",
       "<p>5112 rows × 1 columns</p>\n",
       "</div>"
      ],
      "text/plain": [
       "               Datetime\n",
       "ID                     \n",
       "18288  26-09-2014 00:00\n",
       "18289  26-09-2014 01:00\n",
       "18290  26-09-2014 02:00\n",
       "18291  26-09-2014 03:00\n",
       "18292  26-09-2014 04:00\n",
       "...                 ...\n",
       "23395  26-04-2015 19:00\n",
       "23396  26-04-2015 20:00\n",
       "23397  26-04-2015 21:00\n",
       "23398  26-04-2015 22:00\n",
       "23399  26-04-2015 23:00\n",
       "\n",
       "[5112 rows x 1 columns]"
      ]
     },
     "execution_count": 216,
     "metadata": {},
     "output_type": "execute_result"
    }
   ],
   "source": [
    "testfb"
   ]
  },
  {
   "cell_type": "code",
   "execution_count": 218,
   "metadata": {},
   "outputs": [],
   "source": [
    "fbresults = pd.concat([testfb, fc],axis=1)"
   ]
  },
  {
   "cell_type": "code",
   "execution_count": 220,
   "metadata": {},
   "outputs": [],
   "source": [
    "fbresults.reset_index(level=0, inplace=True)"
   ]
  },
  {
   "cell_type": "code",
   "execution_count": 223,
   "metadata": {},
   "outputs": [],
   "source": [
    "fbresults1 = fbresults[['index', 'Count']]"
   ]
  },
  {
   "cell_type": "code",
   "execution_count": 225,
   "metadata": {},
   "outputs": [],
   "source": [
    "fbresults1.columns = ['ID', 'Count']"
   ]
  },
  {
   "cell_type": "code",
   "execution_count": 227,
   "metadata": {},
   "outputs": [],
   "source": [
    "fbresults1.to_csv(r'C:\\Users\\mailk\\OneDrive\\Desktop\\AI and ML\\Time Series\\data\\Hackathon\\fbresults.csv', index=False)"
   ]
  }
 ],
 "metadata": {
  "kernelspec": {
   "display_name": "Python3.7Test",
   "language": "python",
   "name": "python3.7test"
  },
  "language_info": {
   "codemirror_mode": {
    "name": "ipython",
    "version": 3
   },
   "file_extension": ".py",
   "mimetype": "text/x-python",
   "name": "python",
   "nbconvert_exporter": "python",
   "pygments_lexer": "ipython3",
   "version": "3.7.11"
  }
 },
 "nbformat": 4,
 "nbformat_minor": 4
}
