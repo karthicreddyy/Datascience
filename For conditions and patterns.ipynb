{
 "cells": [
  {
   "cell_type": "code",
   "execution_count": 1,
   "metadata": {},
   "outputs": [
    {
     "name": "stdout",
     "output_type": "stream",
     "text": [
      "0\n",
      "1\n",
      "2\n",
      "3\n",
      "4\n",
      "5\n",
      "6\n",
      "7\n",
      "8\n",
      "9\n"
     ]
    }
   ],
   "source": [
    "i = 0\n",
    "\n",
    "while i < 10:\n",
    "    print(i)\n",
    "    i = i + 1"
   ]
  },
  {
   "cell_type": "code",
   "execution_count": null,
   "metadata": {},
   "outputs": [],
   "source": [
    "i = 0\n",
    "\n",
    "while i < 10:\n",
    "    print(i)\n",
    "    i = i + 1\n",
    "    if i ==6:\n",
    "        break\n",
    "    print(\"outside if cond\")\n",
    "    "
   ]
  },
  {
   "cell_type": "code",
   "execution_count": null,
   "metadata": {},
   "outputs": [],
   "source": [
    "1500 TO 2700 "
   ]
  },
  {
   "cell_type": "code",
   "execution_count": 19,
   "metadata": {},
   "outputs": [
    {
     "name": "stdout",
     "output_type": "stream",
     "text": [
      "5\n",
      "2\n",
      "3\n",
      "4\n",
      "5\n",
      "6\n"
     ]
    },
    {
     "ename": "IndexError",
     "evalue": "list index out of range",
     "output_type": "error",
     "traceback": [
      "\u001b[1;31m---------------------------------------------------------------------------\u001b[0m",
      "\u001b[1;31mIndexError\u001b[0m                                Traceback (most recent call last)",
      "\u001b[1;32m<ipython-input-19-963c5672ba41>\u001b[0m in \u001b[0;36m<module>\u001b[1;34m\u001b[0m\n\u001b[0;32m      5\u001b[0m \u001b[1;33m\u001b[0m\u001b[0m\n\u001b[0;32m      6\u001b[0m \u001b[1;32mwhile\u001b[0m \u001b[0mIND\u001b[0m \u001b[1;33m<\u001b[0m \u001b[0mARR_CNT\u001b[0m \u001b[1;33m+\u001b[0m \u001b[1;36m1\u001b[0m\u001b[1;33m:\u001b[0m\u001b[1;33m\u001b[0m\u001b[1;33m\u001b[0m\u001b[0m\n\u001b[1;32m----> 7\u001b[1;33m     \u001b[0mA\u001b[0m\u001b[1;33m[\u001b[0m\u001b[0mIND\u001b[0m\u001b[1;33m]\u001b[0m \u001b[1;33m=\u001b[0m \u001b[0mA\u001b[0m\u001b[1;33m[\u001b[0m\u001b[0mIND\u001b[0m\u001b[1;33m]\u001b[0m \u001b[1;33m+\u001b[0m \u001b[1;36m1\u001b[0m\u001b[1;33m\u001b[0m\u001b[1;33m\u001b[0m\u001b[0m\n\u001b[0m\u001b[0;32m      8\u001b[0m     \u001b[0mprint\u001b[0m\u001b[1;33m(\u001b[0m\u001b[0mA\u001b[0m\u001b[1;33m[\u001b[0m\u001b[0mIND\u001b[0m\u001b[1;33m]\u001b[0m\u001b[1;33m)\u001b[0m\u001b[1;33m\u001b[0m\u001b[1;33m\u001b[0m\u001b[0m\n\u001b[0;32m      9\u001b[0m     \u001b[0mIND\u001b[0m \u001b[1;33m=\u001b[0m \u001b[0mIND\u001b[0m \u001b[1;33m+\u001b[0m \u001b[1;36m1\u001b[0m\u001b[1;33m\u001b[0m\u001b[1;33m\u001b[0m\u001b[0m\n",
      "\u001b[1;31mIndexError\u001b[0m: list index out of range"
     ]
    }
   ],
   "source": [
    "A = [1,2,3,4,5]\n",
    "IND = 0\n",
    "ARR_CNT = len(A)\n",
    "print (ARR_CNT)\n",
    "\n",
    "while IND < ARR_CNT + 1:\n",
    "    A[IND] = A[IND] + 1\n",
    "    print(A[IND])\n",
    "    IND = IND + 1\n"
   ]
  },
  {
   "cell_type": "code",
   "execution_count": 26,
   "metadata": {},
   "outputs": [
    {
     "name": "stdout",
     "output_type": "stream",
     "text": [
      "1505\n",
      "1540\n",
      "1575\n",
      "1610\n",
      "1645\n",
      "1680\n",
      "1715\n",
      "1750\n",
      "1785\n",
      "1820\n",
      "1855\n",
      "1890\n",
      "1925\n",
      "1960\n",
      "1995\n",
      "2030\n",
      "2065\n",
      "2100\n",
      "2135\n",
      "2170\n",
      "2205\n",
      "2240\n",
      "2275\n",
      "2310\n",
      "2345\n",
      "2380\n",
      "2415\n",
      "2450\n",
      "2485\n",
      "2520\n",
      "2555\n",
      "2590\n",
      "2625\n",
      "2660\n",
      "2695\n",
      "[1505, 1540, 1575, 1610, 1645, 1680, 1715, 1750, 1785, 1820, 1855, 1890, 1925, 1960, 1995, 2030, 2065, 2100, 2135, 2170, 2205, 2240, 2275, 2310, 2345, 2380, 2415, 2450, 2485, 2520, 2555, 2590, 2625, 2660, 2695]\n"
     ]
    }
   ],
   "source": [
    "lr = 1500\n",
    "hr = 2700\n",
    "\n",
    "a = []\n",
    "\n",
    "while lr <= 2700:\n",
    "    if lr % 5 ==0:\n",
    "        if lr % 7 ==0:\n",
    "            print(lr)\n",
    "            a.append(lr)\n",
    "    lr+=1\n",
    "print(a)"
   ]
  },
  {
   "cell_type": "code",
   "execution_count": 36,
   "metadata": {},
   "outputs": [
    {
     "name": "stdout",
     "output_type": "stream",
     "text": [
      "1\n",
      "3\n",
      "5\n",
      "7\n"
     ]
    }
   ],
   "source": [
    "id = [1,3,5,7,9]\n",
    "\n",
    "for i in range(0,len(id) - 1):\n",
    "    print(id[i])"
   ]
  },
  {
   "cell_type": "code",
   "execution_count": 53,
   "metadata": {},
   "outputs": [
    {
     "name": "stdout",
     "output_type": "stream",
     "text": [
      "* \n"
     ]
    }
   ],
   "source": [
    "n = 5\n",
    "i = 0\n",
    "\n",
    "arr = ['* '] * n\n",
    "\n",
    "for i in range(i, len(arr) - (n-1)):\n",
    "    print(arr[i])\n",
    "    \n",
    "\n",
    "\n"
   ]
  },
  {
   "cell_type": "code",
   "execution_count": 54,
   "metadata": {},
   "outputs": [
    {
     "ename": "SyntaxError",
     "evalue": "cannot assign to operator (<ipython-input-54-dc2aa167d6ff>, line 1)",
     "output_type": "error",
     "traceback": [
      "\u001b[1;36m  File \u001b[1;32m\"<ipython-input-54-dc2aa167d6ff>\"\u001b[1;36m, line \u001b[1;32m1\u001b[0m\n\u001b[1;33m    G@te = 5\u001b[0m\n\u001b[1;37m    ^\u001b[0m\n\u001b[1;31mSyntaxError\u001b[0m\u001b[1;31m:\u001b[0m cannot assign to operator\n"
     ]
    }
   ],
   "source": [
    "G@te = 5"
   ]
  },
  {
   "cell_type": "code",
   "execution_count": 69,
   "metadata": {},
   "outputs": [
    {
     "ename": "TypeError",
     "evalue": "unsupported operand type(s) for -: 'list' and 'int'",
     "output_type": "error",
     "traceback": [
      "\u001b[1;31m---------------------------------------------------------------------------\u001b[0m",
      "\u001b[1;31mTypeError\u001b[0m                                 Traceback (most recent call last)",
      "\u001b[1;32m<ipython-input-69-3ee92c6bb91f>\u001b[0m in \u001b[0;36m<module>\u001b[1;34m\u001b[0m\n\u001b[0;32m      6\u001b[0m \u001b[0mi\u001b[0m \u001b[1;33m=\u001b[0m \u001b[1;36m0\u001b[0m\u001b[1;33m\u001b[0m\u001b[1;33m\u001b[0m\u001b[0m\n\u001b[0;32m      7\u001b[0m \u001b[1;33m\u001b[0m\u001b[0m\n\u001b[1;32m----> 8\u001b[1;33m \u001b[1;32mfor\u001b[0m \u001b[0mi\u001b[0m \u001b[1;32min\u001b[0m \u001b[0mrange\u001b[0m\u001b[1;33m(\u001b[0m\u001b[0mi\u001b[0m\u001b[1;33m,\u001b[0m \u001b[0marr\u001b[0m \u001b[1;33m-\u001b[0m \u001b[1;36m1\u001b[0m\u001b[1;33m)\u001b[0m\u001b[1;33m:\u001b[0m\u001b[1;33m\u001b[0m\u001b[1;33m\u001b[0m\u001b[0m\n\u001b[0m\u001b[0;32m      9\u001b[0m     \u001b[0mres\u001b[0m \u001b[1;33m=\u001b[0m \u001b[0madd_func\u001b[0m\u001b[1;33m(\u001b[0m\u001b[0marr\u001b[0m\u001b[1;33m[\u001b[0m\u001b[0mi\u001b[0m\u001b[1;33m]\u001b[0m\u001b[1;33m,\u001b[0m \u001b[0marr\u001b[0m\u001b[1;33m[\u001b[0m\u001b[0mi\u001b[0m \u001b[1;33m+\u001b[0m \u001b[1;36m1\u001b[0m\u001b[1;33m]\u001b[0m\u001b[1;33m)\u001b[0m\u001b[1;33m\u001b[0m\u001b[1;33m\u001b[0m\u001b[0m\n\u001b[0;32m     10\u001b[0m \u001b[1;33m\u001b[0m\u001b[0m\n",
      "\u001b[1;31mTypeError\u001b[0m: unsupported operand type(s) for -: 'list' and 'int'"
     ]
    }
   ],
   "source": [
    "def add_func(a,b):\n",
    "    sum_ = a + b\n",
    "    return sum_\n",
    "\n",
    "arr = [1,2,3,4,5]\n",
    "i = 0\n",
    "\n",
    "for i in range(i, arr - 1):\n",
    "    res = add_func(arr[i], arr[i + 1])\n",
    "\n",
    "print(res)"
   ]
  },
  {
   "cell_type": "code",
   "execution_count": 60,
   "metadata": {},
   "outputs": [],
   "source": [
    "add_func?"
   ]
  },
  {
   "cell_type": "code",
   "execution_count": 82,
   "metadata": {},
   "outputs": [
    {
     "name": "stdout",
     "output_type": "stream",
     "text": [
      "120\n"
     ]
    }
   ],
   "source": [
    "n = 5\n",
    "sum = 1\n",
    "\n",
    "for i in range(n, 0, -1):\n",
    "    sum = sum * i\n",
    "\n",
    "print(sum)"
   ]
  },
  {
   "cell_type": "code",
   "execution_count": 191,
   "metadata": {},
   "outputs": [
    {
     "name": "stdout",
     "output_type": "stream",
     "text": [
      "i value is 0\n",
      "j value is 0\n",
      "i value is 1\n",
      "j value is 0\n",
      "j value is 1\n",
      "i value is 2\n",
      "j value is 0\n",
      "j value is 1\n",
      "j value is 2\n",
      "i value is 3\n",
      "j value is 0\n",
      "j value is 1\n",
      "j value is 2\n",
      "j value is 3\n",
      "i value is 4\n",
      "j value is 0\n",
      "j value is 1\n",
      "j value is 2\n",
      "j value is 3\n",
      "j value is 4\n"
     ]
    }
   ],
   "source": [
    "n = 5\n",
    "res = 0\n",
    "for i in range(n):\n",
    "    print(\"i value is \" + str(i))\n",
    "    for j in range(i+1):\n",
    "        print(\"j value is \" + str(j))"
   ]
  },
  {
   "cell_type": "code",
   "execution_count": 142,
   "metadata": {},
   "outputs": [
    {
     "name": "stdout",
     "output_type": "stream",
     "text": [
      "\n",
      "* \n",
      "* * \n",
      "* * * \n",
      "* * * * \n",
      "* * * * * \n",
      "* * * * * * \n",
      "* * * * * * * \n",
      "* * * * * * * * \n",
      "* * * * * * * * * \n",
      "* * * * * * * * \n",
      "* * * * * * * \n",
      "* * * * * * \n",
      "* * * * * \n",
      "* * * * \n",
      "* * * \n",
      "* * \n",
      "* \n",
      "\n"
     ]
    }
   ],
   "source": [
    "num_star = 10\n",
    " \n",
    "for i in range(num_star):\n",
    "    for j in range(0, i):\n",
    "        print('* ',end= '')\n",
    "    print()\n",
    "    \n",
    "for i in range(num_star-1, 0, -1):\n",
    "    for j in range(i-1,0, -1):\n",
    "        print('* ', end='')\n",
    "    print()"
   ]
  },
  {
   "cell_type": "code",
   "execution_count": 176,
   "metadata": {},
   "outputs": [
    {
     "name": "stdout",
     "output_type": "stream",
     "text": [
      "      * \n",
      "     * * \n",
      "    * * * \n",
      "   * * * * \n",
      "  * * * * * \n"
     ]
    }
   ],
   "source": [
    "for i in range(5):\n",
    "    for s in range(-6 , -i):\n",
    "        print(\" \", end= \"\")\n",
    "    for j in range(i+1):\n",
    "        print(\"* \", end=\"\")\n",
    "    print()\n",
    "        "
   ]
  },
  {
   "cell_type": "code",
   "execution_count": 193,
   "metadata": {},
   "outputs": [
    {
     "name": "stdout",
     "output_type": "stream",
     "text": [
      "     * \n",
      "    * * \n",
      "   * * * \n",
      "  * * * * \n",
      " * * * * * \n"
     ]
    }
   ],
   "source": [
    "num_star = 5\n",
    "for i in range(num_star):\n",
    "    for s in range(-numstar, -i):\n",
    "        print(\" \", end=\"\")\n",
    "    for j in range(i+1):\n",
    "        print(\"* \", end=\"\")\n",
    "    print()"
   ]
  },
  {
   "cell_type": "code",
   "execution_count": 212,
   "metadata": {},
   "outputs": [
    {
     "name": "stdout",
     "output_type": "stream",
     "text": [
      "* * * * * \n",
      " * * * * \n",
      "  * * * \n",
      "   * * \n",
      "    * \n"
     ]
    }
   ],
   "source": [
    "num_star = 5\n",
    "\n",
    "for i in range(num_star):\n",
    "    for s in range(i):\n",
    "        print(\" \", end = \"\")\n",
    "    for j in range(i, num_star):\n",
    "        print(\"* \", end=\"\")\n",
    "    print()"
   ]
  },
  {
   "cell_type": "code",
   "execution_count": 248,
   "metadata": {},
   "outputs": [
    {
     "name": "stdout",
     "output_type": "stream",
     "text": [
      "Enter the number of stars30\n",
      "                              * \n",
      "                             * * \n",
      "                            * * * \n",
      "                           * * * * \n",
      "                          * * * * * \n",
      "                         * * * * * * \n",
      "                        * * * * * * * \n",
      "                       * * * * * * * * \n",
      "                      * * * * * * * * * \n",
      "                     * * * * * * * * * * \n",
      "                    * * * * * * * * * * * \n",
      "                   * * * * * * * * * * * * \n",
      "                  * * * * * * * * * * * * * \n",
      "                 * * * * * * * * * * * * * * \n",
      "                * * * * * * * * * * * * * * * \n",
      "               * * * * * * * * * * * * * * * * \n",
      "              * * * * * * * * * * * * * * * * * \n",
      "             * * * * * * * * * * * * * * * * * * \n",
      "            * * * * * * * * * * * * * * * * * * * \n",
      "           * * * * * * * * * * * * * * * * * * * * \n",
      "          * * * * * * * * * * * * * * * * * * * * * \n",
      "         * * * * * * * * * * * * * * * * * * * * * * \n",
      "        * * * * * * * * * * * * * * * * * * * * * * * \n",
      "       * * * * * * * * * * * * * * * * * * * * * * * * \n",
      "      * * * * * * * * * * * * * * * * * * * * * * * * * \n",
      "     * * * * * * * * * * * * * * * * * * * * * * * * * * \n",
      "    * * * * * * * * * * * * * * * * * * * * * * * * * * * \n",
      "   * * * * * * * * * * * * * * * * * * * * * * * * * * * * \n",
      "  * * * * * * * * * * * * * * * * * * * * * * * * * * * * * \n",
      " * * * * * * * * * * * * * * * * * * * * * * * * * * * * * * \n",
      "  * * * * * * * * * * * * * * * * * * * * * * * * * * * * * \n",
      "   * * * * * * * * * * * * * * * * * * * * * * * * * * * * \n",
      "    * * * * * * * * * * * * * * * * * * * * * * * * * * * \n",
      "     * * * * * * * * * * * * * * * * * * * * * * * * * * \n",
      "      * * * * * * * * * * * * * * * * * * * * * * * * * \n",
      "       * * * * * * * * * * * * * * * * * * * * * * * * \n",
      "        * * * * * * * * * * * * * * * * * * * * * * * \n",
      "         * * * * * * * * * * * * * * * * * * * * * * \n",
      "          * * * * * * * * * * * * * * * * * * * * * \n",
      "           * * * * * * * * * * * * * * * * * * * * \n",
      "            * * * * * * * * * * * * * * * * * * * \n",
      "             * * * * * * * * * * * * * * * * * * \n",
      "              * * * * * * * * * * * * * * * * * \n",
      "               * * * * * * * * * * * * * * * * \n",
      "                * * * * * * * * * * * * * * * \n",
      "                 * * * * * * * * * * * * * * \n",
      "                  * * * * * * * * * * * * * \n",
      "                   * * * * * * * * * * * * \n",
      "                    * * * * * * * * * * * \n",
      "                     * * * * * * * * * * \n",
      "                      * * * * * * * * * \n",
      "                       * * * * * * * * \n",
      "                        * * * * * * * \n",
      "                         * * * * * * \n",
      "                          * * * * * \n",
      "                           * * * * \n",
      "                            * * * \n",
      "                             * * \n",
      "                              * \n",
      "                               \n"
     ]
    }
   ],
   "source": [
    "num_star = int(input(\"Enter the number of stars\"))\n",
    "for i in range(num_star):\n",
    "    for s in range(-num_star, -i):\n",
    "        print(\" \", end=\"\")\n",
    "    for j in range(i+1):\n",
    "        print(\"* \", end=\"\")\n",
    "    print()\n",
    "    \n",
    "for i in range(num_star):\n",
    "    for s in range(i+2):\n",
    "        print(\" \", end = \"\")\n",
    "    for j in range(i, num_star-1):\n",
    "        print(\"* \", end=\"\")\n",
    "    print()"
   ]
  },
  {
   "cell_type": "code",
   "execution_count": 260,
   "metadata": {},
   "outputs": [
    {
     "name": "stdout",
     "output_type": "stream",
     "text": [
      "Enter the number of stars5\n",
      "     * \n",
      "    * * \n",
      "   * * * \n",
      "  * * * * \n",
      " * * * * * \n"
     ]
    }
   ],
   "source": [
    "num_star = int(input(\"Enter the number of stars\"))\n",
    "for i in range(num_star):\n",
    "    for s in range(-num_star, -i):\n",
    "        print(\" \", end=\"\")\n",
    "    for j in range(i+1):\n",
    "        print(\"* \", end=\"\")\n",
    "    print()\n",
    "    "
   ]
  },
  {
   "cell_type": "code",
   "execution_count": 267,
   "metadata": {},
   "outputs": [
    {
     "name": "stdout",
     "output_type": "stream",
     "text": [
      "Enter your choice per below\n",
      "---------------------------\n",
      "1 for Upper Half pyramid\n",
      "2 for Lower Half pyramid\n",
      "3 for full Half pyramid\n",
      "3\n",
      "Enter the number of stars that you want\n",
      "---------------------------------------\n",
      "41\n",
      "                                         * \n",
      "                                        * * \n",
      "                                       * * * \n",
      "                                      * * * * \n",
      "                                     * * * * * \n",
      "                                    * * * * * * \n",
      "                                   * * * * * * * \n",
      "                                  * * * * * * * * \n",
      "                                 * * * * * * * * * \n",
      "                                * * * * * * * * * * \n",
      "                               * * * * * * * * * * * \n",
      "                              * * * * * * * * * * * * \n",
      "                             * * * * * * * * * * * * * \n",
      "                            * * * * * * * * * * * * * * \n",
      "                           * * * * * * * * * * * * * * * \n",
      "                          * * * * * * * * * * * * * * * * \n",
      "                         * * * * * * * * * * * * * * * * * \n",
      "                        * * * * * * * * * * * * * * * * * * \n",
      "                       * * * * * * * * * * * * * * * * * * * \n",
      "                      * * * * * * * * * * * * * * * * * * * * \n",
      "                     * * * * * * * * * * * * * * * * * * * * * \n",
      "                    * * * * * * * * * * * * * * * * * * * * * * \n",
      "                   * * * * * * * * * * * * * * * * * * * * * * * \n",
      "                  * * * * * * * * * * * * * * * * * * * * * * * * \n",
      "                 * * * * * * * * * * * * * * * * * * * * * * * * * \n",
      "                * * * * * * * * * * * * * * * * * * * * * * * * * * \n",
      "               * * * * * * * * * * * * * * * * * * * * * * * * * * * \n",
      "              * * * * * * * * * * * * * * * * * * * * * * * * * * * * \n",
      "             * * * * * * * * * * * * * * * * * * * * * * * * * * * * * \n",
      "            * * * * * * * * * * * * * * * * * * * * * * * * * * * * * * \n",
      "           * * * * * * * * * * * * * * * * * * * * * * * * * * * * * * * \n",
      "          * * * * * * * * * * * * * * * * * * * * * * * * * * * * * * * * \n",
      "         * * * * * * * * * * * * * * * * * * * * * * * * * * * * * * * * * \n",
      "        * * * * * * * * * * * * * * * * * * * * * * * * * * * * * * * * * * \n",
      "       * * * * * * * * * * * * * * * * * * * * * * * * * * * * * * * * * * * \n",
      "      * * * * * * * * * * * * * * * * * * * * * * * * * * * * * * * * * * * * \n",
      "     * * * * * * * * * * * * * * * * * * * * * * * * * * * * * * * * * * * * * \n",
      "    * * * * * * * * * * * * * * * * * * * * * * * * * * * * * * * * * * * * * * \n",
      "   * * * * * * * * * * * * * * * * * * * * * * * * * * * * * * * * * * * * * * * \n",
      "  * * * * * * * * * * * * * * * * * * * * * * * * * * * * * * * * * * * * * * * * \n",
      " * * * * * * * * * * * * * * * * * * * * * * * * * * * * * * * * * * * * * * * * * \n",
      "  * * * * * * * * * * * * * * * * * * * * * * * * * * * * * * * * * * * * * * * * \n",
      "   * * * * * * * * * * * * * * * * * * * * * * * * * * * * * * * * * * * * * * * \n",
      "    * * * * * * * * * * * * * * * * * * * * * * * * * * * * * * * * * * * * * * \n",
      "     * * * * * * * * * * * * * * * * * * * * * * * * * * * * * * * * * * * * * \n",
      "      * * * * * * * * * * * * * * * * * * * * * * * * * * * * * * * * * * * * \n",
      "       * * * * * * * * * * * * * * * * * * * * * * * * * * * * * * * * * * * \n",
      "        * * * * * * * * * * * * * * * * * * * * * * * * * * * * * * * * * * \n",
      "         * * * * * * * * * * * * * * * * * * * * * * * * * * * * * * * * * \n",
      "          * * * * * * * * * * * * * * * * * * * * * * * * * * * * * * * * \n",
      "           * * * * * * * * * * * * * * * * * * * * * * * * * * * * * * * \n",
      "            * * * * * * * * * * * * * * * * * * * * * * * * * * * * * * \n",
      "             * * * * * * * * * * * * * * * * * * * * * * * * * * * * * \n",
      "              * * * * * * * * * * * * * * * * * * * * * * * * * * * * \n",
      "               * * * * * * * * * * * * * * * * * * * * * * * * * * * \n",
      "                * * * * * * * * * * * * * * * * * * * * * * * * * * \n",
      "                 * * * * * * * * * * * * * * * * * * * * * * * * * \n",
      "                  * * * * * * * * * * * * * * * * * * * * * * * * \n",
      "                   * * * * * * * * * * * * * * * * * * * * * * * \n",
      "                    * * * * * * * * * * * * * * * * * * * * * * \n",
      "                     * * * * * * * * * * * * * * * * * * * * * \n",
      "                      * * * * * * * * * * * * * * * * * * * * \n",
      "                       * * * * * * * * * * * * * * * * * * * \n",
      "                        * * * * * * * * * * * * * * * * * * \n",
      "                         * * * * * * * * * * * * * * * * * \n",
      "                          * * * * * * * * * * * * * * * * \n",
      "                           * * * * * * * * * * * * * * * \n",
      "                            * * * * * * * * * * * * * * \n",
      "                             * * * * * * * * * * * * * \n",
      "                              * * * * * * * * * * * * \n",
      "                               * * * * * * * * * * * \n",
      "                                * * * * * * * * * * \n",
      "                                 * * * * * * * * * \n",
      "                                  * * * * * * * * \n",
      "                                   * * * * * * * \n",
      "                                    * * * * * * \n",
      "                                     * * * * * \n",
      "                                      * * * * \n",
      "                                       * * * \n",
      "                                        * * \n",
      "                                         * \n",
      "                                          \n"
     ]
    }
   ],
   "source": [
    "def py_choice(n, num_star):\n",
    "    if n ==1:\n",
    "        for i in range(num_star):\n",
    "            for s in range(-num_star, -i):\n",
    "                print(\" \", end=\"\")\n",
    "            for j in range(i+1):\n",
    "                print(\"* \", end=\"\")\n",
    "            print()\n",
    "        \n",
    "    elif n ==2:\n",
    "        for i in range(num_star):\n",
    "            for s in range(i+2):\n",
    "                print(\" \", end = \"\")\n",
    "            for j in range(i, num_star-1):\n",
    "                print(\"* \", end=\"\")\n",
    "            print()\n",
    "        \n",
    "    elif n ==3:\n",
    "        for i in range(num_star):\n",
    "            for s in range(-num_star, -i):\n",
    "                print(\" \", end=\"\")\n",
    "            for j in range(i+1):\n",
    "                print(\"* \", end=\"\")\n",
    "            print()\n",
    "    \n",
    "        for i in range(num_star):\n",
    "            for s in range(i+2):\n",
    "                print(\" \", end = \"\")\n",
    "            for j in range(i, num_star-1):\n",
    "                print(\"* \", end=\"\")\n",
    "            print()\n",
    "    else:\n",
    "        print(\"Invalid choice entered\")\n",
    "        \n",
    "print(\"Enter your choice per below\")\n",
    "print(\"---------------------------\")\n",
    "print(\"1 for Upper Half pyramid\")\n",
    "print(\"2 for Lower Half pyramid\")\n",
    "print(\"3 for full Half pyramid\")\n",
    "\n",
    "choice = int(input())\n",
    "\n",
    "print(\"Enter the number of stars that you want\")\n",
    "print(\"---------------------------------------\")\n",
    "num_stars = int(input())\n",
    "\n",
    "py_choice(choice,num_stars)"
   ]
  },
  {
   "cell_type": "code",
   "execution_count": 301,
   "metadata": {},
   "outputs": [
    {
     "name": "stdout",
     "output_type": "stream",
     "text": [
      "\n",
      "1 \n",
      "2 3 \n",
      "4 5 6 \n",
      "7 8 9 10 \n",
      "11 12 13 14 15 \n"
     ]
    }
   ],
   "source": [
    "## Prints the sequence of rows\n",
    "\n",
    "number = 5\n",
    "k = 0\n",
    "for i in range(number+1):\n",
    "    for j in range(i):\n",
    "        k = k+1\n",
    "        print(k, end=' ')\n",
    "    print()"
   ]
  },
  {
   "cell_type": "code",
   "execution_count": 304,
   "metadata": {},
   "outputs": [
    {
     "name": "stdout",
     "output_type": "stream",
     "text": [
      "\n",
      "0 \n",
      "0 1 \n",
      "0 1 2 \n",
      "0 1 2 3 \n",
      "0 1 2 3 4 \n"
     ]
    }
   ],
   "source": [
    "## Prints the sequence of rows -2\n",
    "\n",
    "num = 5\n",
    "\n",
    "for i in range(num+1):\n",
    "    for j in range(i):\n",
    "        print(j, end = ' ')\n",
    "    print()"
   ]
  },
  {
   "cell_type": "code",
   "execution_count": 305,
   "metadata": {},
   "outputs": [
    {
     "name": "stdout",
     "output_type": "stream",
     "text": [
      "\n",
      "1 \n",
      "2 2 \n",
      "3 3 3 \n",
      "4 4 4 4 \n",
      "5 5 5 5 5 \n"
     ]
    }
   ],
   "source": [
    "## Prints the sequence of rows -2\n",
    "\n",
    "num = 5\n",
    "\n",
    "for i in range(num+1):\n",
    "    for j in range(i):\n",
    "        print(i, end = ' ')\n",
    "    print()"
   ]
  },
  {
   "cell_type": "code",
   "execution_count": 308,
   "metadata": {},
   "outputs": [],
   "source": [
    "a = chr(65)"
   ]
  },
  {
   "cell_type": "code",
   "execution_count": 309,
   "metadata": {},
   "outputs": [
    {
     "data": {
      "text/plain": [
       "'A'"
      ]
     },
     "execution_count": 309,
     "metadata": {},
     "output_type": "execute_result"
    }
   ],
   "source": [
    "a"
   ]
  },
  {
   "cell_type": "code",
   "execution_count": 3,
   "metadata": {},
   "outputs": [
    {
     "name": "stdout",
     "output_type": "stream",
     "text": [
      "\n",
      "A \n",
      "B C \n",
      "D E F \n",
      "G H I J \n",
      "K L M N O \n",
      "P Q R S T U \n"
     ]
    }
   ],
   "source": [
    "## Prints the sequence of rows - alphabets\n",
    "\n",
    "number = 6\n",
    "k = 64\n",
    "for i in range(number+1):\n",
    "    for j in range(i):\n",
    "        k = k+1\n",
    "        print(chr(k), end=' ')\n",
    "    print()"
   ]
  },
  {
   "cell_type": "code",
   "execution_count": 14,
   "metadata": {},
   "outputs": [
    {
     "name": "stdout",
     "output_type": "stream",
     "text": [
      "Enter your namelASDLIJASFD\n",
      " l\n",
      " lA\n",
      " lAS\n",
      " lASD\n",
      " lASDL\n",
      " lASDLI\n",
      " lASDLIJ\n",
      " lASDLIJA\n",
      " lASDLIJAS\n",
      " lASDLIJASF\n",
      " lASDLIJASFD\n"
     ]
    }
   ],
   "source": [
    "str = input(\"Enter your name\")\n",
    "x = ' '\n",
    "\n",
    "for i in str:\n",
    "    x = x+i\n",
    "    print(x)\n"
   ]
  },
  {
   "cell_type": "code",
   "execution_count": null,
   "metadata": {},
   "outputs": [],
   "source": []
  }
 ],
 "metadata": {
  "kernelspec": {
   "display_name": "Python 3",
   "language": "python",
   "name": "python3"
  },
  "language_info": {
   "codemirror_mode": {
    "name": "ipython",
    "version": 3
   },
   "file_extension": ".py",
   "mimetype": "text/x-python",
   "name": "python",
   "nbconvert_exporter": "python",
   "pygments_lexer": "ipython3",
   "version": "3.8.5"
  }
 },
 "nbformat": 4,
 "nbformat_minor": 4
}
